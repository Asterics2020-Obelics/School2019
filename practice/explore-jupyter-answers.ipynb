{
 "cells": [
  {
   "cell_type": "markdown",
   "metadata": {},
   "source": [
    "# Exploring the Jupyter notebook, version with answers"
   ]
  },
  {
   "cell_type": "markdown",
   "metadata": {},
   "source": [
    "In this notebook, we borrow quite heavily from a similar course: [Python4AstronomersAndParticlePhysicists](https://github.com/Python4AstronomersAndParticlePhysicists/PythonWorkshop-ICE/blob/master/notebooks/03_02_TipsAndTricks.ipynb). Those parts where used under the [MIT license](LICENSE-Python4AstronomersAndParticlePhysicists)."
   ]
  },
  {
   "cell_type": "markdown",
   "metadata": {},
   "source": [
    "## About Jupyter notebook"
   ]
  },
  {
   "cell_type": "markdown",
   "metadata": {},
   "source": [
    "If you're not comfortable with the Jupyter notebook environment, now is the time to learn. The interface has two states (much like e.g. `vi`): a *command mode* and an *edit mode*. "
   ]
  },
  {
   "cell_type": "markdown",
   "metadata": {},
   "source": [
    "If you highlight a code cell, you can press **Shift-Enter** to evaluate it in python. If you press **Alt-Enter**, the cell will be evaluated and a new cell is inserted below it."
   ]
  },
  {
   "cell_type": "markdown",
   "metadata": {},
   "source": [
    "**Exercise**: Fix and execute the cell below."
   ]
  },
  {
   "cell_type": "code",
   "execution_count": 18,
   "metadata": {},
   "outputs": [
    {
     "name": "stdout",
     "output_type": "stream",
     "text": [
      "The quick brown fox jumps over the lazy dog\n"
     ]
    }
   ],
   "source": [
    "pangram = \"The quick brown fox jumps over the lazy dog\"\n",
    "print(pangram)"
   ]
  },
  {
   "cell_type": "markdown",
   "metadata": {},
   "source": [
    "You can evaluate all the commands already present in this notebook. To understand the commands, you can try to predict the outcome of a statement before evaluating it. Also, you are encouraged to change the commands.\n",
    "\n",
    "  * To go to edit mode, press Enter or double click a cell.\n",
    "  * To go back to command mode, press Esc or single click another cell."
   ]
  },
  {
   "cell_type": "markdown",
   "metadata": {},
   "source": [
    "Most useful commands in command mode:\n",
    " * **a** for adding a cell above\n",
    " * **b** for adding a cell below\n",
    " * **m** change a cell into a markdown cell\n",
    " * **y** change a cell into a code cell\n",
    " * **x** cut a cell\n",
    " * **v** paste a cell below"
   ]
  },
  {
   "cell_type": "markdown",
   "metadata": {},
   "source": [
    "**Exercise**: Insert a new markdown cell below this one and evaluate it. See what happens if you include some $\\LaTeX$ (e.g. `$\\sum_{i=0}^\\infty \\frac{1}{i^2} = \\frac{\\pi^2}{6}$`. Evaluate the cell with Shift-Enter to see the rendered output. (Bonus exercise: edit this equation to make it correct.)"
   ]
  },
  {
   "cell_type": "markdown",
   "metadata": {},
   "source": [
    "Note that the code cells are evaluated in the order you evaluate them, so not necessarily from top to bottom."
   ]
  },
  {
   "cell_type": "markdown",
   "metadata": {},
   "source": [
    "**Exercise**: Evaluate the cells below (don't change them) to have the second cell output `42`.\n",
    "\n",
    "**Answer**: Use the fact that 4 + 4×7 + 2×5 = 42."
   ]
  },
  {
   "cell_type": "code",
   "execution_count": 6,
   "metadata": {},
   "outputs": [],
   "source": [
    "a = 4"
   ]
  },
  {
   "cell_type": "code",
   "execution_count": 13,
   "metadata": {},
   "outputs": [
    {
     "name": "stdout",
     "output_type": "stream",
     "text": [
      "42\n"
     ]
    }
   ],
   "source": [
    "print(a)"
   ]
  },
  {
   "cell_type": "code",
   "execution_count": 12,
   "metadata": {},
   "outputs": [],
   "source": [
    "a += 5"
   ]
  },
  {
   "cell_type": "code",
   "execution_count": 10,
   "metadata": {},
   "outputs": [],
   "source": [
    "a += 7"
   ]
  },
  {
   "cell_type": "markdown",
   "metadata": {},
   "source": [
    "We'll remove the variable `a` from the namespace to prevent confusion if we'll use a variable named `a` further on."
   ]
  },
  {
   "cell_type": "code",
   "execution_count": 14,
   "metadata": {},
   "outputs": [],
   "source": [
    "del a"
   ]
  },
  {
   "cell_type": "markdown",
   "metadata": {},
   "source": [
    "## Initialize and check environment"
   ]
  },
  {
   "cell_type": "code",
   "execution_count": 15,
   "metadata": {},
   "outputs": [],
   "source": [
    "import sys"
   ]
  },
  {
   "cell_type": "code",
   "execution_count": 16,
   "metadata": {},
   "outputs": [
    {
     "data": {
      "text/plain": [
       "'/anaconda/envs/school19/bin/python'"
      ]
     },
     "execution_count": 16,
     "metadata": {},
     "output_type": "execute_result"
    }
   ],
   "source": [
    "sys.executable"
   ]
  },
  {
   "cell_type": "markdown",
   "metadata": {},
   "source": [
    "The above line should mention that you're running python from the `school19` environment"
   ]
  },
  {
   "cell_type": "markdown",
   "metadata": {},
   "source": [
    "## Plotting inside notebooks"
   ]
  },
  {
   "cell_type": "code",
   "execution_count": 11,
   "metadata": {},
   "outputs": [],
   "source": [
    "import matplotlib.pyplot as plt\n",
    "%matplotlib inline"
   ]
  },
  {
   "cell_type": "code",
   "execution_count": 12,
   "metadata": {},
   "outputs": [],
   "source": [
    "import numpy as np"
   ]
  },
  {
   "cell_type": "code",
   "execution_count": 13,
   "metadata": {},
   "outputs": [
    {
     "data": {
      "image/png": "[encoded data removed]",
      "text/plain": [
       "<Figure size 432x288 with 1 Axes>"
      ]
     },
     "metadata": {
      "needs_background": "light"
     },
     "output_type": "display_data"
    }
   ],
   "source": [
    "x = np.linspace(0, 100)\n",
    "plt.plot(x, np.sin(x), 'b.');"
   ]
  },
  {
   "cell_type": "markdown",
   "metadata": {},
   "source": [
    "**Exercise**: explain why we don't see a (one) sine here; fix this."
   ]
  },
  {
   "cell_type": "markdown",
   "metadata": {},
   "source": [
    "**Answer**: you're seeing [aliasing](https://en.wikipedia.org/wiki/Aliasing#Sampling_sinusoidal_functions). Increase the number of points in `x`, or plot from 0 to 10 instead."
   ]
  },
  {
   "cell_type": "code",
   "execution_count": 20,
   "metadata": {},
   "outputs": [
    {
     "data": {
      "image/png": "[encoded data removed]",
      "text/plain": [
       "<Figure size 432x288 with 1 Axes>"
      ]
     },
     "metadata": {
      "needs_background": "light"
     },
     "output_type": "display_data"
    }
   ],
   "source": [
    "x = np.linspace(0, 100, 1000)\n",
    "plt.plot(x, np.sin(x), 'b.');"
   ]
  },
  {
   "cell_type": "markdown",
   "metadata": {},
   "source": [
    "## Getting help"
   ]
  },
  {
   "cell_type": "markdown",
   "metadata": {},
   "source": [
    "Reading the documentation of well-documented code can be useful. In ipython and jupyter, a function's documentation can be read by appending a question mark:"
   ]
  },
  {
   "cell_type": "markdown",
   "metadata": {},
   "source": [
    "In jupyter, you can get this help as a popup window by typing the function, and then pressing Shift-Tab."
   ]
  },
  {
   "cell_type": "markdown",
   "metadata": {},
   "source": [
    "**Exercise**: read the docs of `np.sin` and try to use the `out` parameter."
   ]
  },
  {
   "cell_type": "code",
   "execution_count": null,
   "metadata": {},
   "outputs": [
    {
     "data": {
      "text/plain": [
       "array([ 0.        ,  0.20266794,  0.39692415,  0.57470604,  0.72863478,\n",
       "        0.85232157,  0.94063279,  0.98990308,  0.99808748,  0.96484631,\n",
       "        0.89155923,  0.78126802,  0.63855032,  0.46932961,  0.2806294 ,\n",
       "        0.08028167, -0.12339814, -0.32195632, -0.50715171, -0.67129779,\n",
       "       -0.80758169, -0.91034694, -0.97532829, -0.99982867, -0.9828312 ,\n",
       "       -0.92504137, -0.82885774, -0.6982724 , -0.53870529, -0.35677924,\n",
       "       -0.16004509,  0.04333173,  0.24491007,  0.43632343,  0.6096272 ,\n",
       "        0.75762842,  0.8741843 ,  0.9544572 ,  0.99511539,  0.99447137,\n",
       "        0.95255185,  0.8710967 ,  0.75348673,  0.60460332,  0.43062587,\n",
       "        0.23877532,  0.0370144 , -0.16628279, -0.36267843, -0.54402111])"
      ]
     },
     "execution_count": null,
     "metadata": {},
     "output_type": "execute_result"
    }
   ],
   "source": [
    "x = np.linspace(0, 10.)\n",
    "y = np.zeros_like(x)\n",
    "\n",
    "np.sin(x, y);\n",
    "y"
   ]
  },
  {
   "cell_type": "markdown",
   "metadata": {},
   "source": [
    "## Notebook / IPython magic"
   ]
  },
  {
   "cell_type": "markdown",
   "metadata": {},
   "source": [
    "The `%matplotlib inline` is a \"magic\" command for ipython. The following prefixes will do something useful:\n",
    " * `!`: execute a system command (through `os.system`)\n",
    " * `%`: execute a \"line magic\"\n",
    " * `%`: execute a \"cell magic\"\n",
    " * `?` or `??`: get help (or more help)"
   ]
  },
  {
   "cell_type": "markdown",
   "metadata": {},
   "source": [
    "The magic command `%quickref` should give you a quick reference; however it's not really quick. We'll try to list a few useful of these many commands."
   ]
  },
  {
   "cell_type": "markdown",
   "metadata": {},
   "source": [
    "**Exercise**: skim through the output of `%quickref` (or if you're in Jupyter Lab, `%lsmagic`), try to make a `%%html` cell."
   ]
  },
  {
   "cell_type": "code",
   "execution_count": 22,
   "metadata": {},
   "outputs": [
    {
     "data": {
      "text/html": [
       "<img src=\"//imgs.xkcd.com/comics/python.png\" title=\"I wrote 20 short programs in Python yesterday.  It was wonderful.  Perl, I'm leaving you.\" alt=\"Python\">\n"
      ],
      "text/plain": [
       "<IPython.core.display.HTML object>"
      ]
     },
     "metadata": {},
     "output_type": "display_data"
    }
   ],
   "source": [
    "%%html\n",
    "<img src=\"//imgs.xkcd.com/comics/python.png\" title=\"I wrote 20 short programs in Python yesterday.  It was wonderful.  Perl, I'm leaving you.\" alt=\"Python\">"
   ]
  },
  {
   "cell_type": "markdown",
   "metadata": {},
   "source": [
    "**Exercise**: delete the output of `%quickref` (but not the input cell that generated it)."
   ]
  },
  {
   "cell_type": "markdown",
   "metadata": {},
   "source": [
    "**Answer**: in Jupyter Lab, click the blue bar next to the output cell, choose \"Clear Output\". Or in the Edit menu, choose \"Clear output\"."
   ]
  },
  {
   "cell_type": "markdown",
   "metadata": {},
   "source": [
    "**Exercise**: view all variables that have been defined so far in this notebook with `%who`."
   ]
  },
  {
   "cell_type": "code",
   "execution_count": 23,
   "metadata": {},
   "outputs": [
    {
     "name": "stdout",
     "output_type": "stream",
     "text": [
      "np\t pangram\t plt\t sys\t x\t \n"
     ]
    }
   ],
   "source": [
    "%who"
   ]
  },
  {
   "cell_type": "markdown",
   "metadata": {},
   "source": [
    "## Comprehensions"
   ]
  },
  {
   "cell_type": "markdown",
   "metadata": {},
   "source": [
    "Python provides some \"compound data types\", such as:\n",
    "* list: ordered and mutable array of objects, `['abcd', 786 , 2.23, 'john', 70.2]`\n",
    "* tuple: immutable list, `('abcd', 786 , 2.23, 'john', 70.2)`\n",
    "* dictionary = mutable array of key-value pairs, `{'name': 'john', 'code': 6734, 'dept': 'sales'}`\n",
    "* set: unordered and mutable set of objects, `{1, 2., 'a'}`"
   ]
  },
  {
   "cell_type": "markdown",
   "metadata": {},
   "source": [
    "The difference between *mutable* and *immutable* is that mutable objects can be changed.\n",
    "\n",
    "Comprehensions provide a concise way of creating some of them (lists, dictionaries or sets). They do not necessarily improve performance with respect to traditional *for* loops. They do reduce the amount of code and make it more readable."
   ]
  },
  {
   "cell_type": "code",
   "execution_count": 19,
   "metadata": {},
   "outputs": [
    {
     "name": "stdout",
     "output_type": "stream",
     "text": [
      "ugly list = [0, 1, 4, 9, 16, 25, 36, 49, 64, 81]\n"
     ]
    }
   ],
   "source": [
    "N_SQUARES = 10\n",
    "\n",
    "# Don't do this!!!\n",
    "ugly_list = []\n",
    "for i in range(N_SQUARES):\n",
    "    ugly_list.append(i**2)\n",
    "\n",
    "print('ugly list = {}'.format(ugly_list))"
   ]
  },
  {
   "cell_type": "markdown",
   "metadata": {},
   "source": [
    "You can do the same in one line:"
   ]
  },
  {
   "cell_type": "code",
   "execution_count": 20,
   "metadata": {},
   "outputs": [
    {
     "name": "stdout",
     "output_type": "stream",
     "text": [
      "wonderful list = [0, 1, 4, 9, 16, 25, 36, 49, 64, 81]\n"
     ]
    }
   ],
   "source": [
    "wonderful_list = [ i**2 for i in range(N_SQUARES) ]\n",
    "print('wonderful list = {}'.format(wonderful_list))"
   ]
  },
  {
   "cell_type": "markdown",
   "metadata": {},
   "source": [
    "List comprehensions can contain `if` clauses after the `for` clause:"
   ]
  },
  {
   "cell_type": "code",
   "execution_count": 21,
   "metadata": {},
   "outputs": [],
   "source": [
    "even_list = [ i**2 for i in range(N_SQUARES) if i % 2 == 0]"
   ]
  },
  {
   "cell_type": "markdown",
   "metadata": {},
   "source": [
    "**Exercise**: Use a list comprehension to count the occurrences of all letters in the alphabet in the variable \"`pangram`\". The variable \"`pangram`\" should still be defined, otherwise define it again as \"The wizard quickly jinxed the gnomes before they vaporized.\" or some other pangram.\n",
    "**Hint**: use the `.count` method of the string."
   ]
  },
  {
   "cell_type": "code",
   "execution_count": 22,
   "metadata": {},
   "outputs": [],
   "source": [
    "import string\n",
    "alphabet = string.ascii_lowercase"
   ]
  },
  {
   "cell_type": "code",
   "execution_count": 23,
   "metadata": {},
   "outputs": [
    {
     "data": {
      "text/plain": [
       "[1, 1, 1, 1, 3, 1, 1, 2, 1, 1, 1, 1, 1, 1, 4, 1, 1, 2, 1, 1, 2, 1, 1, 1, 1, 1]"
      ]
     },
     "execution_count": 23,
     "metadata": {},
     "output_type": "execute_result"
    }
   ],
   "source": [
    "[pangram.count(letter) for letter in alphabet]"
   ]
  },
  {
   "cell_type": "markdown",
   "metadata": {},
   "source": [
    "A similar syntax as for list comprehensions can be used to create dictionaries:"
   ]
  },
  {
   "cell_type": "code",
   "execution_count": 24,
   "metadata": {},
   "outputs": [
    {
     "data": {
      "text/plain": [
       "{'a': 97, 'b': 98, 'c': 99, 'd': 100, 'e': 101, 'f': 102}"
      ]
     },
     "execution_count": 24,
     "metadata": {},
     "output_type": "execute_result"
    }
   ],
   "source": [
    "{letter: ord(letter) for letter in alphabet[:6]}"
   ]
  },
  {
   "cell_type": "markdown",
   "metadata": {},
   "source": [
    "**Exercise**: use a dict comprehension for the previous exercise to create a dict with the occurrences of all letters in `pangram`. Store it in `letter_count` (we'll use this later)."
   ]
  },
  {
   "cell_type": "code",
   "execution_count": 25,
   "metadata": {},
   "outputs": [],
   "source": [
    "letter_count = {letter: pangram.count(letter) for letter in alphabet}"
   ]
  },
  {
   "cell_type": "code",
   "execution_count": 26,
   "metadata": {},
   "outputs": [
    {
     "data": {
      "text/plain": [
       "{'a': 1,\n",
       " 'b': 1,\n",
       " 'c': 1,\n",
       " 'd': 1,\n",
       " 'e': 3,\n",
       " 'f': 1,\n",
       " 'g': 1,\n",
       " 'h': 2,\n",
       " 'i': 1,\n",
       " 'j': 1,\n",
       " 'k': 1,\n",
       " 'l': 1,\n",
       " 'm': 1,\n",
       " 'n': 1,\n",
       " 'o': 4,\n",
       " 'p': 1,\n",
       " 'q': 1,\n",
       " 'r': 2,\n",
       " 's': 1,\n",
       " 't': 1,\n",
       " 'u': 2,\n",
       " 'v': 1,\n",
       " 'w': 1,\n",
       " 'x': 1,\n",
       " 'y': 1,\n",
       " 'z': 1}"
      ]
     },
     "execution_count": 26,
     "metadata": {},
     "output_type": "execute_result"
    }
   ],
   "source": [
    "letter_count"
   ]
  },
  {
   "cell_type": "markdown",
   "metadata": {},
   "source": [
    "## String formatting"
   ]
  },
  {
   "cell_type": "markdown",
   "metadata": {},
   "source": [
    "The built-in `str` type contains a `format` method that allows complex variable substitutions and value formatting. To print something, use curly braces as placeholder for the data:"
   ]
  },
  {
   "cell_type": "code",
   "execution_count": 28,
   "metadata": {},
   "outputs": [
    {
     "data": {
      "text/plain": [
       "'The number forty-two is commonly represented as 42'"
      ]
     },
     "execution_count": 28,
     "metadata": {},
     "output_type": "execute_result"
    }
   ],
   "source": [
    "my_int = 42\n",
    "\"The number forty-two is commonly represented as {}\".format(my_int)"
   ]
  },
  {
   "cell_type": "markdown",
   "metadata": {},
   "source": [
    "Inside the curly braces, you can specify formatting rules after the colon:"
   ]
  },
  {
   "cell_type": "code",
   "execution_count": 29,
   "metadata": {},
   "outputs": [
    {
     "data": {
      "text/plain": [
       "'Integer with leading zeroes: 000042'"
      ]
     },
     "execution_count": 29,
     "metadata": {},
     "output_type": "execute_result"
    }
   ],
   "source": [
    "\"Integer with leading zeroes: {:06}\".format(42)"
   ]
  },
  {
   "cell_type": "code",
   "execution_count": 30,
   "metadata": {},
   "outputs": [
    {
     "data": {
      "text/plain": [
       "'Float with two decimal positions: 4.6667'"
      ]
     },
     "execution_count": 30,
     "metadata": {},
     "output_type": "execute_result"
    }
   ],
   "source": [
    "\"Float with two decimal positions: {:.4f}\".format(42/9)"
   ]
  },
  {
   "cell_type": "markdown",
   "metadata": {},
   "source": [
    "The part before the colon is reserved for specifing which argument you want to place there:"
   ]
  },
  {
   "cell_type": "code",
   "execution_count": 31,
   "metadata": {},
   "outputs": [
    {
     "data": {
      "text/plain": [
       "'Referenced by index: 3 and 42'"
      ]
     },
     "execution_count": 31,
     "metadata": {},
     "output_type": "execute_result"
    }
   ],
   "source": [
    "\"Referenced by index: {1} and {0}\".format(42, 3)"
   ]
  },
  {
   "cell_type": "markdown",
   "metadata": {},
   "source": [
    "If you omit indexes (don't do this if you have more than two things to print), the arguments are filled in in their order:"
   ]
  },
  {
   "cell_type": "code",
   "execution_count": 32,
   "metadata": {},
   "outputs": [
    {
     "data": {
      "text/plain": [
       "'Just two numbers: 42 and 3'"
      ]
     },
     "execution_count": 32,
     "metadata": {},
     "output_type": "execute_result"
    }
   ],
   "source": [
    "\"Just two numbers: {} and {}\".format(42, 3)"
   ]
  },
  {
   "cell_type": "code",
   "execution_count": 33,
   "metadata": {},
   "outputs": [
    {
     "data": {
      "text/plain": [
       "'Referenced by name: 42.000 and 3'"
      ]
     },
     "execution_count": 33,
     "metadata": {},
     "output_type": "execute_result"
    }
   ],
   "source": [
    "var1 = 3\n",
    "var2 = 42\n",
    "\"Referenced by name: {var2:.3f} and {var1:}\".format(var2=var2, var1=var1)"
   ]
  },
  {
   "cell_type": "markdown",
   "metadata": {},
   "source": [
    "A little trick: you can use the dict `locals` to fill in all variables in the current local namespace and refer to them by their name:"
   ]
  },
  {
   "cell_type": "code",
   "execution_count": 34,
   "metadata": {},
   "outputs": [
    {
     "data": {
      "text/plain": [
       "'Currently, we have 42.000 and The quick brown fox jumps over the lazy dog'"
      ]
     },
     "execution_count": 34,
     "metadata": {},
     "output_type": "execute_result"
    }
   ],
   "source": [
    "\"Currently, we have {var2:.3f} and {pangram}\".format(**locals())"
   ]
  },
  {
   "cell_type": "markdown",
   "metadata": {},
   "source": [
    "**Note**: as of python 3.6, you can use \"f-strings\" to do the same:"
   ]
  },
  {
   "cell_type": "code",
   "execution_count": 35,
   "metadata": {},
   "outputs": [
    {
     "data": {
      "text/plain": [
       "'Currently, we have 42.000 and The quick brown fox jumps over the lazy dog'"
      ]
     },
     "execution_count": 35,
     "metadata": {},
     "output_type": "execute_result"
    }
   ],
   "source": [
    "f\"Currently, we have {var2:.3f} and {pangram}\""
   ]
  },
  {
   "cell_type": "markdown",
   "metadata": {},
   "source": [
    "**Exercise**: create some code that creates a text-only barchart for the letter count in `letter_count`, i.e.\n",
    "```\n",
    "Letter count for the pangram \"The quick brown fox jumps over the lazy dog\"\n",
    "a: 1\n",
    "b: 1\n",
    "c: 1\n",
    "d: 02\n",
    "e: 003\n",
    "f: 1\n",
    "g: 1\n",
    "...\n",
    "```"
   ]
  },
  {
   "cell_type": "markdown",
   "metadata": {},
   "source": [
    "**Hint**: Use `{:0\"+str(count)+\"}\"` as the formatter for the count."
   ]
  },
  {
   "cell_type": "code",
   "execution_count": 33,
   "metadata": {},
   "outputs": [
    {
     "name": "stdout",
     "output_type": "stream",
     "text": [
      "Letter count for the pangram \"The quick brown fox jumps over the lazy dog\"\n",
      "a: 1\n",
      "b: 1\n",
      "c: 1\n",
      "d: 1\n",
      "e: 003\n",
      "f: 1\n",
      "g: 1\n",
      "h: 02\n",
      "i: 1\n",
      "j: 1\n",
      "k: 1\n",
      "l: 1\n",
      "m: 1\n",
      "n: 1\n",
      "o: 0004\n",
      "p: 1\n",
      "q: 1\n",
      "r: 02\n",
      "s: 1\n",
      "t: 1\n",
      "u: 02\n",
      "v: 1\n",
      "w: 1\n",
      "x: 1\n",
      "y: 1\n",
      "z: 1\n"
     ]
    }
   ],
   "source": [
    "print(\"Letter count for the pangram \\\"{}\\\"\".format(pangram))\n",
    "for letter, count in letter_count.items():\n",
    "    print((\"{}: {:0\" + str(count) + \"d}\").format(letter, count))"
   ]
  },
  {
   "cell_type": "markdown",
   "metadata": {},
   "source": [
    "## Args and kwargs"
   ]
  },
  {
   "cell_type": "markdown",
   "metadata": {},
   "source": [
    "The special syntax, `*` and `**` in function definitions is used to pass a variable number of arguments to a function. As an example, consider the following function:"
   ]
  },
  {
   "cell_type": "code",
   "execution_count": 37,
   "metadata": {},
   "outputs": [],
   "source": [
    "def multiply(*args, **kwargs):\n",
    "    \"\"\"Multiply all arguments\"\"\"\n",
    "    result = 1.\n",
    "    for arg in args:\n",
    "        result *= arg\n",
    "    \n",
    "    if \"add_two\" in kwargs and kwargs[\"add_two\"]:\n",
    "        result += 2\n",
    "    return result"
   ]
  },
  {
   "cell_type": "code",
   "execution_count": 38,
   "metadata": {},
   "outputs": [
    {
     "data": {
      "text/plain": [
       "(227+45j)"
      ]
     },
     "execution_count": 38,
     "metadata": {},
     "output_type": "execute_result"
    }
   ],
   "source": [
    "multiply(3, 5, 15+3j, add_two=True)"
   ]
  },
  {
   "cell_type": "markdown",
   "metadata": {},
   "source": [
    "A common use case of `*args` and `*kwargs` is to wrap a function and pass on all arguments and keyword arguments:"
   ]
  },
  {
   "cell_type": "code",
   "execution_count": 39,
   "metadata": {},
   "outputs": [],
   "source": [
    "def thrice_sin(*args, **kwargs):\n",
    "    \"\"\"Compute the sine with a range from -3 to +3\"\"\"\n",
    "    \n",
    "    return 3 * np.sin(*args, **kwargs)"
   ]
  },
  {
   "cell_type": "code",
   "execution_count": 40,
   "metadata": {},
   "outputs": [
    {
     "data": {
      "text/plain": [
       "3.0"
      ]
     },
     "execution_count": 40,
     "metadata": {},
     "output_type": "execute_result"
    }
   ],
   "source": [
    "thrice_sin(np.pi/2)"
   ]
  },
  {
   "cell_type": "markdown",
   "metadata": {},
   "source": [
    "Inside the function, `*args` is a tuple and `**kwargs` is a dict. The `*` and `**` also work the other way around: they can be used to pass dictionary as keyword-arguments and a tuple (or other iterable) as a fixed arguments (note that here, `options` undergoes a change from dict to arguments to dict again."
   ]
  },
  {
   "cell_type": "code",
   "execution_count": 41,
   "metadata": {},
   "outputs": [
    {
     "data": {
      "text/plain": [
       "26.0"
      ]
     },
     "execution_count": 41,
     "metadata": {},
     "output_type": "execute_result"
    }
   ],
   "source": [
    "options = {'add_two': True}\n",
    "nums = range(1, 5)\n",
    "multiply(*nums, **options)"
   ]
  },
  {
   "cell_type": "markdown",
   "metadata": {},
   "source": [
    "In functions, key-word arguments can also be given as positional arguments. Consider the following example:"
   ]
  },
  {
   "cell_type": "code",
   "execution_count": 42,
   "metadata": {},
   "outputs": [],
   "source": [
    "def add_numbers(a, b, clear_system=False):\n",
    "    \"Add two numbers; optionally clears the operating system\"\n",
    "    \n",
    "    if clear_system:\n",
    "        print(\"rm /\")\n",
    "        \n",
    "    return a+b"
   ]
  },
  {
   "cell_type": "markdown",
   "metadata": {},
   "source": [
    "**Exercise**: What is the output of `add_numbers(1, 2, 3)`?"
   ]
  },
  {
   "cell_type": "markdown",
   "metadata": {},
   "source": [
    "**Answer**: it prints `rm /`, because the value 3 is interpreted as the value for `clear_system`, and 3 is interpreted as `True`."
   ]
  },
  {
   "cell_type": "markdown",
   "metadata": {},
   "source": [
    "A way to force the keyword-arguments to be given as keywords (i.e. `clear_system=True`), is to catch all intermediate `*args`. Moreover, you can tell python there should not be any intermediate args by calling it `*` instead of `*args`:"
   ]
  },
  {
   "cell_type": "code",
   "execution_count": null,
   "metadata": {},
   "outputs": [],
   "source": [
    "def add_numbers(a, b, *, clear_system=False):\n",
    "    \"Add two numbers; optionally clears the operating system\"\n",
    "    \n",
    "    if clear_system:\n",
    "        print(\"rm /\")\n",
    "        \n",
    "    return a+b"
   ]
  },
  {
   "cell_type": "markdown",
   "metadata": {},
   "source": [
    "**Exercise**: modify this function to handle any number of (positional) arguments."
   ]
  },
  {
   "cell_type": "code",
   "execution_count": null,
   "metadata": {},
   "outputs": [],
   "source": [
    "def add_numbers(*args, clear_system=False):\n",
    "    \"Add two numbers; optionally clears the operating system\"\n",
    "    \n",
    "    if clear_system:\n",
    "        print(\"rm /\")\n",
    "        \n",
    "    return sum(args)"
   ]
  },
  {
   "cell_type": "code",
   "execution_count": null,
   "metadata": {},
   "outputs": [
    {
     "data": {
      "text/plain": [
       "1986"
      ]
     },
     "execution_count": null,
     "metadata": {},
     "output_type": "execute_result"
    }
   ],
   "source": [
    "add_numbers(4, 1, 1981)"
   ]
  },
  {
   "cell_type": "markdown",
   "metadata": {},
   "source": [
    "## Interact and interactive"
   ]
  },
  {
   "cell_type": "markdown",
   "metadata": {},
   "source": [
    "Now that we're in a browser, we can make use of some web technology (Javascript etc) to make our environment more interactive. This can be done by using `ipywidgets`. Read the [docs](http://ipywidgets.readthedocs.io/en/latest/examples/Using%20Interact.html) for more info. But just carry on below to start experimenting."
   ]
  },
  {
   "cell_type": "markdown",
   "metadata": {},
   "source": [
    "**Note**: the following may not work in Jupyter Lab because it is more restrictive to using JavaScript (for security reasons). Only for Jupyter Lab, you should activate the widgets. This is best done in a terminal:\n",
    "\n",
    "```\n",
    "conda activate school19\n",
    "conda install nodejs\n",
    "jupyter labextension install @jupyter-widgets/jupyterlab-manager\n",
    "```\n",
    "**If this does not work please use Jupyter Notebook for now** (Jupyter lab is still in beta, it cost me a day to get it working in my hybrid MacOS / homebrew / conda environment)."
   ]
  },
  {
   "cell_type": "code",
   "execution_count": 1,
   "metadata": {},
   "outputs": [],
   "source": [
    "from ipywidgets import interact"
   ]
  },
  {
   "cell_type": "code",
   "execution_count": 6,
   "metadata": {},
   "outputs": [],
   "source": [
    "def mult3(x, *, add_two=False):\n",
    "    \"\"\"Multiply a number by three, optionally adding the number two\"\"\"\n",
    "    result = 3 * x\n",
    "    if add_two:\n",
    "        result += 2\n",
    "    return result"
   ]
  },
  {
   "cell_type": "code",
   "execution_count": 7,
   "metadata": {},
   "outputs": [
    {
     "data": {
      "application/vnd.jupyter.widget-view+json": {
       "model_id": "dde55d521b3e4ca98c2d2e25e028f4b6",
       "version_major": 2,
       "version_minor": 0
      },
      "text/plain": [
       "interactive(children=(Dropdown(description='x', options=(1, 2, 3), value=1), Checkbox(value=True, description=…"
      ]
     },
     "metadata": {},
     "output_type": "display_data"
    }
   ],
   "source": [
    "interact(mult3, x=[1,2,3], add_two=True);"
   ]
  },
  {
   "cell_type": "markdown",
   "metadata": {},
   "source": [
    "**Exercise**: see what the user interface magic does if you pass a list as value for `x`. What happens if you change the default value to a string?"
   ]
  },
  {
   "cell_type": "markdown",
   "metadata": {},
   "source": [
    "**Exercise**: create a function that creates a plot of a translated sine, i.e. a plot of `np.sin(x-a)`, where `x` ranges from 0 to 10 and `a` is the argument of the function."
   ]
  },
  {
   "cell_type": "code",
   "execution_count": 14,
   "metadata": {},
   "outputs": [],
   "source": [
    "def plot_sin(a):\n",
    "    x = np.linspace(0, 10)\n",
    "    plt.plot(x, np.sin(x-a))"
   ]
  },
  {
   "cell_type": "code",
   "execution_count": 15,
   "metadata": {},
   "outputs": [
    {
     "data": {
      "image/png": "[encoded data removed]",
      "text/plain": [
       "<Figure size 432x288 with 1 Axes>"
      ]
     },
     "metadata": {
      "needs_background": "light"
     },
     "output_type": "display_data"
    }
   ],
   "source": [
    "plot_sin(0)"
   ]
  },
  {
   "cell_type": "markdown",
   "metadata": {},
   "source": [
    "**Exercise**: use `interact` to show this plot with a slider for the value of `a` (bonus: read the [docs](http://ipywidgets.readthedocs.io/en/latest/examples/Using%20Interact.html#Flickering-and-jumping-output) and remove the flickering)."
   ]
  },
  {
   "cell_type": "code",
   "execution_count": 16,
   "metadata": {},
   "outputs": [
    {
     "data": {
      "application/vnd.jupyter.widget-view+json": {
       "model_id": "3925fcc667af470682d4ff920431bed7",
       "version_major": 2,
       "version_minor": 0
      },
      "text/plain": [
       "interactive(children=(FloatSlider(value=3.141592653589793, description='a', max=6.283185307179586), Output(lay…"
      ]
     },
     "metadata": {},
     "output_type": "display_data"
    }
   ],
   "source": [
    "from ipywidgets import interactive\n",
    "w = interactive(plot_sin, a=(0., 2*np.pi))\n",
    "w.children[-1].layout.height = '260px'\n",
    "w"
   ]
  },
  {
   "cell_type": "markdown",
   "metadata": {},
   "source": [
    "## Acknowledgements\n",
    "![](./eu_asterics.png)\n",
    "\n",
    "This tutorial was supported by the H2020-Astronomy ESFRI and Research Infrastructure Cluster (Grant Agreement number: 653477)."
   ]
  }
 ],
 "metadata": {
  "kernelspec": {
   "display_name": "Python 3",
   "language": "python",
   "name": "python3"
  },
  "language_info": {
   "codemirror_mode": {
    "name": "ipython",
    "version": 3
   },
   "file_extension": ".py",
   "mimetype": "text/x-python",
   "name": "python",
   "nbconvert_exporter": "python",
   "pygments_lexer": "ipython3",
   "version": "3.6.8"
  }
 },
 "nbformat": 4,
 "nbformat_minor": 2
}
