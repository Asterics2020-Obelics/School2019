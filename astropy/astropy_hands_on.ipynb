{
 "cells": [
  {
   "cell_type": "markdown",
   "metadata": {},
   "source": [
    "# Hands On Astropy Tutorial \n",
    "**Tutors:** Axel Donath and Christoph Deil\n",
    "\n",
    "This hands-on tutorial gives an introduction and overview of the [Astropy](http://www.astropy.org/) Python package for Astronomy."
   ]
  },
  {
   "cell_type": "markdown",
   "metadata": {},
   "source": [
    "## Preface\n",
    "We recommend to follow this tutorial by **executing the code cells on your local machine**, along with the tutor. Every sub-topic we will cover in this tutorial will be concluded by a few **exercises with different levels of difficulty** (*easy*, *advanced* and *hard*). We will give you **~15-20 min to solve the exercises** and present a possible solution afterwards. In case we don't have time to show all the solutions or in the likely case that you don't manage to solve all of them: we provide a **sample solution** for all exercises in the [solutions notebook](astropy_hands_on_solutions.ipynb) you can look at **after the course**.   \n",
    "\n",
    "The estimated time for this tutorial is ~3 hours. Feel free to **interrupt at any time** to ask questions or **talk to the assisting tutors** when you encounter errors or the code doesn't work as expected. We have marked some of the sections that deal with more advanced topics as \"optional\". \n",
    "\n",
    "We're happy to receive any **feedback or questions** on the tutorial via mail to *axel.donath@mpi-hd.mpg.de* or using the \n",
    "repository's [issue tracker](https://github.com/Asterics2020-Obelics/School2019/issues). "
   ]
  },
  {
   "cell_type": "markdown",
   "metadata": {},
   "source": [
    "## What is Astropy?\n",
    "\n",
    "![](astropy_banner_96.png)\n",
    "\n",
    "    \"The Astropy Project is a community effort to develop a single core package for Astronomy in Python and foster interoperability between Python astronomy packages.\"\n",
    "\n",
    "\n",
    "The concept and structure of the package is decribed in more detail in the first [Astropy paper 2013](http://adsabs.harvard.edu/abs/2013A%26A...558A..33A). The development infrastructure\n",
    "and status of the v2.0 core package is described in the second [Astropy paper 2018](http://adsabs.harvard.edu/abs/2018AJ....156..123A).\n",
    "\n",
    "The **Astropy package is structured into several submodules** and we will cover (what we consider) the most important of them in the following order:\n",
    "\n",
    "1. [astropy.units](http://docs.astropy.org/en/stable/units/index.html) and in particular [astropy.units.Quantity](http://docs.astropy.org/en/stable/api/astropy.units.Quantity.html) to do astronomical calculations with units.\n",
    "\n",
    "2. [astropy.coordinates](http://docs.astropy.org/en/stable/coordinates/) and in particular the classes [SkyCoord](http://docs.astropy.org/en/stable/api/astropy.coordinates.SkyCoord.html) and [Angle](http://docs.astropy.org/en/stable/coordinates/angles.html) to handle astronomical sky positions, coordinate systems and coordinate transformations.\n",
    "\n",
    "3. [astropy.tables](http://docs.astropy.org/en/stable/table/index.html) and the [Table](http://docs.astropy.org/en/stable/api/astropy.table.Table.html) class to handle astronomical data tables.\n",
    "\n",
    "4. [astropy.io.fits](http://docs.astropy.org/en/stable/io/fits/index.html) to open and write data files in [FITS format](https://fits.gsfc.nasa.gov/fits_documentation.html).\n",
    "\n",
    "5. (optional) Plotting of astronomical sky images with [astropy.visualization.wcsaxes](http://docs.astropy.org/en/stable/visualization/wcsaxes/)\n",
    "\n",
    "In addition to the Astropy core package there is an infrastructure of  [Astropy affiliated packages](http://www.astropy.org/affiliated/) dedicated to specific fields of Astronomy or analysis tasks, such as:\n",
    "\n",
    "- [Astroplan](https://astroplan.readthedocs.io/en/latest/): observation planning\n",
    "- [Reproject](http://reproject.readthedocs.io/en/stable/): reprojection of sky images\n",
    "- [Regions](http://astropy-regions.readthedocs.io/en/latest/): handling of sky regions \n",
    "- [Photutils](https://photutils.readthedocs.io/en/stable/): source detection and photometry\n",
    "- [Gammapy](docs.gammapy.org): gamma-ray Astronomy data analysis\n",
    "- ...and many others, or maybe your package?\n",
    "\n",
    "\n",
    "## Other Ressources\n",
    "\n",
    "There are other ressources with Astropy tutorials, we can recommend:\n",
    "\n",
    "- [Learn.Astropy](http://learn.astropy.org) webpage with a lot of tutorial material.\n",
    "- [Astropy documentation](http://docs.astropy.org) webpage, with lots of small usage examples.\n",
    "- [Astropy Tutorials](https://github.com/astropy/astropy-tutorials) repository (same as linked on Learn.Astropy)\n",
    "- [Astropy workshop](https://github.com/astropy/astropy-workshop) held the AAS meeting 2019. \n",
    "- [STAK project](https://stak-notebooks.readthedocs.io/en/latest/) provided by STSci, with tutorial notebooks for typical IRAF analysis tasks. \n",
    "- [Webinar on Youtube](https://www.youtube.com/watch?v=YP42k3J08_o&list=PL7kL5D8ITGyV7zeT-oADweFKHsZNh3tKV) provided by Astronomy Data and Computing Services (ADACS). \n",
    "\n",
    "As the content that can be covered in this ~3 hour tutorial is very limited, we recommend to also **check-out the ressources** listed above after the school.\n",
    "\n",
    "See https://www.astropy.org/help.html for list of references how to **get help on Astropy**.\n",
    "\n",
    "If you would like to contribute to Astropy, please start by reading the [contribute page](http://www.astropy.org/contribute.html)\n",
    "on the website.\n",
    "\n",
    "Let's start with the setup and check of the notebook:"
   ]
  },
  {
   "cell_type": "markdown",
   "metadata": {},
   "source": [
    "## 0. Setup\n",
    "\n",
    "Check package versions. All examples should work with Astropy > 2.0 and Numpy > 1.11"
   ]
  },
  {
   "cell_type": "code",
   "execution_count": 1,
   "metadata": {},
   "outputs": [],
   "source": [
    "%matplotlib inline  \n",
    "import matplotlib.pyplot as plt"
   ]
  },
  {
   "cell_type": "code",
   "execution_count": 2,
   "metadata": {},
   "outputs": [
    {
     "name": "stdout",
     "output_type": "stream",
     "text": [
      "numpy: 1.16.2\n",
      "astropy: 3.1.1\n"
     ]
    }
   ],
   "source": [
    "import numpy as np\n",
    "import astropy\n",
    "print('numpy:', np.__version__)\n",
    "print('astropy:', astropy.__version__)"
   ]
  },
  {
   "cell_type": "markdown",
   "metadata": {},
   "source": [
    "## 1. Units and Quantities\n",
    "\n",
    "The [astropy.units]() subpackage provides functions and classes to handle physical quantities with units. \n",
    "\n",
    "### 1.1. Basics\n",
    "The recommended way to import the `astropy.units` submodule is: "
   ]
  },
  {
   "cell_type": "code",
   "execution_count": 3,
   "metadata": {},
   "outputs": [],
   "source": [
    "from astropy import units as u"
   ]
  },
  {
   "cell_type": "markdown",
   "metadata": {},
   "source": [
    "`Quantities` are created by multiplying any number with a unit object:"
   ]
  },
  {
   "cell_type": "code",
   "execution_count": 4,
   "metadata": {},
   "outputs": [
    {
     "name": "stdout",
     "output_type": "stream",
     "text": [
      "1.0 lyr\n"
     ]
    }
   ],
   "source": [
    "distance = 1. * u.lightyear\n",
    "print(distance)"
   ]
  },
  {
   "cell_type": "markdown",
   "metadata": {},
   "source": [
    "Or by passing a string to the general `Quantity` object:"
   ]
  },
  {
   "cell_type": "code",
   "execution_count": 5,
   "metadata": {},
   "outputs": [],
   "source": [
    "distance = u.Quantity('1 lyr')"
   ]
  },
  {
   "cell_type": "markdown",
   "metadata": {},
   "source": [
    "Check the availabe units with tab completion on the units module, `u.<TAB>`.\n",
    "\n",
    "Quantities can be also created using lists and arrays:"
   ]
  },
  {
   "cell_type": "code",
   "execution_count": 6,
   "metadata": {},
   "outputs": [
    {
     "name": "stdout",
     "output_type": "stream",
     "text": [
      "[ 1.  3. 10.] lyr\n",
      "[ 1.  3. 10.] lyr\n"
     ]
    }
   ],
   "source": [
    "distances = [1, 3, 10] * u.lightyear\n",
    "print(distances)\n",
    "\n",
    "distances = np.array([1, 3, 10]) * u.lightyear\n",
    "print(distances)"
   ]
  },
  {
   "cell_type": "code",
   "execution_count": 7,
   "metadata": {},
   "outputs": [
    {
     "data": {
      "text/plain": [
       "array([ 1.,  3., 10.])"
      ]
     },
     "execution_count": 7,
     "metadata": {},
     "output_type": "execute_result"
    }
   ],
   "source": [
    "distances.value"
   ]
  },
  {
   "cell_type": "markdown",
   "metadata": {},
   "source": [
    "The quantity object has a value attribute, which is a plain `numpy.ndarray`:"
   ]
  },
  {
   "cell_type": "code",
   "execution_count": 8,
   "metadata": {},
   "outputs": [
    {
     "data": {
      "text/plain": [
       "numpy.ndarray"
      ]
     },
     "execution_count": 8,
     "metadata": {},
     "output_type": "execute_result"
    }
   ],
   "source": [
    "type(distances.value)"
   ]
  },
  {
   "cell_type": "markdown",
   "metadata": {},
   "source": [
    "And a unit, which is represented by a `astropy.units.core.Unit` object:"
   ]
  },
  {
   "cell_type": "code",
   "execution_count": 9,
   "metadata": {},
   "outputs": [
    {
     "data": {
      "text/latex": [
       "$\\mathrm{lyr}$"
      ],
      "text/plain": [
       "Unit(\"lyr\")"
      ]
     },
     "execution_count": 9,
     "metadata": {},
     "output_type": "execute_result"
    }
   ],
   "source": [
    "distances.unit"
   ]
  },
  {
   "cell_type": "code",
   "execution_count": 10,
   "metadata": {},
   "outputs": [
    {
     "data": {
      "text/plain": [
       "astropy.units.core.Unit"
      ]
     },
     "execution_count": 10,
     "metadata": {},
     "output_type": "execute_result"
    }
   ],
   "source": [
    "type(distances.unit)"
   ]
  },
  {
   "cell_type": "markdown",
   "metadata": {},
   "source": [
    "A quantity behaves in many ways just like a `numpy.ndarray` with an attached unit."
   ]
  },
  {
   "cell_type": "code",
   "execution_count": 11,
   "metadata": {},
   "outputs": [
    {
     "data": {
      "text/latex": [
       "$[10,~30,~100] \\; \\mathrm{lyr}$"
      ],
      "text/plain": [
       "<Quantity [ 10.,  30., 100.] lyr>"
      ]
     },
     "execution_count": 11,
     "metadata": {},
     "output_type": "execute_result"
    }
   ],
   "source": [
    "distances * 10"
   ]
  },
  {
   "cell_type": "markdown",
   "metadata": {},
   "source": [
    "Many numpy functions will work as expected and return again a `Quantity` object:"
   ]
  },
  {
   "cell_type": "code",
   "execution_count": 12,
   "metadata": {},
   "outputs": [
    {
     "data": {
      "text/latex": [
       "$10 \\; \\mathrm{lyr}$"
      ],
      "text/plain": [
       "<Quantity 10. lyr>"
      ]
     },
     "execution_count": 12,
     "metadata": {},
     "output_type": "execute_result"
    }
   ],
   "source": [
    "np.max(distances)"
   ]
  },
  {
   "cell_type": "code",
   "execution_count": 13,
   "metadata": {},
   "outputs": [
    {
     "data": {
      "text/latex": [
       "$4.6666667 \\; \\mathrm{lyr}$"
      ],
      "text/plain": [
       "<Quantity 4.66666667 lyr>"
      ]
     },
     "execution_count": 13,
     "metadata": {},
     "output_type": "execute_result"
    }
   ],
   "source": [
    "np.mean(distances)"
   ]
  },
  {
   "cell_type": "markdown",
   "metadata": {},
   "source": [
    "But there are exceptions, where the unit handling is not well defined, e.g. in `np.log` arguments have to be dimensionless, such as:"
   ]
  },
  {
   "cell_type": "code",
   "execution_count": 14,
   "metadata": {},
   "outputs": [
    {
     "data": {
      "text/latex": [
       "$1.0986123 \\; \\mathrm{}$"
      ],
      "text/plain": [
       "<Quantity 1.09861229>"
      ]
     },
     "execution_count": 14,
     "metadata": {},
     "output_type": "execute_result"
    }
   ],
   "source": [
    "#np.log(30 * u.MeV) # Will raise an UnitConversionError\n",
    "np.log(30 * u.MeV / (10 * u.MeV))"
   ]
  },
  {
   "cell_type": "markdown",
   "metadata": {},
   "source": [
    "Probably the most useful method on the `Quantity` object is the `.to()` method which allows to convert a quantity to different units:"
   ]
  },
  {
   "cell_type": "code",
   "execution_count": 15,
   "metadata": {},
   "outputs": [
    {
     "data": {
      "text/latex": [
       "$9.4607305 \\times 10^{15} \\; \\mathrm{m}$"
      ],
      "text/plain": [
       "<Quantity 9.46073047e+15 m>"
      ]
     },
     "execution_count": 15,
     "metadata": {},
     "output_type": "execute_result"
    }
   ],
   "source": [
    "distance.to('meter')"
   ]
  },
  {
   "cell_type": "code",
   "execution_count": 16,
   "metadata": {},
   "outputs": [
    {
     "data": {
      "text/latex": [
       "$0.30660139 \\; \\mathrm{pc}$"
      ],
      "text/plain": [
       "<Quantity 0.30660139 pc>"
      ]
     },
     "execution_count": 16,
     "metadata": {},
     "output_type": "execute_result"
    }
   ],
   "source": [
    "distance.to(u.parsec)"
   ]
  },
  {
   "cell_type": "markdown",
   "metadata": {},
   "source": [
    "Quantities can be combined with any arithmetical expression to derive other quantities, `astropy.units` will propagate\n",
    "the units correctly:"
   ]
  },
  {
   "cell_type": "code",
   "execution_count": 17,
   "metadata": {},
   "outputs": [
    {
     "name": "stdout",
     "output_type": "stream",
     "text": [
      "299792.458 km / s\n"
     ]
    }
   ],
   "source": [
    "speed_of_light = distance / u.year\n",
    "print(speed_of_light.to('km/s'))"
   ]
  },
  {
   "cell_type": "code",
   "execution_count": 18,
   "metadata": {},
   "outputs": [
    {
     "name": "stdout",
     "output_type": "stream",
     "text": [
      "2.5902068371199996e+23 Angstrom / d\n"
     ]
    }
   ],
   "source": [
    "print(speed_of_light.to('angstrom/day'))"
   ]
  },
  {
   "cell_type": "markdown",
   "metadata": {},
   "source": [
    "For standardized unit systems such as `'si'` or `'cgs'` there are convenience attributes on the quantity object:"
   ]
  },
  {
   "cell_type": "code",
   "execution_count": 19,
   "metadata": {},
   "outputs": [
    {
     "data": {
      "text/latex": [
       "$2.9979246 \\times 10^{8} \\; \\mathrm{\\frac{m}{s}}$"
      ],
      "text/plain": [
       "<Quantity 2.99792458e+08 m / s>"
      ]
     },
     "execution_count": 19,
     "metadata": {},
     "output_type": "execute_result"
    }
   ],
   "source": [
    "speed_of_light.si"
   ]
  },
  {
   "cell_type": "code",
   "execution_count": 20,
   "metadata": {},
   "outputs": [
    {
     "data": {
      "text/latex": [
       "$2.9979246 \\times 10^{10} \\; \\mathrm{\\frac{cm}{s}}$"
      ],
      "text/plain": [
       "<Quantity 2.99792458e+10 cm / s>"
      ]
     },
     "execution_count": 20,
     "metadata": {},
     "output_type": "execute_result"
    }
   ],
   "source": [
    "speed_of_light.cgs"
   ]
  },
  {
   "cell_type": "markdown",
   "metadata": {
    "collapsed": true
   },
   "source": [
    "### 1.2. Equivalencies\n",
    "\n",
    "In Astronomy and other fields of physics quantities are often measured in more practical units, which are equivalent to the actual physical unit. In `astropy.units` this is handled with the concept of \"equivalencies\".  \n",
    "\n",
    "For example consider units to measure spectral quantities such as wavelength, frequency and energy:"
   ]
  },
  {
   "cell_type": "code",
   "execution_count": 21,
   "metadata": {},
   "outputs": [
    {
     "data": {
      "text/latex": [
       "$1.2407003 \\; \\mathrm{MeV}$"
      ],
      "text/plain": [
       "<Quantity 1.2407003 MeV>"
      ]
     },
     "execution_count": 21,
     "metadata": {},
     "output_type": "execute_result"
    }
   ],
   "source": [
    "frequency = 3e20 * u.hertz\n",
    "frequency.to('MeV', equivalencies=u.spectral())"
   ]
  },
  {
   "cell_type": "code",
   "execution_count": 22,
   "metadata": {},
   "outputs": [
    {
     "data": {
      "text/latex": [
       "$0.99930819 \\; \\mathrm{pm}$"
      ],
      "text/plain": [
       "<Quantity 0.99930819 pm>"
      ]
     },
     "execution_count": 22,
     "metadata": {},
     "output_type": "execute_result"
    }
   ],
   "source": [
    "frequency.to('picometer', equivalencies=u.spectral())"
   ]
  },
  {
   "cell_type": "markdown",
   "metadata": {},
   "source": [
    "Or for converting temperatures:"
   ]
  },
  {
   "cell_type": "code",
   "execution_count": 23,
   "metadata": {},
   "outputs": [],
   "source": [
    "temperature = 25 * u.Celsius"
   ]
  },
  {
   "cell_type": "code",
   "execution_count": 24,
   "metadata": {},
   "outputs": [
    {
     "data": {
      "text/latex": [
       "$298.15 \\; \\mathrm{K}$"
      ],
      "text/plain": [
       "<Quantity 298.15 K>"
      ]
     },
     "execution_count": 24,
     "metadata": {},
     "output_type": "execute_result"
    }
   ],
   "source": [
    "temperature.to(\"Kelvin\", equivalencies=u.temperature())"
   ]
  },
  {
   "cell_type": "code",
   "execution_count": 25,
   "metadata": {},
   "outputs": [
    {
     "name": "stdout",
     "output_type": "stream",
     "text": [
      "77.0 deg_F\n"
     ]
    }
   ],
   "source": [
    "with u.imperial.enable():\n",
    "    print(temperature.to(\"deg_F\", equivalencies=u.temperature()))"
   ]
  },
  {
   "cell_type": "markdown",
   "metadata": {},
   "source": [
    "### 1.3 Miscellaneous\n",
    "\n",
    "Astropy provides a lot of builtin physical and astronomical constants quantitites in the [astropy.constants]() submodule:"
   ]
  },
  {
   "cell_type": "code",
   "execution_count": 26,
   "metadata": {},
   "outputs": [
    {
     "name": "stdout",
     "output_type": "stream",
     "text": [
      "299792.458 km / s\n"
     ]
    }
   ],
   "source": [
    "from astropy import constants as const\n",
    "\n",
    "print(const.c.to('km / s'))"
   ]
  },
  {
   "cell_type": "markdown",
   "metadata": {},
   "source": [
    "Here is a [list of available constants](http://docs.astropy.org/en/stable/constants/#module-astropy.constants).\n",
    "\n",
    "If you write a function you can make sure the input is given in the right units using the [astropy.units.quantity_input](http://docs.astropy.org/en/stable/api/astropy.units.quantity_input.html#astropy.units.quantity_input) decorator: "
   ]
  },
  {
   "cell_type": "code",
   "execution_count": 27,
   "metadata": {},
   "outputs": [],
   "source": [
    "@u.quantity_input(frequency=u.hertz, temperature=u.K)\n",
    "def blackbody(frequency, temperature): \n",
    "    pre_factor = 2 * (const.h * frequency ** 3) / const.c ** 2\n",
    "    exponential_factor = 1. / (np.exp((const.h * frequency) / (const.k_B * temperature)) - 1)\n",
    "    return pre_factor * exponential_factor"
   ]
  },
  {
   "cell_type": "code",
   "execution_count": 28,
   "metadata": {},
   "outputs": [],
   "source": [
    "# blackbody(300 * u.nm, 500 * u.K)"
   ]
  },
  {
   "cell_type": "markdown",
   "metadata": {},
   "source": [
    "### 1.4 Interfacing quantities with third-party code (optional) \n",
    "\n",
    "When writing code that uses quantities we are typically bound to use it everywhere in the code. But often we'd like to interface with functions (e.g. from [SciPy](https://www.scipy.org/) or [Matplotlib](https://matplotlib.org/)) or other third-party code that doesn't know how to handle quantities.\n",
    "\n",
    "For Matplotlib, Astropy has a builtin support using the [quantity_support()](http://docs.astropy.org/en/stable/api/astropy.visualization.quantity_support.html) context manager:"
   ]
  },
  {
   "cell_type": "code",
   "execution_count": 29,
   "metadata": {},
   "outputs": [
    {
     "name": "stderr",
     "output_type": "stream",
     "text": [
      "/Users/adonath/software/anaconda3/envs/gammapy-dev/lib/python3.7/site-packages/astropy/units/quantity.py:463: RuntimeWarning: divide by zero encountered in true_divide\n",
      "  result = super().__array_ufunc__(function, method, *arrays, **kwargs)\n"
     ]
    },
    {
     "data": {
      "image/png": "[encoded data removed]",
      "text/plain": [
       "<Figure size 576x360 with 1 Axes>"
      ]
     },
     "metadata": {
      "needs_background": "light"
     },
     "output_type": "display_data"
    }
   ],
   "source": [
    "from astropy.visualization import quantity_support\n",
    "\n",
    "plt.figure(figsize=(8, 5))\n",
    "\n",
    "temperature = 1000 * u.K\n",
    "frequencies = np.linspace(1E-5, 0.5e15, 1000) * u.hertz\n",
    "\n",
    "radiance = blackbody(frequency=frequencies, temperature=temperature)\n",
    "\n",
    "with quantity_support():   \n",
    "    plt.plot(frequencies, radiance)"
   ]
  },
  {
   "cell_type": "markdown",
   "metadata": {},
   "source": [
    "But in other cases there is only the option to convert the quantity to well defined units, strip off the unit and re-attach it after the computation:"
   ]
  },
  {
   "cell_type": "code",
   "execution_count": 30,
   "metadata": {},
   "outputs": [
    {
     "name": "stdout",
     "output_type": "stream",
     "text": [
      "[ 1.          1.29154967  1.66810054  2.15443469  2.7825594   3.59381366\n",
      "  4.64158883  5.9948425   7.74263683 10.        ] TeV\n"
     ]
    }
   ],
   "source": [
    "emin, emax = [1, 10] * u.TeV\n",
    "energies = np.logspace(np.log10(emin.value), np.log10(emax.value), 10) * emin.unit\n",
    "print(energies)"
   ]
  },
  {
   "cell_type": "markdown",
   "metadata": {},
   "source": [
    "### 1.5 Performance Tips (optional)\n",
    "\n",
    "As the main data structure of the Quantity is a standard numpy array, they are suitable for computations with large arrays. Still you have to take care of a few pitfalls.\n",
    "\n",
    "When creating a Quantity with `data * u.km` or `data * u.Unit()` by default a copy of the data is made:"
   ]
  },
  {
   "cell_type": "code",
   "execution_count": 31,
   "metadata": {},
   "outputs": [],
   "source": [
    "values = np.ones((500, 500, 500))"
   ]
  },
  {
   "cell_type": "code",
   "execution_count": 32,
   "metadata": {},
   "outputs": [
    {
     "name": "stdout",
     "output_type": "stream",
     "text": [
      "311 ms ± 5.22 ms per loop (mean ± std. dev. of 7 runs, 1 loop each)\n"
     ]
    }
   ],
   "source": [
    "%%timeit\n",
    "quantity = values * u.kpc"
   ]
  },
  {
   "cell_type": "markdown",
   "metadata": {},
   "source": [
    "If you would like to avoid the copy you can use:"
   ]
  },
  {
   "cell_type": "code",
   "execution_count": 33,
   "metadata": {},
   "outputs": [
    {
     "name": "stdout",
     "output_type": "stream",
     "text": [
      "6.92 µs ± 114 ns per loop (mean ± std. dev. of 7 runs, 100000 loops each)\n"
     ]
    }
   ],
   "source": [
    "%%timeit\n",
    "quantity = u.Quantity(values, unit=\"kpc\", copy=False)"
   ]
  },
  {
   "cell_type": "markdown",
   "metadata": {},
   "source": [
    "In Astropy > 3.1 a new operator was introduced to achieve the same behaviour:"
   ]
  },
  {
   "cell_type": "code",
   "execution_count": 34,
   "metadata": {},
   "outputs": [
    {
     "name": "stdout",
     "output_type": "stream",
     "text": [
      "10.6 µs ± 147 ns per loop (mean ± std. dev. of 7 runs, 100000 loops each)\n"
     ]
    }
   ],
   "source": [
    "%%timeit\n",
    "quantity = values << u.Unit(\"kpc\")"
   ]
  },
  {
   "cell_type": "markdown",
   "metadata": {},
   "source": [
    "To avoid copies when converting to different units and getting the values, you can use: "
   ]
  },
  {
   "cell_type": "code",
   "execution_count": 35,
   "metadata": {},
   "outputs": [],
   "source": [
    "quantity = u.Quantity(values, unit=\"kpc\", copy=False)\n",
    "values = quantity.to_value(\"m\")"
   ]
  },
  {
   "cell_type": "markdown",
   "metadata": {},
   "source": [
    "Instead of using`quantity.to(\"m\").value`.  More details can be found on http://docs.astropy.org/en/stable/units/index.html#performance-tips."
   ]
  },
  {
   "cell_type": "markdown",
   "metadata": {},
   "source": [
    "### 1.6 Exercises\n",
    "\n",
    "- (*easy*) How long does the light travel from the sun to the earth in minutes? How long does the light travel from the Galactic center (assume a distance of 8 kpc) in years? \n",
    "- (*advanced*) Define a new unit called `\"baro-meter\"`, which is eqivalent to 25 cm and use it to measure the height of the empire state building (assume a height of 381 meters). Please read the [Astropy documentation on combining and defining units](http://docs.astropy.org/en/stable/units/combining_and_defining.html) for an example how to do this (For other ways to measure the height of a building using a barometer see [barometer question on Wikipedia](https://en.wikipedia.org/wiki/Barometer_question)...)\n",
    "- (*expert*) Find the frequency with the maximum photon rate of the black body spectrum $\\mathcal{B}(\\nu, T)$ with temperature $T=5000~\\mathrm{K}$. For this you can use a numerical optimization routine such as [scipy.optimize.minimize](https://docs.scipy.org/doc/scipy/reference/generated/scipy.optimize.minimize.html).\n",
    "As the frequency as well as the radiance can cover many orders of magnitude, the stability of the algorithm can be much improved by minimizing the (negative) logarithm of the radiance $-\\log{\\mathcal{B}}$ as well as minimizing with respect to the logarithm of the frequency by introducing the variable $x = \\log{\\nu}$. Finally compare the result against the analytical solution from [Wien's displacement law](https://en.wikipedia.org/wiki/Wien%27s_displacement_law). "
   ]
  },
  {
   "cell_type": "markdown",
   "metadata": {},
   "source": [
    "## 2. Coordinates\n",
    "\n",
    "With the submodule [astropy.coordinates](http://docs.astropy.org/en/stable/coordinates/) Astropy provides a framework to handle sky positions in various coordinate systems and transformations between them.\n",
    "\n",
    "\n",
    "### 2.1 Basics\n",
    "The basic class to handle sky coordinates is [SkyCoord](http://docs.astropy.org/en/stable/api/astropy.coordinates.SkyCoord.html):"
   ]
  },
  {
   "cell_type": "code",
   "execution_count": 36,
   "metadata": {},
   "outputs": [],
   "source": [
    "from astropy.coordinates import SkyCoord"
   ]
  },
  {
   "cell_type": "markdown",
   "metadata": {},
   "source": [
    "It can be created by passing a position angle for longitude and latitude and a keyword specifying a coordinate frame:"
   ]
  },
  {
   "cell_type": "code",
   "execution_count": 37,
   "metadata": {},
   "outputs": [
    {
     "name": "stdout",
     "output_type": "stream",
     "text": [
      "<SkyCoord (ICRS): (ra, dec) in deg\n",
      "    (83.63, 22.01)>\n"
     ]
    }
   ],
   "source": [
    "position_crab = SkyCoord(83.63 * u.deg,  22.01 * u.deg, frame='icrs')\n",
    "print(position_crab)"
   ]
  },
  {
   "cell_type": "markdown",
   "metadata": {},
   "source": [
    "As for `Quantities` the instanciation with `lists`, `arrays` or even `Quantities` also works:"
   ]
  },
  {
   "cell_type": "code",
   "execution_count": 38,
   "metadata": {},
   "outputs": [],
   "source": [
    "positions = SkyCoord([345., 234.3] * u.deg,  [-0.1, 0.2] * u.deg, frame='galactic')"
   ]
  },
  {
   "cell_type": "markdown",
   "metadata": {},
   "source": [
    "Alternatively the angles can be specified as string:"
   ]
  },
  {
   "cell_type": "code",
   "execution_count": 39,
   "metadata": {},
   "outputs": [],
   "source": [
    "position_crab = SkyCoord('5h34m31.97s', '22d0m52.10s', frame='icrs')\n",
    "\n",
    "# or\n",
    "\n",
    "position_crab = SkyCoord('5:34:31.97', '22:0:52.10',\n",
    "                         unit=(u.hour, u.deg), frame='icrs')"
   ]
  },
  {
   "cell_type": "markdown",
   "metadata": {},
   "source": [
    "Where in the first case the unit doesn't have to specified because it is encoded in the string via `'hms'` and `'dms'`.\n",
    "\n",
    "A very convenient way to get the coordinates of an individual object is qerying the [Sesame](http://cds.u-strasbg.fr/cgi-bin/Sesame) database with `SkyCoord.from_name()`:"
   ]
  },
  {
   "cell_type": "code",
   "execution_count": 40,
   "metadata": {},
   "outputs": [],
   "source": [
    "# SkyCoord.from_name('Crab')"
   ]
  },
  {
   "cell_type": "markdown",
   "metadata": {},
   "source": [
    "To transform the coordinates to a different coordinate system we can use `SkyCoord.transform_to()`:"
   ]
  },
  {
   "cell_type": "code",
   "execution_count": 41,
   "metadata": {},
   "outputs": [],
   "source": [
    "pos_gal = position_crab.transform_to('galactic')"
   ]
  },
  {
   "cell_type": "markdown",
   "metadata": {},
   "source": [
    "For convenience we can also directly use the `.galactic` or `.icrs` attributes:"
   ]
  },
  {
   "cell_type": "code",
   "execution_count": 42,
   "metadata": {},
   "outputs": [
    {
     "data": {
      "text/plain": [
       "<SkyCoord (Galactic): (l, b) in deg\n",
       "    (184.55754381, -5.78427369)>"
      ]
     },
     "execution_count": 42,
     "metadata": {},
     "output_type": "execute_result"
    }
   ],
   "source": [
    "position_crab.galactic"
   ]
  },
  {
   "cell_type": "code",
   "execution_count": 43,
   "metadata": {},
   "outputs": [
    {
     "data": {
      "text/plain": [
       "<SkyCoord (ICRS): (ra, dec) in deg\n",
       "    (83.63320833, 22.01447222)>"
      ]
     },
     "execution_count": 43,
     "metadata": {},
     "output_type": "execute_result"
    }
   ],
   "source": [
    "position_crab.icrs"
   ]
  },
  {
   "cell_type": "markdown",
   "metadata": {},
   "source": [
    "To access the `longitude` and `latitude` angles individually: "
   ]
  },
  {
   "cell_type": "code",
   "execution_count": 44,
   "metadata": {},
   "outputs": [
    {
     "data": {
      "text/latex": [
       "$5^\\mathrm{h}34^\\mathrm{m}31.97^\\mathrm{s}$"
      ],
      "text/plain": [
       "<Longitude 5.57554722 hourangle>"
      ]
     },
     "execution_count": 44,
     "metadata": {},
     "output_type": "execute_result"
    }
   ],
   "source": [
    "position_crab.data.lon"
   ]
  },
  {
   "cell_type": "code",
   "execution_count": 45,
   "metadata": {},
   "outputs": [
    {
     "data": {
      "text/latex": [
       "$22^\\circ00{}^\\prime52.1{}^{\\prime\\prime}$"
      ],
      "text/plain": [
       "<Latitude 22.01447222 deg>"
      ]
     },
     "execution_count": 45,
     "metadata": {},
     "output_type": "execute_result"
    }
   ],
   "source": [
    "position_crab.data.lat"
   ]
  },
  {
   "cell_type": "markdown",
   "metadata": {},
   "source": [
    "### 2.2 Measuring distances between positions in the sky\n",
    "The angular distance between two [SkyCoord](http://docs.astropy.org/en/stable/api/astropy.coordinates.SkyCoord.html) objects, can be found using the [SkyCoord.separation()](http://docs.astropy.org/en/stable/api/astropy.coordinates.SkyCoord.html#astropy.coordinates.SkyCoord.separation) method:"
   ]
  },
  {
   "cell_type": "code",
   "execution_count": 46,
   "metadata": {},
   "outputs": [
    {
     "data": {
      "text/latex": [
       "$172^\\circ38{}^\\prime26.7431{}^{\\prime\\prime}$"
      ],
      "text/plain": [
       "<Angle 172.64076197 deg>"
      ]
     },
     "execution_count": 46,
     "metadata": {},
     "output_type": "execute_result"
    }
   ],
   "source": [
    "#position_saga = SkyCoord.from_name('Sag A*')\n",
    "position_saga = SkyCoord(0 * u.deg, 0 * u.deg, frame='galactic')\n",
    "\n",
    "position_crab.separation(position_saga)"
   ]
  },
  {
   "cell_type": "code",
   "execution_count": 47,
   "metadata": {},
   "outputs": [
    {
     "data": {
      "text/plain": [
       "<SkyCoord (ICRS): (ra, dec) in deg\n",
       "    (83.63320833, 22.01447222)>"
      ]
     },
     "execution_count": 47,
     "metadata": {},
     "output_type": "execute_result"
    }
   ],
   "source": [
    "position_crab"
   ]
  },
  {
   "cell_type": "markdown",
   "metadata": {},
   "source": [
    "### 2.3 ALT - AZ coordinates (optional)\n",
    "\n",
    "In various cirumstances, e.g. for planning observations, it can be usefull to transform a sky coordinate into a position in the horizontal coordinate system given a location on earth and a time"
   ]
  },
  {
   "cell_type": "code",
   "execution_count": 48,
   "metadata": {},
   "outputs": [],
   "source": [
    "from astropy.coordinates import EarthLocation, AltAz\n",
    "from astropy.time import Time"
   ]
  },
  {
   "cell_type": "markdown",
   "metadata": {},
   "source": [
    "We define a location using [EarthLocation](http://docs.astropy.org/en/stable/api/astropy.coordinates.EarthLocation.html):"
   ]
  },
  {
   "cell_type": "code",
   "execution_count": 49,
   "metadata": {},
   "outputs": [
    {
     "name": "stdout",
     "output_type": "stream",
     "text": [
      "GeodeticLocation(lon=<Longitude 2.3508 deg>, lat=<Latitude 48.8567 deg>, height=<Quantity 7.2605446e-10 m>)\n"
     ]
    }
   ],
   "source": [
    "paris = EarthLocation(lat=48.8567 * u.deg, lon=2.3508 * u.deg)\n",
    "print(paris.geodetic)"
   ]
  },
  {
   "cell_type": "markdown",
   "metadata": {},
   "source": [
    "And a time using the [Time](http://docs.astropy.org/en/stable/api/astropy.time.Time.html) object:"
   ]
  },
  {
   "cell_type": "code",
   "execution_count": 50,
   "metadata": {},
   "outputs": [
    {
     "name": "stdout",
     "output_type": "stream",
     "text": [
      "2019-04-15 09:03:27.757036\n"
     ]
    }
   ],
   "source": [
    "now = Time.now()\n",
    "print(now)"
   ]
  },
  {
   "cell_type": "markdown",
   "metadata": {},
   "source": [
    "Now we can define a horizontal coordinate system using the [AltAz]([docs.astropy.org/en/stable/api/astropy.coordinates.AltAz.html) class and use it to convert from the sky coordinate:"
   ]
  },
  {
   "cell_type": "code",
   "execution_count": 51,
   "metadata": {},
   "outputs": [
    {
     "name": "stdout",
     "output_type": "stream",
     "text": [
      "<SkyCoord (AltAz: obstime=2019-04-15 09:03:27.757036, location=(4200910.64325784, 172456.78503911, 4780088.65877593) m, pressure=0.0 hPa, temperature=0.0 deg_C, relative_humidity=0.0, obswl=1.0 micron): (az, alt) in deg\n",
      "    (66.29666875, 8.67150744)>\n"
     ]
    }
   ],
   "source": [
    "altaz = AltAz(obstime=now, location=paris)\n",
    "crab_altaz = position_crab.transform_to(altaz)\n",
    "print(crab_altaz)"
   ]
  },
  {
   "cell_type": "markdown",
   "metadata": {},
   "source": [
    "### 2.4 Exercises\n",
    "\n",
    "- (*easy*) Define the sky coordinate for your favorite astronomical object and find the angular distance to the Crab Nebula as well as the Galactic center.\n",
    "- (*expert*) Make a plot of the height above horizon vs.time for the crab position at the location of Annecy. Mark the time range where it is visible. Would the Crab Nebula be visible tonight?"
   ]
  },
  {
   "cell_type": "markdown",
   "metadata": {},
   "source": [
    "## 3. Tables\n",
    "\n",
    "Astropy provides the [Table](http://docs.astropy.org/en/stable/api/astropy.io.votable.tree.Table.html) class in order to handle data tables.\n",
    "\n",
    "### 3.1 Basics\n",
    "\n",
    "Table objects can be created as shown in the following"
   ]
  },
  {
   "cell_type": "code",
   "execution_count": 52,
   "metadata": {},
   "outputs": [],
   "source": [
    "from astropy.table import Table"
   ]
  },
  {
   "cell_type": "code",
   "execution_count": 53,
   "metadata": {},
   "outputs": [],
   "source": [
    "table = Table()"
   ]
  },
  {
   "cell_type": "markdown",
   "metadata": {},
   "source": [
    "We add columns to the table like we would add entries to a dictionary"
   ]
  },
  {
   "cell_type": "code",
   "execution_count": 54,
   "metadata": {},
   "outputs": [],
   "source": [
    "table['Source_Name'] = ['Crab', 'Sag A*', 'Cas A']\n",
    "table['GLON'] = [184.55754381, 0, 111.74169477] * u.deg\n",
    "table['GLAT'] = [-5.78427369, 0, -2.13544151] * u.deg"
   ]
  },
  {
   "cell_type": "markdown",
   "metadata": {},
   "source": [
    "By executing the following cell, we get a nicely formatted version of the table printed in the notebook:"
   ]
  },
  {
   "cell_type": "code",
   "execution_count": 55,
   "metadata": {},
   "outputs": [
    {
     "data": {
      "text/html": [
       "<i>Table length=3</i>\n",
       "<table id=\"table6657584432\" class=\"table-striped table-bordered table-condensed\">\n",
       "<thead><tr><th>Source_Name</th><th>GLON</th><th>GLAT</th></tr></thead>\n",
       "<thead><tr><th></th><th>deg</th><th>deg</th></tr></thead>\n",
       "<thead><tr><th>str6</th><th>float64</th><th>float64</th></tr></thead>\n",
       "<tr><td>Crab</td><td>184.55754381</td><td>-5.78427369</td></tr>\n",
       "<tr><td>Sag A*</td><td>0.0</td><td>0.0</td></tr>\n",
       "<tr><td>Cas A</td><td>111.74169477</td><td>-2.13544151</td></tr>\n",
       "</table>"
      ],
      "text/plain": [
       "<Table length=3>\n",
       "Source_Name     GLON         GLAT   \n",
       "                deg          deg    \n",
       "    str6      float64      float64  \n",
       "----------- ------------ -----------\n",
       "       Crab 184.55754381 -5.78427369\n",
       "     Sag A*          0.0         0.0\n",
       "      Cas A 111.74169477 -2.13544151"
      ]
     },
     "execution_count": 55,
     "metadata": {},
     "output_type": "execute_result"
    }
   ],
   "source": [
    "table"
   ]
  },
  {
   "cell_type": "markdown",
   "metadata": {},
   "source": [
    "### 3.2 Accessing rows and columns"
   ]
  },
  {
   "cell_type": "markdown",
   "metadata": {},
   "source": [
    "We have access to the defined columns. To check which ones are availbe you can use `Table.colnames`:"
   ]
  },
  {
   "cell_type": "code",
   "execution_count": 56,
   "metadata": {},
   "outputs": [
    {
     "data": {
      "text/plain": [
       "['Source_Name', 'GLON', 'GLAT']"
      ]
     },
     "execution_count": 56,
     "metadata": {},
     "output_type": "execute_result"
    }
   ],
   "source": [
    "table.colnames"
   ]
  },
  {
   "cell_type": "markdown",
   "metadata": {},
   "source": [
    "And access individual columns just by their name:"
   ]
  },
  {
   "cell_type": "code",
   "execution_count": 57,
   "metadata": {},
   "outputs": [
    {
     "data": {
      "text/html": [
       "&lt;Column name=&apos;GLON&apos; dtype=&apos;float64&apos; unit=&apos;deg&apos; length=3&gt;\n",
       "<table>\n",
       "<tr><td>184.55754381</td></tr>\n",
       "<tr><td>0.0</td></tr>\n",
       "<tr><td>111.74169477</td></tr>\n",
       "</table>"
      ],
      "text/plain": [
       "<Column name='GLON' dtype='float64' unit='deg' length=3>\n",
       "184.55754381\n",
       "         0.0\n",
       "111.74169477"
      ]
     },
     "execution_count": 57,
     "metadata": {},
     "output_type": "execute_result"
    }
   ],
   "source": [
    "table['GLON']"
   ]
  },
  {
   "cell_type": "markdown",
   "metadata": {},
   "source": [
    "And also a subset of columns:"
   ]
  },
  {
   "cell_type": "code",
   "execution_count": 58,
   "metadata": {},
   "outputs": [
    {
     "data": {
      "text/html": [
       "<i>Table length=3</i>\n",
       "<table id=\"table6720386664\" class=\"table-striped table-bordered table-condensed\">\n",
       "<thead><tr><th>Source_Name</th><th>GLON</th></tr></thead>\n",
       "<thead><tr><th></th><th>deg</th></tr></thead>\n",
       "<thead><tr><th>str6</th><th>float64</th></tr></thead>\n",
       "<tr><td>Crab</td><td>184.55754381</td></tr>\n",
       "<tr><td>Sag A*</td><td>0.0</td></tr>\n",
       "<tr><td>Cas A</td><td>111.74169477</td></tr>\n",
       "</table>"
      ],
      "text/plain": [
       "<Table length=3>\n",
       "Source_Name     GLON    \n",
       "                deg     \n",
       "    str6      float64   \n",
       "----------- ------------\n",
       "       Crab 184.55754381\n",
       "     Sag A*          0.0\n",
       "      Cas A 111.74169477"
      ]
     },
     "execution_count": 58,
     "metadata": {},
     "output_type": "execute_result"
    }
   ],
   "source": [
    "table[['Source_Name', 'GLON']]"
   ]
  },
  {
   "cell_type": "markdown",
   "metadata": {},
   "source": [
    "Often, it is handy to get the column data as [astropy.units.Quantity](http://docs.astropy.org/en/stable/api/astropy.units.Quantity.html#astropy.units.Quantity) using the `.quantity` property:"
   ]
  },
  {
   "cell_type": "code",
   "execution_count": 59,
   "metadata": {},
   "outputs": [
    {
     "data": {
      "text/latex": [
       "$[184.55754,~0,~111.74169] \\; \\mathrm{{}^{\\circ}}$"
      ],
      "text/plain": [
       "<Quantity [184.55754381,   0.        , 111.74169477] deg>"
      ]
     },
     "execution_count": 59,
     "metadata": {},
     "output_type": "execute_result"
    }
   ],
   "source": [
    "table['GLON'].quantity"
   ]
  },
  {
   "cell_type": "markdown",
   "metadata": {},
   "source": [
    "Rows can be accessed using numpy indexing:"
   ]
  },
  {
   "cell_type": "code",
   "execution_count": 60,
   "metadata": {},
   "outputs": [
    {
     "data": {
      "text/html": [
       "<i>Table length=2</i>\n",
       "<table id=\"table6720387616\" class=\"table-striped table-bordered table-condensed\">\n",
       "<thead><tr><th>Source_Name</th><th>GLON</th><th>GLAT</th></tr></thead>\n",
       "<thead><tr><th></th><th>deg</th><th>deg</th></tr></thead>\n",
       "<thead><tr><th>str6</th><th>float64</th><th>float64</th></tr></thead>\n",
       "<tr><td>Crab</td><td>184.55754381</td><td>-5.78427369</td></tr>\n",
       "<tr><td>Sag A*</td><td>0.0</td><td>0.0</td></tr>\n",
       "</table>"
      ],
      "text/plain": [
       "<Table length=2>\n",
       "Source_Name     GLON         GLAT   \n",
       "                deg          deg    \n",
       "    str6      float64      float64  \n",
       "----------- ------------ -----------\n",
       "       Crab 184.55754381 -5.78427369\n",
       "     Sag A*          0.0         0.0"
      ]
     },
     "execution_count": 60,
     "metadata": {},
     "output_type": "execute_result"
    }
   ],
   "source": [
    "table[0:2]"
   ]
  },
  {
   "cell_type": "markdown",
   "metadata": {},
   "source": [
    "Or by using a boolean numpy array for indexing:"
   ]
  },
  {
   "cell_type": "code",
   "execution_count": 61,
   "metadata": {},
   "outputs": [
    {
     "data": {
      "text/html": [
       "<i>Table length=1</i>\n",
       "<table id=\"table6695183192\" class=\"table-striped table-bordered table-condensed\">\n",
       "<thead><tr><th>Source_Name</th><th>GLON</th><th>GLAT</th></tr></thead>\n",
       "<thead><tr><th></th><th>deg</th><th>deg</th></tr></thead>\n",
       "<thead><tr><th>str6</th><th>float64</th><th>float64</th></tr></thead>\n",
       "<tr><td>Crab</td><td>184.55754381</td><td>-5.78427369</td></tr>\n",
       "</table>"
      ],
      "text/plain": [
       "<Table length=1>\n",
       "Source_Name     GLON         GLAT   \n",
       "                deg          deg    \n",
       "    str6      float64      float64  \n",
       "----------- ------------ -----------\n",
       "       Crab 184.55754381 -5.78427369"
      ]
     },
     "execution_count": 61,
     "metadata": {},
     "output_type": "execute_result"
    }
   ],
   "source": [
    "selection = table['Source_Name'] == 'Crab'\n",
    "table[selection]"
   ]
  },
  {
   "cell_type": "markdown",
   "metadata": {},
   "source": [
    "There is also a more sophisticated indexing scheme, which is explained [here](http://docs.astropy.org/en/stable/table/indexing.html), but not covered in this tutorial."
   ]
  },
  {
   "cell_type": "markdown",
   "metadata": {},
   "source": [
    "### 3.3 Reading / Writing tables to disk\n",
    "Astropy tables can be serialized into many formats. For an overview see [here](http://docs.astropy.org/en/latest/io/unified.html#built-in-table-readers-writers). To write the table in FITS format we can use:"
   ]
  },
  {
   "cell_type": "code",
   "execution_count": 62,
   "metadata": {},
   "outputs": [],
   "source": [
    "table.write('data/example.fits', overwrite=True, format='fits')"
   ]
  },
  {
   "cell_type": "code",
   "execution_count": 63,
   "metadata": {},
   "outputs": [],
   "source": [
    "table.write('data/example.ecsv', overwrite=True, format='ascii.ecsv')"
   ]
  },
  {
   "cell_type": "code",
   "execution_count": 64,
   "metadata": {},
   "outputs": [
    {
     "data": {
      "text/html": [
       "<i>Table length=3</i>\n",
       "<table id=\"table6709325720\" class=\"table-striped table-bordered table-condensed\">\n",
       "<thead><tr><th>Source_Name</th><th>GLON</th><th>GLAT</th></tr></thead>\n",
       "<thead><tr><th></th><th>deg</th><th>deg</th></tr></thead>\n",
       "<thead><tr><th>bytes6</th><th>float64</th><th>float64</th></tr></thead>\n",
       "<tr><td>Crab</td><td>184.55754381</td><td>-5.78427369</td></tr>\n",
       "<tr><td>Sag A*</td><td>0.0</td><td>0.0</td></tr>\n",
       "<tr><td>Cas A</td><td>111.74169477</td><td>-2.13544151</td></tr>\n",
       "</table>"
      ],
      "text/plain": [
       "<Table length=3>\n",
       "Source_Name     GLON         GLAT   \n",
       "                deg          deg    \n",
       "   bytes6     float64      float64  \n",
       "----------- ------------ -----------\n",
       "       Crab 184.55754381 -5.78427369\n",
       "     Sag A*          0.0         0.0\n",
       "      Cas A 111.74169477 -2.13544151"
      ]
     },
     "execution_count": 64,
     "metadata": {},
     "output_type": "execute_result"
    }
   ],
   "source": [
    "Table.read('data/example.fits')"
   ]
  },
  {
   "cell_type": "markdown",
   "metadata": {},
   "source": [
    "### 3.4. Miscellaneous\n",
    "\n",
    "These are a few other useful operations when working with Astropy tables.\n",
    "\n",
    "Sort by key:"
   ]
  },
  {
   "cell_type": "code",
   "execution_count": 65,
   "metadata": {},
   "outputs": [],
   "source": [
    "table.sort('GLON')"
   ]
  },
  {
   "cell_type": "code",
   "execution_count": 66,
   "metadata": {},
   "outputs": [
    {
     "data": {
      "text/html": [
       "<i>Table length=3</i>\n",
       "<table id=\"table6657584432\" class=\"table-striped table-bordered table-condensed\">\n",
       "<thead><tr><th>Source_Name</th><th>GLON</th><th>GLAT</th></tr></thead>\n",
       "<thead><tr><th></th><th>deg</th><th>deg</th></tr></thead>\n",
       "<thead><tr><th>str6</th><th>float64</th><th>float64</th></tr></thead>\n",
       "<tr><td>Sag A*</td><td>0.0</td><td>0.0</td></tr>\n",
       "<tr><td>Cas A</td><td>111.74169477</td><td>-2.13544151</td></tr>\n",
       "<tr><td>Crab</td><td>184.55754381</td><td>-5.78427369</td></tr>\n",
       "</table>"
      ],
      "text/plain": [
       "<Table length=3>\n",
       "Source_Name     GLON         GLAT   \n",
       "                deg          deg    \n",
       "    str6      float64      float64  \n",
       "----------- ------------ -----------\n",
       "     Sag A*          0.0         0.0\n",
       "      Cas A 111.74169477 -2.13544151\n",
       "       Crab 184.55754381 -5.78427369"
      ]
     },
     "execution_count": 66,
     "metadata": {},
     "output_type": "execute_result"
    }
   ],
   "source": [
    "table"
   ]
  },
  {
   "cell_type": "markdown",
   "metadata": {},
   "source": [
    "Note that `.sort()` is an in place operation on the table, i.e. changes the actual table.\n",
    "\n",
    "To remove a specific row by index:"
   ]
  },
  {
   "cell_type": "code",
   "execution_count": 67,
   "metadata": {},
   "outputs": [],
   "source": [
    "table.remove_row(0)"
   ]
  },
  {
   "cell_type": "markdown",
   "metadata": {},
   "source": [
    "Astropy tables also support row-wise iteration in Python loops:"
   ]
  },
  {
   "cell_type": "code",
   "execution_count": 68,
   "metadata": {},
   "outputs": [
    {
     "name": "stdout",
     "output_type": "stream",
     "text": [
      "Cas A\n",
      "Crab\n"
     ]
    }
   ],
   "source": [
    "for row in table:\n",
    "    print(row['Source_Name'])"
   ]
  },
  {
   "cell_type": "markdown",
   "metadata": {},
   "source": [
    "Another useful feature for quickly inspecting the data contained in the table is the `.show_in_browser()` method:"
   ]
  },
  {
   "cell_type": "code",
   "execution_count": 69,
   "metadata": {},
   "outputs": [],
   "source": [
    "table.show_in_browser(jsviewer=True)"
   ]
  },
  {
   "cell_type": "markdown",
   "metadata": {},
   "source": [
    "### 3.5 Exercises\n",
    "\n",
    "- (*easy*) Add columns with the `RA` and `DEC` coordinates of the objects to the example table.\n",
    "- (*advanced *) Load the Fermi 2FHL catalog table (`'data/fermi_2fhl_catalog.fits'`) and find the brighest source (the brightness value is stored in the `'Flux50'` column). What is the common name of the source (column `'ASSOC'`)?\n",
    "Find all sources within 10 deg from the position of this source.\n",
    "- (*expert*) Make an allsky plot (using an 'Aitoff' projection) of all the sources in the Fermi 2FHL catalog grouped by source class (i.e. choose a different marker color for every source class). The class of the sources is stored in the `'CLASS'` column. There are a few possible ways to identify the groups of source class. One of them is to use [Table.group_by()](http://docs.astropy.org/en/stable/api/astropy.table.Table.html#astropy.table.Table.group_by) followed by a loop over the groups (check Astropy documentation!) another way is to use a regular Python `set` to idenfity the unique entries in the `'CLASS'` column and loop over those. You can use `plt.subplot(projection='aitoff')` to instanciate a matplotlib axes with `'Aitoff'` projection. Note that the `'Aitoff'` projection requires angular positions measured in radians."
   ]
  },
  {
   "cell_type": "markdown",
   "metadata": {},
   "source": [
    "## 4. FITS Images and WCS\n",
    "\n",
    "The [flexible image transport system](https://fits.gsfc.nasa.gov/fits_documentation.html) format (FITS) is widely used data format for astronomical images and tables. As example we will use image data of the supernova remnant [Cassiopeia A](https://en.wikipedia.org/wiki/Cassiopeia_A), taken by the [Chandra X-ray observatory](http://chandra.harvard.edu/).\n",
    "\n",
    "### 4.1 Basics\n"
   ]
  },
  {
   "cell_type": "code",
   "execution_count": 70,
   "metadata": {},
   "outputs": [],
   "source": [
    "from astropy.io import fits"
   ]
  },
  {
   "cell_type": "markdown",
   "metadata": {},
   "source": [
    "To open the fits file we use `fits.open()` and just specify the filename as an argument:"
   ]
  },
  {
   "cell_type": "code",
   "execution_count": 71,
   "metadata": {},
   "outputs": [],
   "source": [
    "hdulist = fits.open('data/casa_0.5-1.5keV.fits.gz')"
   ]
  },
  {
   "cell_type": "markdown",
   "metadata": {},
   "source": [
    "We can retrieve some basic information on the  header data unit (HDU) by calling `.info()`:"
   ]
  },
  {
   "cell_type": "code",
   "execution_count": 72,
   "metadata": {},
   "outputs": [
    {
     "name": "stdout",
     "output_type": "stream",
     "text": [
      "Filename: data/casa_0.5-1.5keV.fits.gz\n",
      "No.    Name      Ver    Type      Cards   Dimensions   Format\n",
      "  0  PRIMARY       1 PrimaryHDU      26   (1024, 1024)   float32   \n"
     ]
    }
   ],
   "source": [
    "hdulist.info()"
   ]
  },
  {
   "cell_type": "markdown",
   "metadata": {},
   "source": [
    "It contains only one `PrimaryHDU` with data dimensions `(1024, 1024)` of format `float32`. To access the hdu we use:"
   ]
  },
  {
   "cell_type": "code",
   "execution_count": 73,
   "metadata": {},
   "outputs": [],
   "source": [
    "image_hdu = hdulist['PRIMARY'] \n",
    "\n",
    "#or\n",
    "\n",
    "image_hdu = hdulist[0] "
   ]
  },
  {
   "cell_type": "markdown",
   "metadata": {},
   "source": [
    "We can access the data with the `.data` attribute:"
   ]
  },
  {
   "cell_type": "code",
   "execution_count": 74,
   "metadata": {},
   "outputs": [
    {
     "data": {
      "text/plain": [
       "array([[0., 0., 0., ..., 0., 0., 0.],\n",
       "       [0., 0., 0., ..., 0., 0., 0.],\n",
       "       [0., 0., 0., ..., 0., 0., 0.],\n",
       "       ...,\n",
       "       [0., 0., 0., ..., 0., 0., 0.],\n",
       "       [0., 0., 0., ..., 1., 0., 0.],\n",
       "       [0., 0., 0., ..., 0., 0., 0.]], dtype=float32)"
      ]
     },
     "execution_count": 74,
     "metadata": {},
     "output_type": "execute_result"
    }
   ],
   "source": [
    "image_hdu.data"
   ]
  },
  {
   "cell_type": "markdown",
   "metadata": {},
   "source": [
    "It is a plain 2d numpy array. We use `plt.imshow()` to visualize it:"
   ]
  },
  {
   "cell_type": "code",
   "execution_count": 75,
   "metadata": {},
   "outputs": [
    {
     "data": {
      "text/plain": [
       "<matplotlib.colorbar.Colorbar at 0x1909284e0>"
      ]
     },
     "execution_count": 75,
     "metadata": {},
     "output_type": "execute_result"
    },
    {
     "data": {
      "image/png": "[encoded data removed]",
      "text/plain": [
       "<Figure size 432x288 with 2 Axes>"
      ]
     },
     "metadata": {
      "needs_background": "light"
     },
     "output_type": "display_data"
    }
   ],
   "source": [
    "plt.imshow(image_hdu.data, origin='lower', cmap='afmhot')\n",
    "plt.colorbar()"
   ]
  },
  {
   "cell_type": "markdown",
   "metadata": {},
   "source": [
    "Additional meta information is stored in the `.header` attribute:"
   ]
  },
  {
   "cell_type": "code",
   "execution_count": 76,
   "metadata": {},
   "outputs": [
    {
     "data": {
      "text/plain": [
       "SIMPLE  =                    T / Fits standard                                  \n",
       "BITPIX  =                  -32 / Bits per pixel                                 \n",
       "NAXIS   =                    2 / Number of axes                                 \n",
       "NAXIS1  =                 1024 / Axis Length                                    \n",
       "NAXIS2  =                 1024 / Axis Length                                    \n",
       "OBJECT  = 'Cassiopeia A'                                                        \n",
       "DATE-OBS= '2007-12-05T22:01:59'                                                 \n",
       "DATE-END= '2007-12-08T20:07:24'                                                 \n",
       "LTM1_1  =                    1                                                  \n",
       "LTM1_2  =                    0                                                  \n",
       "LTM2_1  =                    0                                                  \n",
       "LTM2_2  =                    1                                                  \n",
       "LTV1    =                -3651                                                  \n",
       "LTV2    =                -3807                                                  \n",
       "CTYPE1  = 'RA---TAN'                                                            \n",
       "CTYPE2  = 'DEC--TAN'                                                            \n",
       "CUNIT1  = 'deg'                                                                 \n",
       "CUNIT2  = 'deg'                                                                 \n",
       "CRPIX1  =                445.5                                                  \n",
       "CRPIX2  =                289.5                                                  \n",
       "CRVAL1  =          350.8841248                                                  \n",
       "CRVAL2  =          58.78133011                                                  \n",
       "CDELT1  =     -0.0001366666693                                                  \n",
       "CDELT2  =      0.0001366666693                                                  \n",
       "EQUINOX =                 2000                                                  \n",
       "RADESYS = 'ICRS'                                                                "
      ]
     },
     "execution_count": 76,
     "metadata": {},
     "output_type": "execute_result"
    }
   ],
   "source": [
    "image_hdu.header"
   ]
  },
  {
   "cell_type": "markdown",
   "metadata": {},
   "source": [
    "We now use the header information to create a world coordinate to pixel coordinate transformation, using the [astropy.wcs.WCS](http://docs.astropy.org/en/stable/api/astropy.wcs.WCS.html#astropy.wcs.WCS) class:"
   ]
  },
  {
   "cell_type": "code",
   "execution_count": 77,
   "metadata": {},
   "outputs": [],
   "source": [
    "from astropy.wcs import WCS"
   ]
  },
  {
   "cell_type": "code",
   "execution_count": 78,
   "metadata": {},
   "outputs": [
    {
     "name": "stdout",
     "output_type": "stream",
     "text": [
      "WCS Keywords\n",
      "\n",
      "Number of WCS axes: 2\n",
      "CTYPE : 'RA---TAN'  'DEC--TAN'  \n",
      "CRVAL : 350.8841248  58.78133011  \n",
      "CRPIX : 445.5  289.5  \n",
      "PC1_1 PC1_2  : 1.0  0.0  \n",
      "PC2_1 PC2_2  : 0.0  1.0  \n",
      "CDELT : -0.0001366666693  0.0001366666693  \n",
      "NAXIS : 1024  1024\n"
     ]
    }
   ],
   "source": [
    "wcs = WCS(image_hdu.header)\n",
    "print(wcs)"
   ]
  },
  {
   "cell_type": "markdown",
   "metadata": {},
   "source": [
    "Using the helper methods [SkyCoord.to_pixel()](http://docs.astropy.org/en/stable/api/astropy.coordinates.SkyCoord.html#astropy.coordinates.SkyCoord.to_pixel) and [SkyCood.from_pixel()](http://docs.astropy.org/en/stable/api/astropy.coordinates.SkyCoord.html#astropy.coordinates.SkyCoord.from_pixel) we can now convert every position in the image to the corresponding sky coordinate:"
   ]
  },
  {
   "cell_type": "code",
   "execution_count": 79,
   "metadata": {},
   "outputs": [
    {
     "data": {
      "text/plain": [
       "<SkyCoord (ICRS): (ra, dec) in deg\n",
       "    (351.00119731, 58.74184873)>"
      ]
     },
     "execution_count": 79,
     "metadata": {},
     "output_type": "execute_result"
    }
   ],
   "source": [
    "SkyCoord.from_pixel(0, 0, wcs)"
   ]
  },
  {
   "cell_type": "code",
   "execution_count": 80,
   "metadata": {},
   "outputs": [
    {
     "data": {
      "text/plain": [
       "(array(511.59886806), array(511.29670003))"
      ]
     },
     "execution_count": 80,
     "metadata": {},
     "output_type": "execute_result"
    }
   ],
   "source": [
    "# position_casa = SkyCoord.from_name('Cas A')\n",
    "\n",
    "# or\n",
    "\n",
    "position_casa = SkyCoord('23h23m27.94s', '+58d48m42.4s', frame='icrs')\n",
    "\n",
    "position_casa.to_pixel(wcs)"
   ]
  },
  {
   "cell_type": "markdown",
   "metadata": {},
   "source": [
    "### 4.2 Exercises\n",
    "\n",
    "- (*easy*) Read in the data from the other energy bands (`'data/casa_1.5-3.0keV.fits.gz'` and `'data/casa_4.0-6.0keV.fits.gz'`) as well, sum up all the data from the three energy bands. Plot the summed data using [plt.imshow()](https://matplotlib.org/devdocs/api/_as_gen/matplotlib.axes.Axes.imshow.html) again.\n",
    "\n",
    "- (*advanced*) Cutout the central region of the image using [astropy.nddata.Cutout2D](http://docs.astropy.org/en/stable/api/astropy.nddata.Cutout2D.html) (size of 0.05 deg x 0.05 deg around the position of `'Cas A'`). Find the sky position of the brightest pixel in the cutout data. For this [np.argmax()](https://docs.scipy.org/doc/numpy/reference/generated/numpy.argmax.html) and [np.unravel_index()](https://docs.scipy.org/doc/numpy/reference/generated/numpy.unravel_index.html) might be helpful. Make sure you use the updated `.data` and `.wcs` attributes of the `Cutout2D` object to achieve the latter.\n",
    "   \n",
    "- (*expert, very hard*) Calculate a radial profile of the image data to estimate the size of the shell of the supernova remnant. For this sum up all the data that is contained in the rings (specified  by `radii_min` and `radii_max`) around the center position of *Cas A*. Choose a total minimum radius of `0 arcmin` and total maximum radius of `5 arcmin` divided in 50 steps. You can use [np.indices()](https://docs.scipy.org/doc/numpy/reference/generated/numpy.indices.html) to get arrays of x and y pixel positions, that can be transformed to sky positions. Make sure you use clever numpy masking and broadcasting to avoid a Python loop over the `radii_min` and `radii_max` arrays (**hint**: [ndarray.reshape(-1, ...)](https://docs.scipy.org/doc/numpy/reference/generated/numpy.reshape.html#numpy.reshape) might be useful to expand the data and radius arrays to the third dimension). "
   ]
  },
  {
   "cell_type": "markdown",
   "metadata": {},
   "source": [
    "## 5. Plotting of sky images (optional)"
   ]
  },
  {
   "cell_type": "markdown",
   "metadata": {
    "collapsed": true
   },
   "source": [
    "The [Matplotlib](https://matplotlib.org/) package is a very popular plotting package for Python. Astropy provides a helper module [astropy.visualization.wcsaxes](http://docs.astropy.org/en/stable/visualization/wcsaxes/) to simplify plotting of sky images with Matplotlib.\n",
    "\n",
    "To use it we just pass `projection=wcs` to the `plt.subplot()` function:"
   ]
  },
  {
   "cell_type": "code",
   "execution_count": 81,
   "metadata": {},
   "outputs": [
    {
     "data": {
      "image/png": "[encoded data removed]",
      "text/plain": [
       "<Figure size 432x288 with 1 Axes>"
      ]
     },
     "metadata": {
      "needs_background": "light"
     },
     "output_type": "display_data"
    }
   ],
   "source": [
    "ax = plt.subplot(projection=wcs)\n",
    "ax.imshow(image_hdu.data, cmap='afmhot', origin='lower')\n",
    "\n",
    "ax.set_xlabel('RA (deg)')\n",
    "ax.set_ylabel('DEC (deg)')"
   ]
  },
  {
   "cell_type": "markdown",
   "metadata": {},
   "source": [
    "And we get the plot with the x-axis and y-axis in sky coordinates. \n",
    "\n",
    "We can add a coordinate grid with `ax.grid()`:"
   ]
  },
  {
   "cell_type": "code",
   "execution_count": 82,
   "metadata": {},
   "outputs": [
    {
     "data": {
      "image/png": "[encoded data removed]",
      "text/plain": [
       "<Figure size 432x288 with 1 Axes>"
      ]
     },
     "execution_count": 82,
     "metadata": {},
     "output_type": "execute_result"
    }
   ],
   "source": [
    "ax.grid(linewidth=0.3, linestyle='dashed', color='white')\n",
    "ax.figure"
   ]
  },
  {
   "cell_type": "markdown",
   "metadata": {},
   "source": [
    "We add a white cross to mark the center position of `'Cas A'`:"
   ]
  },
  {
   "cell_type": "code",
   "execution_count": 83,
   "metadata": {},
   "outputs": [
    {
     "data": {
      "image/png": "[encoded data removed]",
      "text/plain": [
       "<Figure size 432x288 with 1 Axes>"
      ]
     },
     "execution_count": 83,
     "metadata": {},
     "output_type": "execute_result"
    }
   ],
   "source": [
    "ra = position_casa.icrs.ra.deg\n",
    "dec = position_casa.icrs.dec.deg\n",
    "ax.scatter(ra, dec, transform=ax.get_transform('icrs'), color='white', marker='x')\n",
    "ax.figure"
   ]
  },
  {
   "cell_type": "markdown",
   "metadata": {},
   "source": [
    "### 5.1 Exercises\n",
    "\n",
    "- (*easy*) Make a combined plot of the Chandra data for all energy bands side by side (one row, three columns)\n",
    "and put the energy information in the title of the subplot. You can use e.g. `plt.subplot()` (check the matplotlib documentation).  \n",
    "- (*advanced*) Make a combined RGB image of the Chandra data in different energy bands. Therefore you have to\n",
    "renormalize the data per energy band to the maximum value of respective energy band and combine the data into a 3d array with a shape that is compatible with `plt.imshow()` (check the matplotlib documentation!). You can also try to experiment with the Astropy function [make_lupton_rgb](http://docs.astropy.org/en/stable/api/astropy.visualization.make_lupton_rgb.html#astropy.visualization.make_lupton_rgb). For this you can find a [tutorial in the Astropy documentation](http://docs.astropy.org/en/stable/visualization/lupton_rgb.html)."
   ]
  },
  {
   "cell_type": "markdown",
   "metadata": {},
   "source": [
    "## Acknowledgements\n",
    "![](asterics_log.png)\n",
    "\n",
    "This tutorial was supported by the H2020-Astronomy ESFRI and Research Infrastructure Cluster (Grant Agreement number: 653477)."
   ]
  }
 ],
 "metadata": {
  "kernelspec": {
   "display_name": "Python 3",
   "language": "python",
   "name": "python3"
  },
  "language_info": {
   "codemirror_mode": {
    "name": "ipython",
    "version": 3
   },
   "file_extension": ".py",
   "mimetype": "text/x-python",
   "name": "python",
   "nbconvert_exporter": "python",
   "pygments_lexer": "ipython3",
   "version": "3.7.0"
  }
 },
 "nbformat": 4,
 "nbformat_minor": 2
}
