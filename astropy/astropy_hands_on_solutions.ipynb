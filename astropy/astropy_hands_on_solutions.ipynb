{
 "cells": [
  {
   "cell_type": "markdown",
   "metadata": {},
   "source": [
    "# Hands On Astropy Tutorial - Solutions to the exercises\n",
    "**Tutors:** Axel Donath and Christoph Deil\n",
    "\n",
    "\n",
    "This notebook contains the solutions to the exercises in [astropy_hands_on.ipynb](https://github.com/Asterics2020-Obelics/School2017/blob/master/astropy/astropy_hands_on.ipynb)"
   ]
  },
  {
   "cell_type": "code",
   "execution_count": 1,
   "metadata": {
    "collapsed": true
   },
   "outputs": [],
   "source": [
    "%matplotlib inline\n",
    "import matplotlib.pyplot as plt\n",
    "import numpy as np"
   ]
  },
  {
   "cell_type": "markdown",
   "metadata": {},
   "source": [
    "## 1. Units and Quantities"
   ]
  },
  {
   "cell_type": "markdown",
   "metadata": {},
   "source": [
    "- (*easy*) How long does the light travel from the sun to the earth in minutes? How long does the light travel from the Galactic center (assume a distance of 8 kpc) in years? \n"
   ]
  },
  {
   "cell_type": "code",
   "execution_count": 2,
   "metadata": {},
   "outputs": [
    {
     "name": "stdout",
     "output_type": "stream",
     "text": [
      "Light travels from sun to earth in 8.32 min\n",
      "Light travels from the GC to earth in 26092.51 yr\n"
     ]
    }
   ],
   "source": [
    "from astropy import constants as const\n",
    "import astropy.units as u\n",
    "\n",
    "# distance sun - earth\n",
    "distance_sun = 1 * u.au\n",
    "# speed of light\n",
    "speed = const.c\n",
    "# time\n",
    "time_sun = distance_sun / speed\n",
    "print(\"Light travels from sun to earth in {:.2f}\".format(time_sun.to('min')))\n",
    "\n",
    "# distance to GC\n",
    "distance_gc = 8 * u.kpc\n",
    "# time\n",
    "time_gc = distance_gc / speed\n",
    "print(\"Light travels from the GC to earth in {:.2f}\".format(time_gc.to('yr')))"
   ]
  },
  {
   "cell_type": "markdown",
   "metadata": {},
   "source": [
    "- (*advanced*) Define a new unit called `\"baro-meter\"`, which is eqivalent to 25 cm and use it to measure the height of the empire state building (assume a height of 381 meters). Please read the [Astropy documentation on equivalencies](http://docs.astropy.org/en/stable/units/equivalencies.html#writing-new-equivalencies) for an example how to do this ( For other ways to measure the height of a building using a barometer see [barometer question on Wikipedia](https://en.wikipedia.org/wiki/Barometer_question)...)"
   ]
  },
  {
   "cell_type": "code",
   "execution_count": 3,
   "metadata": {},
   "outputs": [
    {
     "name": "stdout",
     "output_type": "stream",
     "text": [
      "The height of the empire state building in baro-meters is 1524.0 baro-meter\n"
     ]
    }
   ],
   "source": [
    "# define new unit baro-meter\n",
    "bm = u.def_unit('baro-meter')\n",
    "\n",
    "# define equivalency\n",
    "baro_meter = [\n",
    "   (bm, u.cm, lambda x: 25 * x, lambda x: x / 25)\n",
    "]\n",
    "\n",
    "# height of the empire state building\n",
    "height = 381 * u.m\n",
    "\n",
    "# convert to baro-meters\n",
    "height_bm = height.to(bm, equivalencies=baro_meter)\n",
    "print(\"The height of the empire state building in baro-meters is {}\".format(height_bm))"
   ]
  },
  {
   "cell_type": "markdown",
   "metadata": {},
   "source": [
    "- (*expert*) Find the frequency with the maximum photon rate of the black body spectrum $\\mathcal{B}(\\nu, T)$ with temperature $T=5000~\\mathrm{K}$. For this you can use a numerical optimization routine such as [scipy.optimize.minimize](https://docs.scipy.org/doc/scipy/reference/generated/scipy.optimize.minimize.html).\n",
    "As the frequency as well as the radiance can cover many orders of magnitude, the stability of the algorithm can be much improved by minimizing the (negative) logarithm of the radiance $-\\log{\\mathcal{B}}$ as well as minimizing with respect to the logarithm of the frequency by introducing the variable $x = \\log{\\nu}$. Finally compare the result against the analytical solution from [Wien's displacement law](https://en.wikipedia.org/wiki/Wien%27s_displacement_law). "
   ]
  },
  {
   "cell_type": "code",
   "execution_count": 4,
   "metadata": {
    "collapsed": true
   },
   "outputs": [],
   "source": [
    "from scipy.optimize import minimize\n",
    "\n",
    "# Copy over the definition from the tutorial notebook \n",
    "@u.quantity_input(frequency=u.hertz, temperature=u.K)\n",
    "def blackbody(frequency, temperature): \n",
    "    pre_factor = 2 * (const.h * frequency ** 3) / const.c ** 2\n",
    "    exponential_factor = 1. / (np.exp((const.h * frequency) / (const.k_B * temperature)) - 1)\n",
    "    return pre_factor * exponential_factor\n",
    "\n",
    "\n",
    "# Define the objective function that shall be minimized\n",
    "# We introduce x = np.log(frequency) => frequency = np.exp(x)\n",
    "# And convert the radiance to well defined units and take the negative logarithm\n",
    "def objective_funtion(x):\n",
    "    frequency = np.exp(x) * u.Hz\n",
    "    radiance = blackbody(frequency=frequency, temperature=5000 * u.K)\n",
    "    value = -np.log(radiance.to('Hz3 J s3 / m2').value)\n",
    "    return value\n",
    " \n",
    "result = minimize(objective_funtion, x0=np.log(1E14), method='Nelder-Mead') \n",
    "frequency_max = np.exp(result['x']) * u.Hz\n",
    "\n",
    "# Equation taken from https://en.wikipedia.org/wiki/Wien%27s_displacement_law#Alternate_Maxima\n",
    "@u.quantity_input(temperature=u.K)\n",
    "def wiens_displacement_law(temperature):\n",
    "    return 0.058789e12 * u.Hz / u.K * temperature \n",
    "\n",
    "\n",
    "frequency_max_wien = wiens_displacement_law(temperature=5000*u.K)"
   ]
  },
  {
   "cell_type": "code",
   "execution_count": null,
   "metadata": {},
   "outputs": [
    {
     "name": "stdout",
     "output_type": "stream",
     "text": [
      "The numerical optimization gives: 2.939e+14 Hz\n",
      "Wien's displacement law gives   : 2.939e+14 Hz\n"
     ]
    }
   ],
   "source": [
    "print(\"The numerical optimization gives: {[0]:.3e}\".format(frequency_max))\n",
    "print(\"Wien's displacement law gives   : {:.3e}\".format(frequency_max_wien))"
   ]
  },
  {
   "cell_type": "markdown",
   "metadata": {},
   "source": [
    "## 2. Coordinates"
   ]
  },
  {
   "cell_type": "markdown",
   "metadata": {},
   "source": [
    "- (*easy*) Define the sky coordinate for your favorite object and find the distance to the crab nebula and Galactic center."
   ]
  },
  {
   "cell_type": "code",
   "execution_count": null,
   "metadata": {},
   "outputs": [],
   "source": [
    "from astropy.coordinates import SkyCoord\n",
    "\n",
    "# Coordinate of PKS2155-305\n",
    "coord_pks = SkyCoord.from_name('pks2155-304')\n",
    "\n",
    "# Coordinate of the Crab Nebula\n",
    "coord_crab = SkyCoord.from_name('crab')\n",
    "separation_crab = coord_pks.separation(coord_crab)\n",
    "print('The angular distance between PKS2155-204 and the Crab Nebula is {:.2f}'.format(separation_crab))\n",
    "\n",
    "# Coordinate of the Galactic Center\n",
    "coord_gc = SkyCoord(0, 0, unit='deg', frame='galactic')\n",
    "separation_gc = coord_pks.separation(coord_gc)\n",
    "print('The angular distance between PKS2155-204 and the Galactic Center is {:.2f}'.format(separation_gc))"
   ]
  },
  {
   "cell_type": "markdown",
   "metadata": {},
   "source": [
    "- (*expert*) Make a plot of the height above horizon vs.time for the crab position at the location of Annecy. Mark the the time range where it is visible. Would the crab be visible tonight?"
   ]
  },
  {
   "cell_type": "code",
   "execution_count": null,
   "metadata": {},
   "outputs": [],
   "source": [
    "from astropy.coordinates import EarthLocation, AltAz\n",
    "from astropy.time import Time\n",
    "import numpy as np\n",
    "from astropy.visualization import quantity_support\n",
    "\n",
    "# Define coordinate\n",
    "coord_crab = SkyCoord.from_name('crab')\n",
    "\n",
    "# Set location\n",
    "annecy = EarthLocation(lat=45.8058 * u.deg, lon=6.5726 * u.deg)\n",
    "\n",
    "# Define array of times (30 minute intervals)\n",
    "time_intervals = np.linspace(0 * u.day, 1 *u.day, 48)\n",
    "\n",
    "time_start = Time('2017-06-09 00:00:00')\n",
    "times = Time(time_start + time_intervals)\n",
    "\n",
    "# Get AltAz coordinates\n",
    "altaz = AltAz(obstime=times, location=annecy)\n",
    "crab_altaz = coord_crab.transform_to(altaz)\n",
    "\n",
    "# Get altitude over horizon\n",
    "altitudes = crab_altaz.alt.to('deg')\n",
    "\n",
    "# Get times when altitude > 0\n",
    "above_horizon = altitudes > 0 * u.deg\n",
    "\n",
    "with quantity_support():\n",
    "    plt.plot_date(times.plot_date, altitudes, fmt='-')\n",
    "    \n",
    "    # orient date labels at a slant\n",
    "    plt.gcf().autofmt_xdate() \n",
    "    \n",
    "    alt_min, alt_max = -25 * u.deg, 75 * u.deg\n",
    "    plt.fill_between(times.plot_date,\n",
    "                     alt_min, alt_max,\n",
    "                     where=above_horizon,\n",
    "                     facecolor='green',\n",
    "                     alpha=0.5)\n",
    "    plt.ylim(alt_min, alt_max)"
   ]
  },
  {
   "cell_type": "markdown",
   "metadata": {},
   "source": [
    "## 3. Tables"
   ]
  },
  {
   "cell_type": "markdown",
   "metadata": {},
   "source": [
    "- (*easy*) Add columns with the `RA` and `DEC` coordinates of the objects to the example table."
   ]
  },
  {
   "cell_type": "code",
   "execution_count": null,
   "metadata": {},
   "outputs": [],
   "source": [
    "# Get example table\n",
    "from astropy.table import Table\n",
    "table = Table()\n",
    "table['Source_Name'] = ['Crab', 'Sag A*', 'Cas A']\n",
    "table['GLON'] = [184.55754381, 0, 111.74169477] * u.deg\n",
    "table['GLAT'] = [-5.78427369, 0, -2.13544151] * u.deg\n",
    "\n",
    "# Create SkyCoord object holding all 3 sky coordinates\n",
    "coords = SkyCoord(table['GLON'].quantity, table['GLAT'].quantity, frame='galactic')\n",
    "\n",
    "# Add new columns\n",
    "table['RA'] = coords.icrs.ra\n",
    "table['DEC'] = coords.icrs.dec\n",
    "\n",
    "# Pretty-print the table\n",
    "table.pprint()"
   ]
  },
  {
   "cell_type": "markdown",
   "metadata": {},
   "source": [
    "- (*advanced *) Load the Fermi 2FHL catalog table (`'data/fermi_2fhl_catalog.fits'`) and find the brighest source (the brightness value is stored in the `'Flux50'` column). What is the common name of the source (column `'ASSOC'`)?\n",
    "Find all sources within 10 deg from the position of this source."
   ]
  },
  {
   "cell_type": "code",
   "execution_count": null,
   "metadata": {},
   "outputs": [],
   "source": [
    "# Read table\n",
    "fermi_2fhl = Table.read('data/fermi_2fhl_catalog.fits', hdu=1)\n",
    "\n",
    "# Sort by brightness\n",
    "fermi_2fhl.sort('Flux50')\n",
    "\n",
    "# With -1 we get the last element\n",
    "print('The brightest source in the catalog is: {} \\n'.format(fermi_2fhl[-1]['ASSOC']))\n",
    "\n",
    "# Define crab position\n",
    "coord_crab = SkyCoord.from_name('Crab') #TODo Define coord from table\n",
    "\n",
    "# Get SkyCoords of objects in the table\n",
    "coords = SkyCoord(fermi_2fhl['GLON'], fermi_2fhl['GLAT'], frame='galactic')\n",
    "\n",
    "# Find rows where separation < 1 deg\n",
    "separation = coord_crab.separation(coords)\n",
    "\n",
    "# Print result\n",
    "max_separation = 10 * u.deg\n",
    "fermi_2fhl[separation < max_separation]"
   ]
  },
  {
   "cell_type": "markdown",
   "metadata": {},
   "source": [
    "- (*expert*) Make an allsky plot (using an 'Aitoff' projection) of all the sources in the Fermi 2FHL catalog grouped by source class (i.e. choose a different marker color for every source class). The class of the sources is stored in the `'CLASS'` column. There are a few possible ways to identify the groups of source class. One of them is to use [Table.group_by()](http://docs.astropy.org/en/stable/api/astropy.table.Table.html#astropy.table.Table.group_by) followed by a loop over the groups (check Astropy documentation!) another way is to use a regular Python `set` to idenfity the unique entries in the `'CLASS'` column and loop over those. You can use `plt.subplot(projection='aitoff')` to instanciate a matplotlib axes with `'Aitoff'` projection. Note that the `'Aitoff'` projection requires angular positions measured in radians."
   ]
  },
  {
   "cell_type": "code",
   "execution_count": null,
   "metadata": {},
   "outputs": [],
   "source": [
    "source_classes = set(fermi_2fhl['CLASS'])\n",
    "\n",
    "print('Source classes: {}'.format(source_classes))"
   ]
  },
  {
   "cell_type": "code",
   "execution_count": null,
   "metadata": {},
   "outputs": [],
   "source": [
    "from astropy.coordinates import Angle\n",
    "\n",
    "plt.figure(figsize=(12, 5))\n",
    "ax = plt.subplot(projection='aitoff')\n",
    "\n",
    "glon = Angle(fermi_2fhl['GLON'].quantity)\n",
    "glon = glon.wrap_at('180d')\n",
    "\n",
    "glat = Angle(fermi_2fhl['GLAT'].quantity)\n",
    "\n",
    "with quantity_support():\n",
    "    for source_class in sorted(source_classes):\n",
    "        selection = fermi_2fhl['CLASS'] == source_class\n",
    "        ax.scatter(glon[selection].rad, glat[selection].rad, label=source_class)\n",
    "    ax.grid()\n",
    "    plt.legend(bbox_to_anchor=(1.15, 1), loc=1)"
   ]
  },
  {
   "cell_type": "markdown",
   "metadata": {},
   "source": [
    "## 4. FITS Images and WCS"
   ]
  },
  {
   "cell_type": "markdown",
   "metadata": {},
   "source": [
    "- (*easy*) Read in the data from the other energy bands (`'data/casa_1.5-3.0keV.fits.gz'` and `'data/casa_4.0-6.0keV.fits.gz'`) as well, sum up all the data from the three energy bands. Plot the summed data using [plt.imshow()](https://matplotlib.org/devdocs/api/_as_gen/matplotlib.axes.Axes.imshow.html) again."
   ]
  },
  {
   "cell_type": "code",
   "execution_count": null,
   "metadata": {},
   "outputs": [],
   "source": [
    "from astropy.io import fits\n",
    "\n",
    "filenames = ['data/casa_0.5-1.5keV.fits.gz', 'data/casa_1.5-3.0keV.fits.gz',\n",
    "             'data/casa_4.0-6.0keV.fits.gz']\n",
    "\n",
    "data_list = []\n",
    "\n",
    "for filename in filenames:\n",
    "    image_hdu = fits.open(filename)['PRIMARY']\n",
    "    data_list.append(image_hdu.data)\n",
    "    \n",
    "data_summed = np.sum(data_list, axis=0)\n",
    "plt.imshow(data_summed, origin='lower', cmap='afmhot')"
   ]
  },
  {
   "cell_type": "markdown",
   "metadata": {},
   "source": [
    "- (*advanced*) Cutout the central region of the image using [astropy.nddata.Cutout2D](http://docs.astropy.org/en/stable/api/astropy.nddata.Cutout2D.html) (size of 0.05 deg x 0.05 deg around the position of `'Cas A'`). Find the sky position of the brightest pixel in the cutout data. For this [np.argmax()](https://docs.scipy.org/doc/numpy/reference/generated/numpy.argmax.html) and [np.unravel_index()](https://docs.scipy.org/doc/numpy/reference/generated/numpy.unravel_index.html) might be helpful. Make sure you use the updated `.data` and `.wcs` attributes of the `Cutout2D` object to achieve the latter."
   ]
  },
  {
   "cell_type": "code",
   "execution_count": null,
   "metadata": {},
   "outputs": [],
   "source": [
    "from astropy.nddata.utils import Cutout2D\n",
    "from astropy.wcs import WCS\n",
    "\n",
    "image_hdu = fits.open('data/casa_0.5-1.5keV.fits.gz')['PRIMARY']\n",
    "wcs = WCS(image_hdu.header) \n",
    "image_data = image_hdu.data\n",
    "\n",
    "pos_casa = SkyCoord.from_name('Cas A')\n",
    "\n",
    "data_cutout = Cutout2D(image_data, position=pos_casa,\n",
    "                       wcs=wcs, size=0.05 * u.deg)\n",
    "\n",
    "# Find index of maximum value (this will return the\n",
    "# index on the flattened array)\n",
    "idx_flat = data_cutout.data.argmax()\n",
    "\n",
    "# Transform back to the original shape\n",
    "idx = np.unravel_index(idx_flat, data_cutout.data.shape)\n",
    "\n",
    "# Transform to SkyCoord\n",
    "pos = SkyCoord.from_pixel(*idx, wcs=data_cutout.wcs)\n",
    "print(\"The position of the brightest pixel in the image is: {}\".format(pos))"
   ]
  },
  {
   "cell_type": "markdown",
   "metadata": {},
   "source": [
    "- (*very hard*) Calculate a radial profile of the image data to estimate the size of the shell of the supernova remnant. For this sum up all the data within a set of rings (specified  by `radii_min` and `radii_max`, choose a total minimum radius of `0 arcmin` and total maximum radius of `5 arcmin`) around the center position of *Cas A*. You can use [np.indices()](https://docs.scipy.org/doc/numpy/reference/generated/numpy.indices.html) to get arrays of x and y pixel positions. Make sure you use clever numpy broadcasting to avoid a Python loop over the `radii_min` and `radii_max` arrays (**hint**: [ndarray.reshape(-1, ...)](https://docs.scipy.org/doc/numpy/reference/generated/numpy.reshape.html#numpy.reshape) might be useful to expand the data and radius array to the third dimension)."
   ]
  },
  {
   "cell_type": "code",
   "execution_count": null,
   "metadata": {},
   "outputs": [],
   "source": [
    "from astropy.wcs import WCS\n",
    " \n",
    "# open image\n",
    "image_hdu = fits.open('data/casa_1.5-3.0keV.fits.gz')['PRIMARY']\n",
    "wcs = WCS(image_hdu.header)\n",
    "image_data = image_hdu.data\n",
    "\n",
    "# define position and integration radius\n",
    "pos_casa = SkyCoord.from_name('Cas A')\n",
    "\n",
    "# create an array of sky positions for each pixel\n",
    "yp, xp = np.indices(image_data.shape)\n",
    "sky_positions = SkyCoord.from_pixel(xp=xp, yp=yp, wcs=wcs)\n",
    "\n",
    "# calculate separation image\n",
    "separation = pos_casa.separation(sky_positions)\n",
    "\n",
    "# initialize radius arrays\n",
    "radii = np.linspace(0, 5, 50).reshape(-1, 1, 1) * u.arcmin\n",
    "radii_min, radii_max = radii[:-1], radii[1:]\n",
    "\n",
    "# mask out the annulus regions\n",
    "mask = (separation > radii_min) & (separation < radii_max)\n",
    "\n",
    "data_masked = mask * image_data.reshape(-1, 1024, 1024)\n",
    "data_summed = data_masked.sum(axis=-1).sum(axis=-1)\n",
    "\n",
    "radius_center = (radii_min[:, 0, 0] + radii_max[:, 0, 0]) / 2.\n",
    "\n",
    "with quantity_support():\n",
    "    plt.plot(radius_center, data_summed)\n",
    "    plt.xlabel('Radius (arcmin)')\n",
    "    plt.ylabel('Profile Amplitude (A.U.)')\n"
   ]
  },
  {
   "cell_type": "markdown",
   "metadata": {},
   "source": [
    "**Note:** Even if we avoided the Python loop by expanding the Numpy data array in the third dimension, this is still not\n",
    "the most efficient implementation to measure radial profiles on images. Better solutions are based on counting pixels by indices. E.g. look at the implementations http://docs.gammapy.org/dev/_modules/gammapy/image/radial_profile.html#radial_profile or https://stackoverflow.com/questions/21242011/most-efficient-way-to-calculate-radial-profile/21242776#2124277e."
   ]
  },
  {
   "cell_type": "markdown",
   "metadata": {},
   "source": [
    "## 5. Plotting of sky images (optional)"
   ]
  },
  {
   "cell_type": "markdown",
   "metadata": {},
   "source": [
    "- (*easy*) Make a combined plot of the Chandra data for all energy bands side by side (one row, three columns)\n",
    "and put the energy information in the title of the subplot. You can use e.g. `plt.sublots()`.  "
   ]
  },
  {
   "cell_type": "code",
   "execution_count": null,
   "metadata": {},
   "outputs": [],
   "source": [
    "from astropy.io import fits\n",
    "from astropy.wcs import WCS\n",
    "\n",
    "# We define a figure size, that has an aspect ratio to accomodate three plots side by side\n",
    "fig = plt.figure(figsize=(12, 3))\n",
    "filenames = ['data/casa_0.5-1.5keV.fits.gz', 'data/casa_1.5-3.0keV.fits.gz', 'data/casa_4.0-6.0keV.fits.gz']\n",
    "\n",
    "# For convenience we use a Python loop here, but the same can be achieved\n",
    "# by copy and pasting the code for one energy band\n",
    "for idx, filename in enumerate(filenames):\n",
    "    image_hdu = fits.open(filename)['PRIMARY']\n",
    "    wcs = WCS(image_hdu.header)\n",
    "    ax = plt.subplot(1, 3, idx + 1, projection=wcs)\n",
    "    ax.imshow(image_hdu.data, origin='lower', cmap='afmhot')\n",
    "    \n",
    "    # We extract the energy range from the filename, by setting it \"by hand\" is also fine\n",
    "    energy_range = filename[10:20]\n",
    "    ax.set_title('Energy range: {}'.format(energy_range))\n",
    "    \n",
    "    ax.set_xlabel('RA (deg)')\n",
    "    ax.set_ylabel('DEC (deg)')\n",
    "    "
   ]
  },
  {
   "cell_type": "markdown",
   "metadata": {},
   "source": [
    "- (*advanced*) Make a combined RGB image of the Chandra data in different energy bands. Therefore you have to\n",
    "renormalize the data per energy band to the maximum value of respective energy band and combine the data into a 3d array with a shape that is recognised by `plt.imshow()` (check the matplotlib documentation!)."
   ]
  },
  {
   "cell_type": "code",
   "execution_count": null,
   "metadata": {},
   "outputs": [],
   "source": [
    "from astropy.visualization import AsinhStretch\n",
    "\n",
    "# use asinh stretching to brighten up the image\n",
    "stretch = AsinhStretch(0.1)\n",
    "\n",
    "data_rgb = []\n",
    "\n",
    "for filename in filenames:\n",
    "    image_hdu = fits.open(filename)['PRIMARY']\n",
    "    data = image_hdu.data\n",
    "    data /= data.max()\n",
    "    data = stretch(data)\n",
    "    data_rgb.append(data)\n",
    "\n",
    "data_rgb_stacked = np.stack(data_rgb, axis=2)\n",
    "\n",
    "plt.figure(figsize=(10, 10))\n",
    "ax = plt.subplot(projection=wcs)\n",
    "ax.imshow(data_rgb_stacked, origin='lower')\n",
    "\n",
    "ax.set_xlabel('RA (deg)')\n",
    "ax.set_ylabel('DEC (deg)')"
   ]
  },
  {
   "cell_type": "markdown",
   "metadata": {},
   "source": [
    "## Acknowledgements\n",
    "![](asterics_log.png)\n",
    "\n",
    "This tutorial was supported by the H2020-Astronomy ESFRI and Research Infrastructure Cluster (Grant Agreement number: 653477)."
   ]
  }
 ],
 "metadata": {
  "kernelspec": {
   "display_name": "Python 3",
   "language": "python",
   "name": "python3"
  },
  "language_info": {
   "codemirror_mode": {
    "name": "ipython",
    "version": 3
   },
   "file_extension": ".py",
   "mimetype": "text/x-python",
   "name": "python",
   "nbconvert_exporter": "python",
   "pygments_lexer": "ipython3",
   "version": "3.5.4"
  }
 },
 "nbformat": 4,
 "nbformat_minor": 2
}
