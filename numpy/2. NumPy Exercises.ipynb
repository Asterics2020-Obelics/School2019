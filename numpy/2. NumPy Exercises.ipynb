{
 "cells": [
  {
   "cell_type": "markdown",
   "metadata": {
    "slideshow": {
     "slide_type": "slide"
    }
   },
   "source": [
    "# NumPy Exercises\n",
    "\n",
    "Tamás Gál (tamas.gal@fau.de)\n",
    "\n",
    "The latest version of this notebook is available at [https://github.com/Asterics2020-Obelics](https://github.com/Asterics2020-Obelics/School2019/tree/master/numpy)"
   ]
  },
  {
   "cell_type": "code",
   "execution_count": 1,
   "metadata": {
    "slideshow": {
     "slide_type": "slide"
    }
   },
   "outputs": [
    {
     "name": "stdout",
     "output_type": "stream",
     "text": [
      "Python version:  3.7.2 (default, Jan 10 2019, 10:02:28) \n",
      "[GCC 8.2.1 20181127]\n",
      "NumPy version:   1.16.2\n",
      "numba version:   0.43.1\n",
      "numexpr version: 2.6.9\n"
     ]
    }
   ],
   "source": [
    "import numpy as np\n",
    "import numba as nb\n",
    "import numexpr as ne\n",
    "import sys\n",
    "\n",
    "print(\"Python version:  {0}\\n\"\n",
    "      \"NumPy version:   {1}\\n\"\n",
    "      \"numba version:   {2}\\n\"\n",
    "      \"numexpr version: {3}\"\n",
    "      .format(sys.version, np.__version__, nb.__version__, ne.__version__))"
   ]
  },
  {
   "cell_type": "code",
   "execution_count": 2,
   "metadata": {
    "slideshow": {
     "slide_type": "fragment"
    }
   },
   "outputs": [],
   "source": [
    "%matplotlib inline\n",
    "import matplotlib.pyplot as plt\n",
    "plt.rcParams['figure.figsize'] = (16, 5)\n",
    "plt.rcParams['figure.dpi'] = 300"
   ]
  },
  {
   "cell_type": "markdown",
   "metadata": {
    "slideshow": {
     "slide_type": "slide"
    }
   },
   "source": [
    "## Exercise 1: Extract the integer part of a random sample\n",
    "\n",
    "    np.random.uniform(0, 10, 10)\n",
    "    \n",
    "e.g. `[23.5, 42.0, 500.3, 123.9] -> [23, 42, 500, 123]`"
   ]
  },
  {
   "cell_type": "markdown",
   "metadata": {
    "slideshow": {
     "slide_type": "slide"
    }
   },
   "source": [
    "## Exercise 2: Create a 5x5 matrix with 5's on its diagonal\n",
    "\n",
    "```5 0 0 0 0\n",
    "0 5 0 0 0\n",
    "0 0 5 0 0\n",
    "0 0 0 5 0\n",
    "0 0 0 0 5\n",
    "```"
   ]
  },
  {
   "cell_type": "markdown",
   "metadata": {
    "slideshow": {
     "slide_type": "slide"
    }
   },
   "source": [
    "## Exercise 3: Calculate `c`, with:\n",
    "\n",
    "    a = np.random.random(1234567)\n",
    "    b = np.random.random(1234567)\n",
    "  \n",
    "so that\n",
    "\n",
    "$$\n",
    "c_i = \\tan(a_i) \\cdot b_i - a_i^{b_i}\n",
    "$$\n",
    "\n",
    "for $i \\in [0, 1234566]$"
   ]
  },
  {
   "cell_type": "markdown",
   "metadata": {
    "slideshow": {
     "slide_type": "slide"
    }
   },
   "source": [
    "## Exercise 4: Given two arrays `a` anb `b`, check if they are equal\n",
    "\n",
    "    a = np.random.random(1234567)\n",
    "    b = a.copy()\n",
    "\n",
    "    b[-1] = 23  # artificially make them differ at the very end ;)"
   ]
  },
  {
   "cell_type": "markdown",
   "metadata": {
    "slideshow": {
     "slide_type": "slide"
    }
   },
   "source": [
    "## Exercise 5: Create the following matrix\n",
    "\n",
    "    1 2 3 4 5 6\n",
    "    1 2 3 4 5 6\n",
    "    1 2 3 4 5 6\n",
    "    1 2 3 4 5 6\n",
    "    1 2 3 4 5 6\n"
   ]
  },
  {
   "cell_type": "markdown",
   "metadata": {
    "slideshow": {
     "slide_type": "slide"
    }
   },
   "source": [
    "## Exercise 6: Roll two 6-sided dice 100 times and count each individual value"
   ]
  },
  {
   "cell_type": "markdown",
   "metadata": {
    "slideshow": {
     "slide_type": "slide"
    }
   },
   "source": [
    "## Exercise 7: Roll five 12-sided dice 123456 times and count each individual value"
   ]
  },
  {
   "cell_type": "markdown",
   "metadata": {
    "slideshow": {
     "slide_type": "slide"
    }
   },
   "source": [
    "## Exercise 8: Find the value closest to a given number in an array\n",
    "\n",
    "    a = np.random.random(10)\n",
    "    target = 0.23"
   ]
  },
  {
   "cell_type": "markdown",
   "metadata": {
    "slideshow": {
     "slide_type": "slide"
    }
   },
   "source": [
    "## Exercise 9: Create a random array with 10 elements and replace its largest value with 0\n",
    "\n",
    "## Bonus: Replace the second largest value with 0"
   ]
  },
  {
   "cell_type": "markdown",
   "metadata": {
    "slideshow": {
     "slide_type": "slide"
    }
   },
   "source": [
    "## Exercise 10: Create a checkerboard (8x8, 0s and 1s)\n",
    "\n",
    "    0 1 0 1 0 1 0 1\n",
    "    1 0 1 0 1 0 1 0\n",
    "    0 1 0 1 0 1 0 1\n",
    "    1 0 1 0 1 0 1 0\n",
    "    0 1 0 1 0 1 0 1\n",
    "    1 0 1 0 1 0 1 0\n",
    "    0 1 0 1 0 1 0 1\n",
    "    1 0 1 0 1 0 1 0"
   ]
  },
  {
   "cell_type": "markdown",
   "metadata": {
    "slideshow": {
     "slide_type": "slide"
    }
   },
   "source": [
    "## Exercise 11: Calculate the diagonal of a dot product"
   ]
  },
  {
   "cell_type": "markdown",
   "metadata": {
    "slideshow": {
     "slide_type": "slide"
    }
   },
   "source": [
    "## Acknowledgements\n",
    "![](images/eu_asterics.png)\n",
    "\n",
    "This tutorial was supported by the H2020-Astronomy ESFRI and Research Infrastructure Cluster (Grant Agreement number: 653477)."
   ]
  }
 ],
 "metadata": {
  "@webio": {
   "lastCommId": "6ad5f33a1af042c593030dd6c2e4c24f",
   "lastKernelId": "0c9e5f2e-a4fe-4694-a9fa-3f039d732689"
  },
  "celltoolbar": "Slideshow",
  "kernelspec": {
   "display_name": "Python 3",
   "language": "python",
   "name": "python3"
  },
  "language_info": {
   "codemirror_mode": {
    "name": "ipython",
    "version": 3
   },
   "file_extension": ".py",
   "mimetype": "text/x-python",
   "name": "python",
   "nbconvert_exporter": "python",
   "pygments_lexer": "ipython3",
   "version": "3.7.2"
  }
 },
 "nbformat": 4,
 "nbformat_minor": 2
}
