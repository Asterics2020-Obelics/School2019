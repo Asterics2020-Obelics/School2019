{
 "cells": [
  {
   "cell_type": "markdown",
   "metadata": {
    "slideshow": {
     "slide_type": "slide"
    }
   },
   "source": [
    "# Reading Binary Data with Numpy\n",
    "\n",
    "Tamás Gál (tamas.gal@fau.de)\n",
    "\n",
    "The latest version of this notebook is available at [https://github.com/Asterics2020-Obelics](https://github.com/Asterics2020-Obelics/School2019/tree/master/numpy)"
   ]
  },
  {
   "cell_type": "code",
   "execution_count": 1,
   "metadata": {
    "slideshow": {
     "slide_type": "fragment"
    }
   },
   "outputs": [
    {
     "name": "stdout",
     "output_type": "stream",
     "text": [
      "Python version:  3.7.2 (default, Feb 25 2019, 13:21:17) \n",
      "[Clang 10.0.0 (clang-1000.10.44.4)]\n",
      "NumPy version:   1.16.2\n"
     ]
    }
   ],
   "source": [
    "import numpy as np\n",
    "import sys\n",
    "\n",
    "print(\"Python version:  {0}\\n\"\n",
    "      \"NumPy version:   {1}\"\n",
    "      .format(sys.version, np.__version__))"
   ]
  },
  {
   "cell_type": "code",
   "execution_count": 2,
   "metadata": {
    "slideshow": {
     "slide_type": "fragment"
    }
   },
   "outputs": [],
   "source": [
    "%matplotlib inline\n",
    "import matplotlib.pyplot as plt\n",
    "plt.rcParams['figure.figsize'] = (16, 5)\n",
    "plt.rcParams['figure.dpi'] = 300"
   ]
  },
  {
   "cell_type": "markdown",
   "metadata": {
    "slideshow": {
     "slide_type": "slide"
    }
   },
   "source": [
    "## Exercise: Read a KM3NeT Event File and create a histogram of the PMT ToTs\n",
    "\n",
    "Use `numpy.fromfile()` and custom `dtype`s to read an event from `School2019/numpy/IO_EVT.dat`\n",
    "\n",
    "The KM3NeT DAQ dataformat for storing an event consists of a header and two sets of hits (triggered hits and snapshot hits). The header has been skipped, so `IO_EVT.dat` only contains the **triggered** and **snapshot** hits.\n",
    "\n",
    "#### Triggered hits:\n",
    "- n_hits `[int32, little endian]`\n",
    "- n_hits * triggered_hit_struct\n",
    "    - optical module ID `[int32, little endian]`, example 808476737\n",
    "    - PMT ID `[unsigned char (byte)]`, value between 0 and 30\n",
    "    - time in nanoseconds `[uint32, big endian]`, example 90544845\n",
    "    - ToT (time over threshold) `[unsigned byte]`, value between 0 and 255\n",
    "    - trigger mask `[uint64, little endian]`, bitmask, typical values are 1, 3, 4, 6\n",
    "\n",
    "#### Snapshot hits: same as triggered hits but without the `trigger mask` field"
   ]
  },
  {
   "cell_type": "markdown",
   "metadata": {
    "slideshow": {
     "slide_type": "slide"
    }
   },
   "source": [
    "### Live Event Read-Out from the KM3NeT ORCA Detector\n",
    "\n",
    "In this example we will read events directly from the ORCA detector, running in the deeps of the Mediterranean!\n",
    "Install ControlHost to communicate with the detector: **`pip install controlhost`**.\n",
    "To create a connection, subscribe to triggered events via the **`\"IO_EVT\"`** tag to **131.188.167.67**:\n",
    "\n",
    "**The header is 48 bytes, just skip it.**\n",
    "\n",
    "### Retrieve 100 events and create another ToT histogram from all hits!"
   ]
  },
  {
   "cell_type": "markdown",
   "metadata": {
    "slideshow": {
     "slide_type": "subslide"
    }
   },
   "source": [
    "### Unfortunately `eduroam` doesn't allow the connection, so you have to use VPN or the take the binary dump `events.dat`\n",
    "\n",
    "```python\n",
    "fobj = open(\"events.dat\", \"rb\")\n",
    "```"
   ]
  },
  {
   "cell_type": "code",
   "execution_count": 19,
   "metadata": {
    "slideshow": {
     "slide_type": "skip"
    }
   },
   "outputs": [],
   "source": [
    "fobj = open(\"events.dat\", \"rb\")"
   ]
  },
  {
   "cell_type": "markdown",
   "metadata": {
    "slideshow": {
     "slide_type": "fragment"
    }
   },
   "source": [
    "```python\n",
    "import controlhost as ch\n",
    "\n",
    "with ch.Client(\"131.188.167.67\", tag=\"IO_EVT\") as client:\n",
    "    for i in range(5):\n",
    "        data = client.get_message().data[48:]\n",
    "        print(len(data))\n",
    "```"
   ]
  },
  {
   "cell_type": "markdown",
   "metadata": {
    "slideshow": {
     "slide_type": "slide"
    }
   },
   "source": [
    "## Acknowledgements\n",
    "![](images/eu_asterics.png)\n",
    "\n",
    "This tutorial was supported by the H2020-Astronomy ESFRI and Research Infrastructure Cluster (Grant Agreement number: 653477)."
   ]
  }
 ],
 "metadata": {
  "@webio": {
   "lastCommId": "f52a4bc4f8f1409782e3e9ab289aadef",
   "lastKernelId": "058fa9a0-44a7-4df6-9cb7-9e7f9ba3f007"
  },
  "celltoolbar": "Slideshow",
  "kernelspec": {
   "display_name": "Python 3",
   "language": "python",
   "name": "python3"
  },
  "language_info": {
   "codemirror_mode": {
    "name": "ipython",
    "version": 3
   },
   "file_extension": ".py",
   "mimetype": "text/x-python",
   "name": "python",
   "nbconvert_exporter": "python",
   "pygments_lexer": "ipython3",
   "version": "3.7.2"
  }
 },
 "nbformat": 4,
 "nbformat_minor": 2
}
