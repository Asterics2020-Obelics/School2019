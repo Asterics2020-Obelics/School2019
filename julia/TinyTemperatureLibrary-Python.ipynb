{
 "cells": [
  {
   "cell_type": "markdown",
   "metadata": {
    "slideshow": {
     "slide_type": "slide"
    }
   },
   "source": [
    "# A Tiny Temperature Converter Library\n",
    "## Written in Python (a naive approach)\n",
    "\n",
    "Based on a wonderful example from _Erik Engheim_ "
   ]
  },
  {
   "cell_type": "markdown",
   "metadata": {
    "slideshow": {
     "slide_type": "slide"
    }
   },
   "source": [
    "Start with a simple class (you should almost never start with a class, but that's not the point now ;-)"
   ]
  },
  {
   "cell_type": "code",
   "execution_count": 1,
   "metadata": {
    "extensions": {
     "jupyter_dashboards": {
      "version": 1,
      "views": {
       "grid_default": {
        "hidden": true
       },
       "report_default": {}
      }
     }
    },
    "slideshow": {
     "slide_type": "fragment"
    }
   },
   "outputs": [],
   "source": [
    "class Celsius(object):\n",
    "    def __init__(self, temp):\n",
    "        if type(temp) == float or type(temp) == int:\n",
    "            self.value = temp\n",
    "        else:\n",
    "            self.value = temp.to_celsius().value\n",
    "\n",
    "    def __repr__(self):\n",
    "        return \"Celsius({0})\".format(self.value)\n",
    "        \n",
    "    def to_celsius(self):\n",
    "        return self\n",
    " \n",
    "    def to_kelvin(self):\n",
    "        return Kelvin(self.value + 273.15)\n",
    "        \n",
    "    def __add__(self, temp):\n",
    "        return Celsius(self.value + temp.to_celsius().value)\n",
    "        \n",
    "    def __sub__(self, temp):\n",
    "        return Celsius(self.value - temp.to_celsius().value)"
   ]
  },
  {
   "cell_type": "code",
   "execution_count": 2,
   "metadata": {
    "extensions": {
     "jupyter_dashboards": {
      "version": 1,
      "views": {
       "grid_default": {
        "col": 0,
        "height": 4,
        "hidden": false,
        "row": 0,
        "width": 4
       },
       "report_default": {}
      }
     }
    },
    "slideshow": {
     "slide_type": "subslide"
    }
   },
   "outputs": [
    {
     "data": {
      "text/plain": [
       "Celsius(42)"
      ]
     },
     "execution_count": 2,
     "metadata": {},
     "output_type": "execute_result"
    }
   ],
   "source": [
    "Celsius(42)"
   ]
  },
  {
   "cell_type": "code",
   "execution_count": 3,
   "metadata": {
    "extensions": {
     "jupyter_dashboards": {
      "version": 1,
      "views": {
       "grid_default": {
        "col": 4,
        "height": 4,
        "hidden": false,
        "row": 0,
        "width": 4
       },
       "report_default": {}
      }
     }
    },
    "slideshow": {
     "slide_type": "fragment"
    }
   },
   "outputs": [
    {
     "data": {
      "text/plain": [
       "Celsius(65)"
      ]
     },
     "execution_count": 3,
     "metadata": {},
     "output_type": "execute_result"
    }
   ],
   "source": [
    "Celsius(42) + Celsius(23)"
   ]
  },
  {
   "cell_type": "code",
   "execution_count": 4,
   "metadata": {
    "extensions": {
     "jupyter_dashboards": {
      "version": 1,
      "views": {
       "grid_default": {
        "col": 8,
        "height": 4,
        "hidden": false,
        "row": 0,
        "width": 4
       },
       "report_default": {}
      }
     }
    },
    "slideshow": {
     "slide_type": "fragment"
    }
   },
   "outputs": [
    {
     "data": {
      "text/plain": [
       "Celsius(-18)"
      ]
     },
     "execution_count": 4,
     "metadata": {},
     "output_type": "execute_result"
    }
   ],
   "source": [
    "Celsius(5) - Celsius(23)"
   ]
  },
  {
   "cell_type": "markdown",
   "metadata": {
    "slideshow": {
     "slide_type": "slide"
    }
   },
   "source": [
    "Implement the second temperature unit..."
   ]
  },
  {
   "cell_type": "code",
   "execution_count": 5,
   "metadata": {
    "extensions": {
     "jupyter_dashboards": {
      "version": 1,
      "views": {
       "grid_default": {
        "hidden": true
       },
       "report_default": {}
      }
     }
    },
    "slideshow": {
     "slide_type": "subslide"
    }
   },
   "outputs": [],
   "source": [
    "class Kelvin(object):\n",
    "    def __init__(self, temp):\n",
    "        if type(temp) == float or type(temp) == int:\n",
    "            self.value = temp\n",
    "        else:\n",
    "            self.value = temp.to_kelvin().value\n",
    "            \n",
    "    def __repr__(self):\n",
    "        return \"Kelvin({0})\".format(self.value)\n",
    "        \n",
    "    def to_kelvin(self):\n",
    "        return self\n",
    "\n",
    "    def to_celsius(self):\n",
    "        return Kelvin(self.value - 273.15)\n",
    "        \n",
    "    def __add__(self, temp):\n",
    "        return Kelvin(self.value + temp.to_kelvin().value)\n",
    "        \n",
    "    def __sub__(self, temp):\n",
    "        return Kelvin(self.value - temp.to_kelvin().value)"
   ]
  },
  {
   "cell_type": "code",
   "execution_count": 6,
   "metadata": {
    "extensions": {
     "jupyter_dashboards": {
      "version": 1,
      "views": {
       "grid_default": {
        "col": 4,
        "height": 4,
        "hidden": false,
        "row": 4,
        "width": 4
       },
       "report_default": {}
      }
     }
    },
    "slideshow": {
     "slide_type": "subslide"
    }
   },
   "outputs": [
    {
     "data": {
      "text/plain": [
       "Kelvin(5)"
      ]
     },
     "execution_count": 6,
     "metadata": {},
     "output_type": "execute_result"
    }
   ],
   "source": [
    "Kelvin(5)"
   ]
  },
  {
   "cell_type": "code",
   "execution_count": 7,
   "metadata": {
    "extensions": {
     "jupyter_dashboards": {
      "version": 1,
      "views": {
       "grid_default": {
        "col": 8,
        "height": 4,
        "hidden": false,
        "row": 4,
        "width": 4
       },
       "report_default": {}
      }
     }
    },
    "slideshow": {
     "slide_type": "fragment"
    }
   },
   "outputs": [
    {
     "data": {
      "text/plain": [
       "Kelvin(28)"
      ]
     },
     "execution_count": 7,
     "metadata": {},
     "output_type": "execute_result"
    }
   ],
   "source": [
    "Kelvin(5) + Kelvin(23)"
   ]
  },
  {
   "cell_type": "code",
   "execution_count": 8,
   "metadata": {
    "extensions": {
     "jupyter_dashboards": {
      "version": 1,
      "views": {
       "grid_default": {
        "col": 0,
        "height": 4,
        "hidden": false,
        "row": 8,
        "width": 4
       },
       "report_default": {}
      }
     }
    },
    "slideshow": {
     "slide_type": "fragment"
    }
   },
   "outputs": [
    {
     "data": {
      "text/plain": [
       "Kelvin(283.15)"
      ]
     },
     "execution_count": 8,
     "metadata": {},
     "output_type": "execute_result"
    }
   ],
   "source": [
    "Kelvin(5) + Celsius(5)"
   ]
  },
  {
   "cell_type": "markdown",
   "metadata": {
    "slideshow": {
     "slide_type": "slide"
    }
   },
   "source": [
    "# What about Fahrenheit?"
   ]
  },
  {
   "cell_type": "markdown",
   "metadata": {
    "slideshow": {
     "slide_type": "fragment"
    }
   },
   "source": [
    "Of course, we are violating the open/closed SOLID principle, but if we do it the right way, it will get even worse with the performance in Python..."
   ]
  },
  {
   "cell_type": "markdown",
   "metadata": {
    "slideshow": {
     "slide_type": "slide"
    }
   },
   "source": [
    "### We need to modify the existing `Celsius` and `Kelvin` implementation and add a new class `Fahrenheit`."
   ]
  },
  {
   "cell_type": "code",
   "execution_count": 9,
   "metadata": {
    "slideshow": {
     "slide_type": "subslide"
    }
   },
   "outputs": [],
   "source": [
    "class Celsius(object):\n",
    "    def __init__(self, temp):\n",
    "        if type(temp) == float or type(temp) == int:\n",
    "            self.value = temp\n",
    "        else:\n",
    "            self.value = temp.to_celsius().value\n",
    "\n",
    "    def __repr__(self):\n",
    "        return \"Celsius({0})\".format(self.value)\n",
    "        \n",
    "    def to_celsius(self):\n",
    "        return self\n",
    " \n",
    "    def to_kelvin(self):\n",
    "        return Kelvin(self.value + 273.15)\n",
    "    \n",
    "    def to_fahrenheit(self):  # our new method\n",
    "        return Fahrenheit(self.value * 1.8 + 32)\n",
    "        \n",
    "    def __add__(self, temp):\n",
    "        return Celsius(self.value + temp.to_celsius().value)\n",
    "        \n",
    "    def __sub__(self, temp):\n",
    "        return Celsius(self.value - temp.to_celsius().value)"
   ]
  },
  {
   "cell_type": "code",
   "execution_count": 10,
   "metadata": {
    "slideshow": {
     "slide_type": "subslide"
    }
   },
   "outputs": [],
   "source": [
    "class Kelvin(object):\n",
    "    def __init__(self, temp):\n",
    "        if type(temp) == float or type(temp) == int:\n",
    "            self.value = temp\n",
    "        else:\n",
    "            self.value = temp.to_kelvin().value\n",
    "            \n",
    "    def __repr__(self):\n",
    "        return \"Kelvin({0})\".format(self.value)\n",
    "        \n",
    "    def to_kelvin(self):\n",
    "        return self\n",
    "\n",
    "    def to_celsius(self):\n",
    "        return Kelvin(self.value - 273.15)\n",
    "\n",
    "    def to_fahrenheit(self):\n",
    "        return Fahrenheit(self.value * 1.8 - 459.67)\n",
    "    \n",
    "    def __add__(self, temp):\n",
    "        return Kelvin(self.value + temp.to_kelvin().value)\n",
    "        \n",
    "    def __sub__(self, temp):\n",
    "        return Kelvin(self.value - temp.to_kelvin().value)      "
   ]
  },
  {
   "cell_type": "code",
   "execution_count": 11,
   "metadata": {
    "slideshow": {
     "slide_type": "subslide"
    }
   },
   "outputs": [],
   "source": [
    "class Fahrenheit(object):\n",
    "    def __init__(self, temp):\n",
    "        if type(temp) == float or type(temp) == int:\n",
    "            self.value = temp\n",
    "        else:\n",
    "            self.value = temp.to_fahrenheit().value\n",
    "            \n",
    "    def __repr__(self):\n",
    "        return \"Fahrenheit({0})\".format(self.value)\n",
    "        \n",
    "    def to_kelvin(self):\n",
    "        return Kelvin((self.value + 459.67) / 1.8)\n",
    "\n",
    "    def to_celsius(self):\n",
    "        return Celsius((self.value - 32) / 1.8)\n",
    "\n",
    "    def to_fahrenheit(self):\n",
    "        return self\n",
    "    \n",
    "    def __add__(self, temp):\n",
    "        return Fahrenheit(self.value + temp.to_fahrenheit().value)\n",
    "        \n",
    "    def __sub__(self, temp):\n",
    "        return Fahrenheit(self.value - temp.to_fahrenheit().value)  "
   ]
  },
  {
   "cell_type": "markdown",
   "metadata": {
    "slideshow": {
     "slide_type": "subslide"
    }
   },
   "source": [
    "Now we can do fancy things like adding three different units and convert them to `Kelvin`:"
   ]
  },
  {
   "cell_type": "code",
   "execution_count": 12,
   "metadata": {
    "slideshow": {
     "slide_type": "fragment"
    }
   },
   "outputs": [
    {
     "data": {
      "text/plain": [
       "Fahrenheit(581.27)"
      ]
     },
     "execution_count": 12,
     "metadata": {},
     "output_type": "execute_result"
    }
   ],
   "source": [
    "Fahrenheit(23) + Celsius(42) - Kelvin(5)  # this does not need to make sense now ;)"
   ]
  },
  {
   "cell_type": "code",
   "execution_count": 13,
   "metadata": {},
   "outputs": [
    {
     "data": {
      "text/plain": [
       "Fahrenheit(-410.27000000000004)"
      ]
     },
     "execution_count": 13,
     "metadata": {},
     "output_type": "execute_result"
    }
   ],
   "source": [
    "Fahrenheit(3) + Celsius(4) + Kelvin(4)"
   ]
  },
  {
   "cell_type": "markdown",
   "metadata": {
    "slideshow": {
     "slide_type": "slide"
    }
   },
   "source": [
    "## Alright, let's add the temperature units `Rankine` and `Réaumur`!"
   ]
  },
  {
   "cell_type": "markdown",
   "metadata": {
    "slideshow": {
     "slide_type": "fragment"
    }
   },
   "source": [
    "Just kidding..."
   ]
  },
  {
   "cell_type": "markdown",
   "metadata": {
    "slideshow": {
     "slide_type": "fragment"
    }
   },
   "source": [
    "Although the overall design is utterly ugly at its best, a similar approach written in C++ or Java will be optimised quite well with a decent compiler.\n",
    "\n",
    "This is probably also the reason why you see this kind of software design in many many places. But that's another story."
   ]
  },
  {
   "cell_type": "markdown",
   "metadata": {
    "slideshow": {
     "slide_type": "subslide"
    }
   },
   "source": [
    "## This will be **slow as hell** in Python!"
   ]
  },
  {
   "cell_type": "markdown",
   "metadata": {
    "slideshow": {
     "slide_type": "fragment"
    }
   },
   "source": [
    "A better approach would be e.g. writing `numpy.ufunc`s, trying to get the data into homogeneous arrays and then vectorise as much as possible."
   ]
  },
  {
   "cell_type": "markdown",
   "metadata": {
    "slideshow": {
     "slide_type": "slide"
    }
   },
   "source": [
    "### Alright, let's have a look behind the scenes..."
   ]
  },
  {
   "cell_type": "markdown",
   "metadata": {
    "slideshow": {
     "slide_type": "fragment"
    }
   },
   "source": [
    "We wrap the calculation from the previous slide into a function:"
   ]
  },
  {
   "cell_type": "code",
   "execution_count": 14,
   "metadata": {
    "slideshow": {
     "slide_type": "fragment"
    }
   },
   "outputs": [],
   "source": [
    "def example_calculation():\n",
    "    return Fahrenheit(23) + Celsius(42) - Kelvin(5)"
   ]
  },
  {
   "cell_type": "markdown",
   "metadata": {
    "slideshow": {
     "slide_type": "subslide"
    }
   },
   "source": [
    "...and disassemble it:"
   ]
  },
  {
   "cell_type": "code",
   "execution_count": 15,
   "metadata": {
    "slideshow": {
     "slide_type": "fragment"
    }
   },
   "outputs": [
    {
     "name": "stdout",
     "output_type": "stream",
     "text": [
      "  2           0 LOAD_GLOBAL              0 (Fahrenheit)\n",
      "              2 LOAD_CONST               1 (23)\n",
      "              4 CALL_FUNCTION            1\n",
      "              6 LOAD_GLOBAL              1 (Celsius)\n",
      "              8 LOAD_CONST               2 (42)\n",
      "             10 CALL_FUNCTION            1\n",
      "             12 BINARY_ADD\n",
      "             14 LOAD_GLOBAL              2 (Kelvin)\n",
      "             16 LOAD_CONST               3 (5)\n",
      "             18 CALL_FUNCTION            1\n",
      "             20 BINARY_SUBTRACT\n",
      "             22 RETURN_VALUE\n"
     ]
    }
   ],
   "source": [
    "import dis\n",
    "dis.dis(example_calculation)"
   ]
  },
  {
   "cell_type": "markdown",
   "metadata": {
    "slideshow": {
     "slide_type": "subslide"
    }
   },
   "source": [
    "The initialisation of `Fahrenheit` is already a bunch of loads and function calls:"
   ]
  },
  {
   "cell_type": "code",
   "execution_count": 16,
   "metadata": {
    "slideshow": {
     "slide_type": "fragment"
    }
   },
   "outputs": [
    {
     "name": "stdout",
     "output_type": "stream",
     "text": [
      "  3           0 LOAD_GLOBAL              0 (type)\n",
      "              2 LOAD_FAST                1 (temp)\n",
      "              4 CALL_FUNCTION            1\n",
      "              6 LOAD_GLOBAL              1 (float)\n",
      "              8 COMPARE_OP               2 (==)\n",
      "             10 POP_JUMP_IF_TRUE        24\n",
      "             12 LOAD_GLOBAL              0 (type)\n",
      "             14 LOAD_FAST                1 (temp)\n",
      "             16 CALL_FUNCTION            1\n",
      "             18 LOAD_GLOBAL              2 (int)\n",
      "             20 COMPARE_OP               2 (==)\n",
      "             22 POP_JUMP_IF_FALSE       32\n",
      "\n",
      "  4     >>   24 LOAD_FAST                1 (temp)\n",
      "             26 LOAD_FAST                0 (self)\n",
      "             28 STORE_ATTR               3 (value)\n",
      "             30 JUMP_FORWARD            12 (to 44)\n",
      "\n",
      "  6     >>   32 LOAD_FAST                1 (temp)\n",
      "             34 LOAD_METHOD              4 (to_fahrenheit)\n",
      "             36 CALL_METHOD              0\n",
      "             38 LOAD_ATTR                3 (value)\n",
      "             40 LOAD_FAST                0 (self)\n",
      "             42 STORE_ATTR               3 (value)\n",
      "        >>   44 LOAD_CONST               0 (None)\n",
      "             46 RETURN_VALUE\n"
     ]
    }
   ],
   "source": [
    "dis.dis(Fahrenheit.__init__)"
   ]
  },
  {
   "cell_type": "markdown",
   "metadata": {
    "slideshow": {
     "slide_type": "subslide"
    }
   },
   "source": [
    "### And keep in mind, this is only Python byte code which will be blown up to a massive amount of machine code..."
   ]
  },
  {
   "cell_type": "markdown",
   "metadata": {
    "slideshow": {
     "slide_type": "slide"
    }
   },
   "source": [
    "## What about the performance?"
   ]
  },
  {
   "cell_type": "code",
   "execution_count": 17,
   "metadata": {
    "slideshow": {
     "slide_type": "fragment"
    }
   },
   "outputs": [],
   "source": [
    "def example_calculation():\n",
    "    return Fahrenheit(23) + Celsius(42) - Kelvin(5)"
   ]
  },
  {
   "cell_type": "code",
   "execution_count": 18,
   "metadata": {
    "slideshow": {
     "slide_type": "fragment"
    }
   },
   "outputs": [
    {
     "name": "stdout",
     "output_type": "stream",
     "text": [
      "3.34 µs ± 45 ns per loop (mean ± std. dev. of 7 runs, 100000 loops each)\n"
     ]
    }
   ],
   "source": [
    "%timeit example_calculation()"
   ]
  },
  {
   "cell_type": "code",
   "execution_count": 19,
   "metadata": {
    "slideshow": {
     "slide_type": "fragment"
    }
   },
   "outputs": [],
   "source": [
    "def another_calculation(a, b, c):\n",
    "    return Fahrenheit(a) + Celsius(b) - Kelvin(c)"
   ]
  },
  {
   "cell_type": "code",
   "execution_count": 20,
   "metadata": {
    "slideshow": {
     "slide_type": "fragment"
    }
   },
   "outputs": [
    {
     "name": "stdout",
     "output_type": "stream",
     "text": [
      "3.4 µs ± 19.1 ns per loop (mean ± std. dev. of 7 runs, 100000 loops each)\n"
     ]
    }
   ],
   "source": [
    "%timeit another_calculation(1, 2, 3)"
   ]
  }
 ],
 "metadata": {
  "@webio": {
   "lastCommId": "717f88d23dd84b4b84eba7283dcf00f2",
   "lastKernelId": "43e34d2d-046b-4ca7-b094-1727a258156c"
  },
  "celltoolbar": "Slideshow",
  "extensions": {
   "jupyter_dashboards": {
    "activeView": "grid_default",
    "version": 1,
    "views": {
     "grid_default": {
      "cellMargin": 10,
      "defaultCellHeight": 20,
      "maxColumns": 12,
      "name": "grid",
      "type": "grid"
     },
     "report_default": {
      "name": "report",
      "type": "report"
     }
    }
   }
  },
  "kernelspec": {
   "display_name": "Python 3",
   "language": "python",
   "name": "python3"
  },
  "language_info": {
   "codemirror_mode": {
    "name": "ipython",
    "version": 3
   },
   "file_extension": ".py",
   "mimetype": "text/x-python",
   "name": "python",
   "nbconvert_exporter": "python",
   "pygments_lexer": "ipython3",
   "version": "3.7.2"
  }
 },
 "nbformat": 4,
 "nbformat_minor": 2
}
