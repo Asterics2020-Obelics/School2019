{
 "cells": [
  {
   "cell_type": "markdown",
   "metadata": {
    "slideshow": {
     "slide_type": "slide"
    }
   },
   "source": [
    "# A Tiny Temperature Converter Library\n",
    "## Written in Julia (a naive approach)\n",
    "\n",
    "Based on a wonderful example from _Erik Engheim_"
   ]
  },
  {
   "cell_type": "markdown",
   "metadata": {
    "slideshow": {
     "slide_type": "slide"
    }
   },
   "source": [
    "We start with some type definitions!"
   ]
  },
  {
   "cell_type": "code",
   "execution_count": 1,
   "metadata": {
    "slideshow": {
     "slide_type": "fragment"
    }
   },
   "outputs": [],
   "source": [
    "abstract type Temperature end\n",
    "\n",
    "struct Celsius <: Temperature\n",
    "    value::Float64\n",
    "end\n",
    "\n",
    "struct Kelvin <: Temperature\n",
    "   value::Float64 \n",
    "end\n",
    "\n",
    "struct Fahrenheit <: Temperature\n",
    "    value::Float64\n",
    "end"
   ]
  },
  {
   "cell_type": "markdown",
   "metadata": {
    "slideshow": {
     "slide_type": "subslide"
    }
   },
   "source": [
    "Define the promotion rules, so Julia knows our preferences when mixing types."
   ]
  },
  {
   "cell_type": "code",
   "execution_count": 2,
   "metadata": {
    "slideshow": {
     "slide_type": "fragment"
    }
   },
   "outputs": [
    {
     "data": {
      "text/plain": [
       "promote_rule (generic function with 139 methods)"
      ]
     },
     "execution_count": 2,
     "metadata": {},
     "output_type": "execute_result"
    }
   ],
   "source": [
    "import Base: promote_rule  # we import the `promote_rule` function to add our own methods\n",
    "\n",
    "promote_rule(::Type{Kelvin}, ::Type{Celsius})     = Kelvin\n",
    "promote_rule(::Type{Fahrenheit}, ::Type{Celsius}) = Celsius\n",
    "promote_rule(::Type{Fahrenheit}, ::Type{Kelvin})  = Kelvin"
   ]
  },
  {
   "cell_type": "markdown",
   "metadata": {
    "slideshow": {
     "slide_type": "subslide"
    }
   },
   "source": [
    "We implement the conversion logic by adding methods to the `convert` function, available in the `Base` of Julia."
   ]
  },
  {
   "cell_type": "code",
   "execution_count": 3,
   "metadata": {
    "slideshow": {
     "slide_type": "fragment"
    }
   },
   "outputs": [
    {
     "data": {
      "text/plain": [
       "convert (generic function with 197 methods)"
      ]
     },
     "execution_count": 3,
     "metadata": {},
     "output_type": "execute_result"
    }
   ],
   "source": [
    "import Base: convert  # again, we add our own methods to `convert`\n",
    "\n",
    "convert(::Type{Kelvin},  t::Celsius)     = Kelvin(t.value + 273.15)\n",
    "convert(::Type{Kelvin},  t::Fahrenheit)  = Kelvin(Celsius(t))\n",
    "convert(::Type{Celsius}, t::Kelvin)      = Celsius(t.value - 273.15)\n",
    "convert(::Type{Celsius}, t::Fahrenheit)  = Celsius((t.value - 32)*5/9)\n",
    "convert(::Type{Fahrenheit}, t::Celsius)  = Fahrenheit(t.value*9/5 + 32)\n",
    "convert(::Type{Fahrenheit}, t::Kelvin)   = Fahrenheit(Celsius(t))"
   ]
  },
  {
   "cell_type": "markdown",
   "metadata": {
    "slideshow": {
     "slide_type": "subslide"
    }
   },
   "source": [
    "We can add some nice constructors, so we can initialise each "
   ]
  },
  {
   "cell_type": "code",
   "execution_count": 4,
   "metadata": {
    "slideshow": {
     "slide_type": "fragment"
    }
   },
   "outputs": [
    {
     "data": {
      "text/plain": [
       "Fahrenheit"
      ]
     },
     "execution_count": 4,
     "metadata": {},
     "output_type": "execute_result"
    }
   ],
   "source": [
    "Kelvin(t::Temperature) = convert(Kelvin, t)\n",
    "Celsius(t::Temperature) = convert(Celsius, t)\n",
    "Fahrenheit(t::Temperature) = convert(Fahrenheit, t)"
   ]
  },
  {
   "cell_type": "code",
   "execution_count": 5,
   "metadata": {
    "slideshow": {
     "slide_type": "fragment"
    }
   },
   "outputs": [
    {
     "data": {
      "text/plain": [
       "Kelvin(268.15)"
      ]
     },
     "execution_count": 5,
     "metadata": {},
     "output_type": "execute_result"
    }
   ],
   "source": [
    "Kelvin(Fahrenheit(23))"
   ]
  },
  {
   "cell_type": "code",
   "execution_count": 6,
   "metadata": {},
   "outputs": [
    {
     "ename": "MethodError",
     "evalue": "MethodError: no method matching +(::Fahrenheit, ::Celsius)\nClosest candidates are:\n  +(::Any, ::Any, !Matched::Any, !Matched::Any...) at operators.jl:502",
     "output_type": "error",
     "traceback": [
      "MethodError: no method matching +(::Fahrenheit, ::Celsius)\nClosest candidates are:\n  +(::Any, ::Any, !Matched::Any, !Matched::Any...) at operators.jl:502",
      "",
      "Stacktrace:",
      " [1] +(::Fahrenheit, ::Celsius, ::Kelvin) at ./operators.jl:502",
      " [2] top-level scope at In[6]:1"
     ]
    }
   ],
   "source": [
    "Fahrenheit(3) + Celsius(4) + Kelvin(4)"
   ]
  },
  {
   "cell_type": "markdown",
   "metadata": {
    "slideshow": {
     "slide_type": "subslide"
    }
   },
   "source": [
    "Adding arithmetic operations for our types by extending the `Base` operators."
   ]
  },
  {
   "cell_type": "code",
   "execution_count": 7,
   "metadata": {
    "slideshow": {
     "slide_type": "fragment"
    }
   },
   "outputs": [],
   "source": [
    "import Base: +, -, *  # operators are functions, we can extend them easily!\n",
    "\n",
    "+(x::Temperature, y::Temperature) = +(promote(x,y)...)\n",
    "-(x::Temperature, y::Temperature) = -(promote(x,y)...)\n",
    "\n",
    "+(x::T, y::T) where {T <: Temperature} = T(x.value + y.value)\n",
    "-(x::T, y::T) where {T <: Temperature} = T(x.value - y.value)\n",
    "\n",
    "*(x::Number, y::T) where {T <: Temperature} = T(x * y.value);"
   ]
  },
  {
   "cell_type": "code",
   "execution_count": null,
   "metadata": {},
   "outputs": [],
   "source": []
  },
  {
   "cell_type": "markdown",
   "metadata": {
    "slideshow": {
     "slide_type": "subslide"
    }
   },
   "source": [
    "Let's test it:"
   ]
  },
  {
   "cell_type": "code",
   "execution_count": 8,
   "metadata": {
    "slideshow": {
     "slide_type": "fragment"
    }
   },
   "outputs": [
    {
     "data": {
      "text/plain": [
       "Kelvin(320.15)"
      ]
     },
     "execution_count": 8,
     "metadata": {},
     "output_type": "execute_result"
    }
   ],
   "source": [
    "Celsius(37) + Kelvin(10)"
   ]
  },
  {
   "cell_type": "code",
   "execution_count": 9,
   "metadata": {
    "slideshow": {
     "slide_type": "fragment"
    }
   },
   "outputs": [
    {
     "data": {
      "text/plain": [
       "Celsius(47.0)"
      ]
     },
     "execution_count": 9,
     "metadata": {},
     "output_type": "execute_result"
    }
   ],
   "source": [
    "Celsius(Celsius(37) + Kelvin(10))"
   ]
  },
  {
   "cell_type": "code",
   "execution_count": 10,
   "metadata": {
    "slideshow": {
     "slide_type": "fragment"
    }
   },
   "outputs": [
    {
     "data": {
      "text/plain": [
       "Kelvin(265.0388888888889)"
      ]
     },
     "execution_count": 10,
     "metadata": {},
     "output_type": "execute_result"
    }
   ],
   "source": [
    "Fahrenheit(3) + Celsius(4) + Kelvin(4)"
   ]
  },
  {
   "cell_type": "markdown",
   "metadata": {
    "slideshow": {
     "slide_type": "subslide"
    }
   },
   "source": [
    "A nice way to create some syntactic sugar:"
   ]
  },
  {
   "cell_type": "code",
   "execution_count": 11,
   "metadata": {
    "slideshow": {
     "slide_type": "fragment"
    }
   },
   "outputs": [],
   "source": [
    "const °C = Celsius(1)\n",
    "const °F = Fahrenheit(1)\n",
    "const K = Kelvin(1);"
   ]
  },
  {
   "cell_type": "code",
   "execution_count": 12,
   "metadata": {
    "slideshow": {
     "slide_type": "fragment"
    }
   },
   "outputs": [
    {
     "data": {
      "text/plain": [
       "(Fahrenheit(5.0), Kelvin(23.0), Celsius(42.0))"
      ]
     },
     "execution_count": 12,
     "metadata": {},
     "output_type": "execute_result"
    }
   ],
   "source": [
    "5°F, 23K, 42°C"
   ]
  },
  {
   "cell_type": "code",
   "execution_count": 13,
   "metadata": {
    "slideshow": {
     "slide_type": "fragment"
    }
   },
   "outputs": [
    {
     "data": {
      "text/plain": [
       "Kelvin(325.15)"
      ]
     },
     "execution_count": 13,
     "metadata": {},
     "output_type": "execute_result"
    }
   ],
   "source": [
    "42°C + 10K"
   ]
  },
  {
   "cell_type": "markdown",
   "metadata": {
    "slideshow": {
     "slide_type": "slide"
    }
   },
   "source": [
    "### Alright, let's have a look behind the scenes..."
   ]
  },
  {
   "cell_type": "code",
   "execution_count": 14,
   "metadata": {
    "slideshow": {
     "slide_type": "subslide"
    }
   },
   "outputs": [
    {
     "data": {
      "text/plain": [
       "example_calculation (generic function with 1 method)"
      ]
     },
     "execution_count": 14,
     "metadata": {},
     "output_type": "execute_result"
    }
   ],
   "source": [
    "example_calculation() = Fahrenheit(2) + Celsius(3) + Kelvin(4)"
   ]
  },
  {
   "cell_type": "code",
   "execution_count": 15,
   "metadata": {
    "slideshow": {
     "slide_type": "fragment"
    }
   },
   "outputs": [
    {
     "name": "stdout",
     "output_type": "stream",
     "text": [
      "\n",
      ";  @ In[14]:1 within `example_calculation'\n",
      "define { double } @julia_example_calculation_13011() {\n",
      "top:\n",
      "  ret { double } { double 0x407077BBBBBBBBBB }\n",
      "}\n"
     ]
    }
   ],
   "source": [
    "@code_llvm example_calculation()"
   ]
  },
  {
   "cell_type": "markdown",
   "metadata": {
    "slideshow": {
     "slide_type": "fragment"
    }
   },
   "source": [
    "LLVM figured out that the function returns always the same value... Dooh ;)"
   ]
  },
  {
   "cell_type": "markdown",
   "metadata": {
    "slideshow": {
     "slide_type": "subslide"
    }
   },
   "source": [
    "This is the \"machine code\":"
   ]
  },
  {
   "cell_type": "code",
   "execution_count": 16,
   "metadata": {
    "slideshow": {
     "slide_type": "fragment"
    }
   },
   "outputs": [
    {
     "name": "stdout",
     "output_type": "stream",
     "text": [
      "\t.text\n",
      "; ┌ @ In[14]:1 within `example_calculation'\n",
      "\tmovabsq\t$140635019387800, %rax  # imm = 0x7FE8245FA398\n",
      "\tvmovsd\t(%rax), %xmm0           # xmm0 = mem[0],zero\n",
      "\tretq\n",
      "\tnop\n",
      "; └\n"
     ]
    }
   ],
   "source": [
    "@code_native example_calculation()"
   ]
  },
  {
   "cell_type": "markdown",
   "metadata": {
    "slideshow": {
     "slide_type": "subslide"
    }
   },
   "source": [
    "Now a function which is not constant ;)"
   ]
  },
  {
   "cell_type": "code",
   "execution_count": 17,
   "metadata": {
    "slideshow": {
     "slide_type": "fragment"
    }
   },
   "outputs": [
    {
     "data": {
      "text/plain": [
       "another_calculation (generic function with 1 method)"
      ]
     },
     "execution_count": 17,
     "metadata": {},
     "output_type": "execute_result"
    }
   ],
   "source": [
    "another_calculation(a, b, c) = Fahrenheit(a) + Celsius(b) + Kelvin(c)"
   ]
  },
  {
   "cell_type": "code",
   "execution_count": 18,
   "metadata": {
    "slideshow": {
     "slide_type": "fragment"
    }
   },
   "outputs": [
    {
     "name": "stdout",
     "output_type": "stream",
     "text": [
      "\n",
      ";  @ In[17]:1 within `another_calculation'\n",
      "define { double } @julia_another_calculation_13034(i64, i64, i64) {\n",
      "top:\n",
      "; ┌ @ In[1]:12 within `Type'\n",
      "; │┌ @ number.jl:7 within `convert'\n",
      "; ││┌ @ float.jl:60 within `Type'\n",
      "     %3 = sitofp i64 %0 to double\n",
      "; │└└\n",
      "; │ @ In[1]:4 within `Type'\n",
      "; │┌ @ number.jl:7 within `convert'\n",
      "; ││┌ @ float.jl:60 within `Type'\n",
      "     %4 = sitofp i64 %1 to double\n",
      "; │└└\n",
      "; │ @ In[1]:8 within `Type'\n",
      "; │┌ @ number.jl:7 within `convert'\n",
      "; ││┌ @ float.jl:60 within `Type'\n",
      "     %5 = sitofp i64 %2 to double\n",
      "; └└└\n",
      "; ┌ @ operators.jl:502 within `+' @ In[7]:3\n",
      "; │┌ @ promotion.jl:284 within `promote'\n",
      "; ││┌ @ promotion.jl:261 within `_promote'\n",
      "; │││┌ @ In[3]:6 within `convert'\n",
      "; ││││┌ @ promotion.jl:315 within `-' @ float.jl:397\n",
      "       %6 = fadd double %3, -3.200000e+01\n",
      "; ││││└\n",
      "; ││││┌ @ promotion.jl:314 within `*' @ float.jl:399\n",
      "       %7 = fmul double %6, 5.000000e+00\n",
      "; ││││└\n",
      "; ││││┌ @ promotion.jl:316 within `/' @ float.jl:401\n",
      "       %8 = fdiv double %7, 9.000000e+00\n",
      "; │└└└└\n",
      "; │ @ operators.jl:502 within `+' @ In[7]:3 @ In[7]:6 @ float.jl:395\n",
      "   %9 = fadd double %8, %4\n",
      "; │ @ operators.jl:502 within `+' @ In[7]:3\n",
      "; │┌ @ promotion.jl:284 within `promote'\n",
      "; ││┌ @ promotion.jl:261 within `_promote'\n",
      "; │││┌ @ In[3]:3 within `convert'\n",
      "; ││││┌ @ float.jl:395 within `+'\n",
      "       %10 = fadd double %9, 2.731500e+02\n",
      "; │└└└└\n",
      "; │ @ operators.jl:502 within `+' @ In[7]:3 @ In[7]:6 @ float.jl:395\n",
      "   %11 = fadd double %10, %5\n",
      "; └\n",
      "  %.fca.0.insert = insertvalue { double } undef, double %11, 0\n",
      "  ret { double } %.fca.0.insert\n",
      "}\n"
     ]
    }
   ],
   "source": [
    "@code_llvm another_calculation(1, 2, 3)"
   ]
  },
  {
   "cell_type": "markdown",
   "metadata": {
    "slideshow": {
     "slide_type": "subslide"
    }
   },
   "source": [
    "### After removing the comments, we have basically this LLVM code:\n",
    "\n",
    "```julia\n",
    "another_calculation(1, 2, 3)\n",
    "```\n",
    "\n",
    "```julia\n",
    "define { double } @julia_another_calculation_13051(i64, i64, i64) {\n",
    "top:\n",
    "     %3 = sitofp i64 %0 to double\n",
    "     %4 = sitofp i64 %1 to double\n",
    "     %5 = sitofp i64 %2 to double\n",
    "       %6 = fadd double %3, -3.200000e+01\n",
    "       %7 = fmul double %6, 5.000000e+00\n",
    "       %8 = fdiv double %7, 9.000000e+00\n",
    "   %9 = fadd double %8, %4\n",
    "       %10 = fadd double %9, 2.731500e+02\n",
    "   %11 = fadd double %10, %5\n",
    "  %.fca.0.insert = insertvalue { double } undef, double %11, 0\n",
    "  ret { double } %.fca.0.insert\n",
    "}\n",
    "```"
   ]
  },
  {
   "cell_type": "markdown",
   "metadata": {
    "slideshow": {
     "slide_type": "subslide"
    }
   },
   "source": [
    "And the machine code:"
   ]
  },
  {
   "cell_type": "code",
   "execution_count": 19,
   "metadata": {
    "slideshow": {
     "slide_type": "fragment"
    }
   },
   "outputs": [
    {
     "name": "stdout",
     "output_type": "stream",
     "text": [
      "\t.text\n",
      "; ┌ @ In[17]:1 within `another_calculation'\n",
      "\tmovabsq\t$140635019389544, %rax  # imm = 0x7FE8245FAA68\n",
      "; │┌ @ operators.jl:502 within `+' @ In[7]:3\n",
      "; ││┌ @ promotion.jl:284 within `promote'\n",
      "; │││┌ @ promotion.jl:261 within `_promote'\n",
      "; ││││┌ @ In[3]:6 within `convert'\n",
      "; │││││┌ @ promotion.jl:315 within `-' @ float.jl:397\n",
      "\tvaddsd\t(%rax), %xmm0, %xmm0\n",
      "\tmovabsq\t$140635019389552, %rax  # imm = 0x7FE8245FAA70\n",
      "; ││││└└\n",
      "; ││││┌ @ float.jl:399 within `convert'\n",
      "\tvmulsd\t(%rax), %xmm0, %xmm0\n",
      "\tmovabsq\t$140635019389560, %rax  # imm = 0x7FE8245FAA78\n",
      "; ││││└\n",
      "; ││││┌ @ In[3]:6 within `convert'\n",
      "; │││││┌ @ promotion.jl:316 within `/' @ float.jl:401\n",
      "\tvdivsd\t(%rax), %xmm0, %xmm0\n",
      "; ││└└└└\n",
      "; ││ @ operators.jl:502 within `+' @ In[7]:3 @ In[7]:6 @ float.jl:395\n",
      "\tvaddsd\t%xmm1, %xmm0, %xmm0\n",
      "\tmovabsq\t$140635019389568, %rax  # imm = 0x7FE8245FAA80\n",
      "; ││ @ operators.jl:502 within `+' @ In[7]:3\n",
      "; ││┌ @ promotion.jl:284 within `promote'\n",
      "; │││┌ @ promotion.jl:261 within `_promote'\n",
      "; ││││┌ @ In[3]:3 within `convert'\n",
      "; │││││┌ @ float.jl:395 within `+'\n",
      "\tvaddsd\t(%rax), %xmm0, %xmm0\n",
      "; ││└└└└\n",
      "; ││ @ operators.jl:502 within `+' @ In[7]:3 @ In[7]:6 @ float.jl:395\n",
      "\tvaddsd\t%xmm2, %xmm0, %xmm0\n",
      "; │└\n",
      "\tretq\n",
      "\tnopw\t%cs:(%rax,%rax)\n",
      "; └\n"
     ]
    }
   ],
   "source": [
    "@code_native another_calculation(2.0, 3.0, 4.0)"
   ]
  },
  {
   "cell_type": "markdown",
   "metadata": {
    "slideshow": {
     "slide_type": "subslide"
    }
   },
   "source": [
    "### The machine code without comments...\n",
    "\n",
    "\n",
    "```julia\n",
    "another_calculation(1, 2, 3)\n",
    "```\n",
    "\n",
    "```\n",
    ".text\n",
    "movabsq\t$140703640448904, %rax  # imm = 0x7FF81E81EF88\n",
    "vaddsd\t(%rax), %xmm0, %xmm0\n",
    "movabsq\t$140703640448912, %rax  # imm = 0x7FF81E81EF90\n",
    "vmulsd\t(%rax), %xmm0, %xmm0\n",
    "movabsq\t$140703640448920, %rax  # imm = 0x7FF81E81EF98\n",
    "vdivsd\t(%rax), %xmm0, %xmm0\n",
    "vaddsd\t%xmm1, %xmm0, %xmm0\n",
    "movabsq\t$140703640448928, %rax  # imm = 0x7FF81E81EFA0\n",
    "vaddsd\t(%rax), %xmm0, %xmm0\n",
    "vaddsd\t%xmm2, %xmm0, %xmm0\n",
    "retq\n",
    "nopw\t%cs:(%rax,%rax)\n",
    "```"
   ]
  },
  {
   "cell_type": "markdown",
   "metadata": {
    "slideshow": {
     "slide_type": "slide"
    }
   },
   "source": [
    "## What about the actual performance?"
   ]
  },
  {
   "cell_type": "code",
   "execution_count": 20,
   "metadata": {
    "slideshow": {
     "slide_type": "fragment"
    }
   },
   "outputs": [],
   "source": [
    "using BenchmarkTools"
   ]
  },
  {
   "cell_type": "code",
   "execution_count": 21,
   "metadata": {
    "slideshow": {
     "slide_type": "fragment"
    }
   },
   "outputs": [
    {
     "data": {
      "text/plain": [
       "BenchmarkTools.Trial: \n",
       "  memory estimate:  64 bytes\n",
       "  allocs estimate:  4\n",
       "  --------------\n",
       "  minimum time:     60.375 ns (0.00% GC)\n",
       "  median time:      61.824 ns (0.00% GC)\n",
       "  mean time:        72.482 ns (10.64% GC)\n",
       "  maximum time:     42.251 μs (99.73% GC)\n",
       "  --------------\n",
       "  samples:          10000\n",
       "  evals/sample:     981"
      ]
     },
     "execution_count": 21,
     "metadata": {},
     "output_type": "execute_result"
    }
   ],
   "source": [
    "@benchmark another_calculation(temperatures...) setup=(temperatures=rand(3))"
   ]
  },
  {
   "cell_type": "markdown",
   "metadata": {
    "slideshow": {
     "slide_type": "fragment"
    }
   },
   "source": [
    "#### Remember, the same \"pure Python\" function took about `3.5µs`!"
   ]
  },
  {
   "cell_type": "markdown",
   "metadata": {
    "slideshow": {
     "slide_type": "subslide"
    }
   },
   "source": [
    "### The power of multiple dispatch\n",
    "\n",
    "We can easily define our own `rand` method for `Kelvin` temperatures ()"
   ]
  },
  {
   "cell_type": "code",
   "execution_count": 22,
   "metadata": {
    "slideshow": {
     "slide_type": "fragment"
    }
   },
   "outputs": [],
   "source": [
    "using Random\n",
    "Random.rand(rng::AbstractRNG, ::Random.SamplerType{Kelvin}) =  Kelvin(rand() * 5000)"
   ]
  },
  {
   "cell_type": "code",
   "execution_count": 23,
   "metadata": {
    "slideshow": {
     "slide_type": "fragment"
    }
   },
   "outputs": [
    {
     "data": {
      "text/plain": [
       "Kelvin(573.4160148870127)"
      ]
     },
     "execution_count": 23,
     "metadata": {},
     "output_type": "execute_result"
    }
   ],
   "source": [
    "rand(Kelvin)"
   ]
  },
  {
   "cell_type": "code",
   "execution_count": 24,
   "metadata": {
    "slideshow": {
     "slide_type": "fragment"
    }
   },
   "outputs": [
    {
     "data": {
      "text/plain": [
       "1000000-element Array{Kelvin,1}:\n",
       " Kelvin(4940.805269012501) \n",
       " Kelvin(4159.6252383333585)\n",
       " Kelvin(2823.6053707426813)\n",
       " Kelvin(2389.4151351240666)\n",
       " Kelvin(2841.302997100952) \n",
       " Kelvin(1556.5514289617288)\n",
       " Kelvin(4221.379623454689) \n",
       " Kelvin(2450.711459006494) \n",
       " Kelvin(51.52083215364867) \n",
       " Kelvin(2696.1573561675445)\n",
       " Kelvin(3432.294371022457) \n",
       " Kelvin(3800.8990866006907)\n",
       " Kelvin(1597.2238000596005)\n",
       " ⋮                         \n",
       " Kelvin(4985.844991792913) \n",
       " Kelvin(4920.9558943487355)\n",
       " Kelvin(2105.125091152399) \n",
       " Kelvin(4318.632039422512) \n",
       " Kelvin(1427.58709930353)  \n",
       " Kelvin(197.87771654400154)\n",
       " Kelvin(1859.4085308396357)\n",
       " Kelvin(3449.391669134375) \n",
       " Kelvin(468.06190048947036)\n",
       " Kelvin(282.1718686666497) \n",
       " Kelvin(3639.4564687634524)\n",
       " Kelvin(1702.5349935977374)"
      ]
     },
     "execution_count": 24,
     "metadata": {},
     "output_type": "execute_result"
    }
   ],
   "source": [
    "temperatures = rand(Kelvin, 1_000_000)"
   ]
  },
  {
   "cell_type": "markdown",
   "metadata": {
    "slideshow": {
     "slide_type": "subslide"
    }
   },
   "source": [
    "### Is this fast?"
   ]
  },
  {
   "cell_type": "code",
   "execution_count": 25,
   "metadata": {
    "slideshow": {
     "slide_type": "fragment"
    }
   },
   "outputs": [
    {
     "data": {
      "text/plain": [
       "BenchmarkTools.Trial: \n",
       "  memory estimate:  7.63 MiB\n",
       "  allocs estimate:  2\n",
       "  --------------\n",
       "  minimum time:     1.683 ms (0.00% GC)\n",
       "  median time:      2.207 ms (0.00% GC)\n",
       "  mean time:        2.154 ms (10.81% GC)\n",
       "  maximum time:     50.696 ms (95.38% GC)\n",
       "  --------------\n",
       "  samples:          2317\n",
       "  evals/sample:     1"
      ]
     },
     "execution_count": 25,
     "metadata": {},
     "output_type": "execute_result"
    }
   ],
   "source": [
    "@benchmark rand(Kelvin, 1_000_000)"
   ]
  },
  {
   "cell_type": "markdown",
   "metadata": {
    "slideshow": {
     "slide_type": "fragment"
    }
   },
   "source": [
    "### Yep... 2ms, 2 allocs, 8 MiB memory"
   ]
  },
  {
   "cell_type": "markdown",
   "metadata": {
    "slideshow": {
     "slide_type": "subslide"
    }
   },
   "source": [
    "### Convert them to `Celsius` by using our type constructor and the `.`-notation for element-wise operation (similar to Matlab or `ufuncs` in numpy)"
   ]
  },
  {
   "cell_type": "code",
   "execution_count": 26,
   "metadata": {
    "slideshow": {
     "slide_type": "fragment"
    }
   },
   "outputs": [
    {
     "data": {
      "text/plain": [
       "1000000-element Array{Celsius,1}:\n",
       " Celsius(4667.655269012502)  \n",
       " Celsius(3886.4752383333584) \n",
       " Celsius(2550.455370742681)  \n",
       " Celsius(2116.2651351240665) \n",
       " Celsius(2568.152997100952)  \n",
       " Celsius(1283.401428961729)  \n",
       " Celsius(3948.229623454689)  \n",
       " Celsius(2177.561459006494)  \n",
       " Celsius(-221.62916784635132)\n",
       " Celsius(2423.0073561675445) \n",
       " Celsius(3159.144371022457)  \n",
       " Celsius(3527.7490866006906) \n",
       " Celsius(1324.0738000596007) \n",
       " ⋮                           \n",
       " Celsius(4712.694991792913)  \n",
       " Celsius(4647.805894348736)  \n",
       " Celsius(1831.9750911523988) \n",
       " Celsius(4045.482039422512)  \n",
       " Celsius(1154.43709930353)   \n",
       " Celsius(-75.27228345599843) \n",
       " Celsius(1586.2585308396356) \n",
       " Celsius(3176.241669134375)  \n",
       " Celsius(194.91190048947038) \n",
       " Celsius(9.02186866664971)   \n",
       " Celsius(3366.3064687634524) \n",
       " Celsius(1429.3849935977373) "
      ]
     },
     "execution_count": 26,
     "metadata": {},
     "output_type": "execute_result"
    }
   ],
   "source": [
    "Celsius.(temperatures)"
   ]
  },
  {
   "cell_type": "markdown",
   "metadata": {
    "slideshow": {
     "slide_type": "subslide"
    }
   },
   "source": [
    "### Is this fast?"
   ]
  },
  {
   "cell_type": "code",
   "execution_count": 27,
   "metadata": {
    "slideshow": {
     "slide_type": "fragment"
    }
   },
   "outputs": [
    {
     "data": {
      "text/plain": [
       "BenchmarkTools.Trial: \n",
       "  memory estimate:  7.63 MiB\n",
       "  allocs estimate:  2\n",
       "  --------------\n",
       "  minimum time:     1.322 ms (0.00% GC)\n",
       "  median time:      1.568 ms (0.00% GC)\n",
       "  mean time:        1.754 ms (14.68% GC)\n",
       "  maximum time:     49.637 ms (96.85% GC)\n",
       "  --------------\n",
       "  samples:          2840\n",
       "  evals/sample:     1"
      ]
     },
     "execution_count": 27,
     "metadata": {},
     "output_type": "execute_result"
    }
   ],
   "source": [
    "@benchmark Celsius.($temperatures)"
   ]
  },
  {
   "cell_type": "markdown",
   "metadata": {
    "slideshow": {
     "slide_type": "fragment"
    }
   },
   "source": [
    "### Yep... 1.5ms, 2 allocs, 8 MiB memory"
   ]
  },
  {
   "cell_type": "markdown",
   "metadata": {
    "slideshow": {
     "slide_type": "subslide"
    }
   },
   "source": [
    "## And we magically get all the other methods of the `rand()` function:"
   ]
  },
  {
   "cell_type": "code",
   "execution_count": 28,
   "metadata": {
    "slideshow": {
     "slide_type": "fragment"
    }
   },
   "outputs": [
    {
     "data": {
      "text/plain": [
       "100×200×300 Array{Kelvin,3}:\n",
       "[:, :, 1] =\n",
       " Kelvin(3906.61)  Kelvin(4437.37)  …  Kelvin(3875.14)  Kelvin(1893.55)\n",
       " Kelvin(3054.67)  Kelvin(4115.37)     Kelvin(4999.88)  Kelvin(143.544)\n",
       " Kelvin(1380.18)  Kelvin(3493.79)     Kelvin(2188.36)  Kelvin(4648.81)\n",
       " Kelvin(4115.61)  Kelvin(3062.11)     Kelvin(4697.77)  Kelvin(945.323)\n",
       " Kelvin(318.606)  Kelvin(1429.2)      Kelvin(66.93)    Kelvin(578.634)\n",
       " Kelvin(3611.88)  Kelvin(2579.11)  …  Kelvin(3869.74)  Kelvin(4388.94)\n",
       " Kelvin(3682.26)  Kelvin(1389.7)      Kelvin(4817.19)  Kelvin(4577.52)\n",
       " Kelvin(1407.09)  Kelvin(3065.22)     Kelvin(984.148)  Kelvin(2257.02)\n",
       " Kelvin(1880.35)  Kelvin(2252.3)      Kelvin(4028.52)  Kelvin(1843.76)\n",
       " Kelvin(2292.25)  Kelvin(1580.69)     Kelvin(2401.24)  Kelvin(601.959)\n",
       " Kelvin(4912.33)  Kelvin(2622.9)   …  Kelvin(3283.0)   Kelvin(2790.19)\n",
       " Kelvin(2838.59)  Kelvin(557.1)       Kelvin(3490.04)  Kelvin(4286.85)\n",
       " Kelvin(4887.14)  Kelvin(3111.83)     Kelvin(1482.61)  Kelvin(471.215)\n",
       " ⋮                                 ⋱                                  \n",
       " Kelvin(4501.18)  Kelvin(2271.14)     Kelvin(4831.49)  Kelvin(1638.74)\n",
       " Kelvin(4535.16)  Kelvin(2436.83)     Kelvin(3119.08)  Kelvin(3115.4) \n",
       " Kelvin(1200.84)  Kelvin(4290.28)  …  Kelvin(3526.82)  Kelvin(1983.72)\n",
       " Kelvin(4544.49)  Kelvin(4574.96)     Kelvin(1189.29)  Kelvin(602.57) \n",
       " Kelvin(3938.32)  Kelvin(4725.64)     Kelvin(1016.71)  Kelvin(3151.16)\n",
       " Kelvin(4213.0)   Kelvin(1493.02)     Kelvin(3329.22)  Kelvin(4340.44)\n",
       " Kelvin(1147.51)  Kelvin(1657.73)     Kelvin(4862.63)  Kelvin(217.565)\n",
       " Kelvin(1359.44)  Kelvin(4130.63)  …  Kelvin(4127.59)  Kelvin(4052.86)\n",
       " Kelvin(140.085)  Kelvin(3173.73)     Kelvin(1771.17)  Kelvin(2470.08)\n",
       " Kelvin(1941.89)  Kelvin(3664.96)     Kelvin(1713.22)  Kelvin(1231.2) \n",
       " Kelvin(2661.36)  Kelvin(2536.62)     Kelvin(3113.48)  Kelvin(2899.01)\n",
       " Kelvin(919.16)   Kelvin(3233.18)     Kelvin(718.186)  Kelvin(4051.02)\n",
       "\n",
       "[:, :, 2] =\n",
       " Kelvin(777.838)  Kelvin(3121.45)  …  Kelvin(1534.05)  Kelvin(1186.03)\n",
       " Kelvin(1195.3)   Kelvin(1069.49)     Kelvin(1673.92)  Kelvin(2813.74)\n",
       " Kelvin(3740.72)  Kelvin(150.295)     Kelvin(1806.67)  Kelvin(3824.7) \n",
       " Kelvin(1657.02)  Kelvin(4731.63)     Kelvin(3394.2)   Kelvin(4748.19)\n",
       " Kelvin(432.975)  Kelvin(681.904)     Kelvin(2669.17)  Kelvin(2838.32)\n",
       " Kelvin(2270.27)  Kelvin(1846.88)  …  Kelvin(3823.02)  Kelvin(3321.15)\n",
       " Kelvin(22.6742)  Kelvin(1906.9)      Kelvin(3845.51)  Kelvin(4308.69)\n",
       " Kelvin(4654.75)  Kelvin(4420.76)     Kelvin(94.1635)  Kelvin(2676.87)\n",
       " Kelvin(3237.63)  Kelvin(4230.25)     Kelvin(1102.8)   Kelvin(1482.64)\n",
       " Kelvin(369.802)  Kelvin(4278.17)     Kelvin(438.562)  Kelvin(2138.92)\n",
       " Kelvin(1435.46)  Kelvin(111.673)  …  Kelvin(2433.83)  Kelvin(984.627)\n",
       " Kelvin(491.297)  Kelvin(2157.78)     Kelvin(1907.31)  Kelvin(4770.55)\n",
       " Kelvin(4377.04)  Kelvin(4129.33)     Kelvin(3704.87)  Kelvin(4511.29)\n",
       " ⋮                                 ⋱                                  \n",
       " Kelvin(4984.51)  Kelvin(3183.24)     Kelvin(4809.68)  Kelvin(868.023)\n",
       " Kelvin(3851.12)  Kelvin(727.718)     Kelvin(3293.46)  Kelvin(1403.44)\n",
       " Kelvin(3096.54)  Kelvin(3792.37)  …  Kelvin(1899.25)  Kelvin(4280.59)\n",
       " Kelvin(4027.19)  Kelvin(2872.13)     Kelvin(4142.82)  Kelvin(978.776)\n",
       " Kelvin(3321.73)  Kelvin(2881.82)     Kelvin(715.52)   Kelvin(1955.36)\n",
       " Kelvin(2032.08)  Kelvin(3316.21)     Kelvin(2317.95)  Kelvin(353.861)\n",
       " Kelvin(2610.13)  Kelvin(82.5025)     Kelvin(457.199)  Kelvin(471.329)\n",
       " Kelvin(807.584)  Kelvin(1167.71)  …  Kelvin(2370.6)   Kelvin(1004.29)\n",
       " Kelvin(690.783)  Kelvin(3367.9)      Kelvin(1473.93)  Kelvin(1353.29)\n",
       " Kelvin(608.068)  Kelvin(2199.75)     Kelvin(597.531)  Kelvin(620.018)\n",
       " Kelvin(3053.68)  Kelvin(1500.41)     Kelvin(1077.12)  Kelvin(4956.04)\n",
       " Kelvin(3512.73)  Kelvin(3306.18)     Kelvin(468.486)  Kelvin(144.18) \n",
       "\n",
       "[:, :, 3] =\n",
       " Kelvin(786.995)  Kelvin(618.104)  …  Kelvin(957.166)  Kelvin(2551.18) \n",
       " Kelvin(3627.69)  Kelvin(2086.04)     Kelvin(4568.11)  Kelvin(1815.12) \n",
       " Kelvin(1721.87)  Kelvin(3712.47)     Kelvin(1638.38)  Kelvin(4921.47) \n",
       " Kelvin(107.96)   Kelvin(4912.92)     Kelvin(62.2134)  Kelvin(2152.99) \n",
       " Kelvin(1089.65)  Kelvin(2040.67)     Kelvin(273.97)   Kelvin(0.323333)\n",
       " Kelvin(3066.7)   Kelvin(3451.33)  …  Kelvin(3017.4)   Kelvin(93.4586) \n",
       " Kelvin(4733.98)  Kelvin(1856.95)     Kelvin(2908.08)  Kelvin(4443.94) \n",
       " Kelvin(4146.06)  Kelvin(4555.66)     Kelvin(3967.2)   Kelvin(1549.3)  \n",
       " Kelvin(3972.04)  Kelvin(4167.53)     Kelvin(2110.51)  Kelvin(4942.03) \n",
       " Kelvin(2817.26)  Kelvin(328.524)     Kelvin(3868.19)  Kelvin(2365.45) \n",
       " Kelvin(738.143)  Kelvin(559.732)  …  Kelvin(3820.73)  Kelvin(1793.74) \n",
       " Kelvin(4236.56)  Kelvin(4986.02)     Kelvin(4938.37)  Kelvin(4603.32) \n",
       " Kelvin(1533.52)  Kelvin(1168.17)     Kelvin(4323.91)  Kelvin(2916.64) \n",
       " ⋮                                 ⋱                                   \n",
       " Kelvin(2080.39)  Kelvin(425.74)      Kelvin(89.4774)  Kelvin(414.345) \n",
       " Kelvin(1799.92)  Kelvin(1716.36)     Kelvin(24.1526)  Kelvin(3881.28) \n",
       " Kelvin(2036.8)   Kelvin(3409.32)  …  Kelvin(1744.45)  Kelvin(1701.21) \n",
       " Kelvin(1137.18)  Kelvin(2116.28)     Kelvin(4432.88)  Kelvin(1372.66) \n",
       " Kelvin(575.141)  Kelvin(1665.4)      Kelvin(2566.11)  Kelvin(1034.4)  \n",
       " Kelvin(266.718)  Kelvin(2315.29)     Kelvin(4405.88)  Kelvin(4990.18) \n",
       " Kelvin(2945.69)  Kelvin(4762.62)     Kelvin(1601.4)   Kelvin(4763.75) \n",
       " Kelvin(122.521)  Kelvin(2480.06)  …  Kelvin(1781.44)  Kelvin(1071.35) \n",
       " Kelvin(1955.16)  Kelvin(2847.84)     Kelvin(2240.34)  Kelvin(670.687) \n",
       " Kelvin(1189.73)  Kelvin(50.9835)     Kelvin(2700.79)  Kelvin(1654.63) \n",
       " Kelvin(4225.86)  Kelvin(4550.66)     Kelvin(4879.1)   Kelvin(1051.34) \n",
       " Kelvin(1535.63)  Kelvin(4919.13)     Kelvin(3091.66)  Kelvin(2546.31) \n",
       "\n",
       "...\n",
       "\n",
       "[:, :, 298] =\n",
       " Kelvin(2883.19)  Kelvin(868.432)  …  Kelvin(1155.78)  Kelvin(3068.29)\n",
       " Kelvin(230.534)  Kelvin(2505.65)     Kelvin(318.406)  Kelvin(4618.98)\n",
       " Kelvin(4085.99)  Kelvin(4072.82)     Kelvin(547.021)  Kelvin(1971.24)\n",
       " Kelvin(3279.15)  Kelvin(575.127)     Kelvin(4316.51)  Kelvin(3648.4) \n",
       " Kelvin(2835.44)  Kelvin(66.8957)     Kelvin(277.657)  Kelvin(2459.31)\n",
       " Kelvin(3067.43)  Kelvin(2287.04)  …  Kelvin(3770.1)   Kelvin(1396.71)\n",
       " Kelvin(4398.6)   Kelvin(2946.69)     Kelvin(1785.46)  Kelvin(4361.1) \n",
       " Kelvin(1016.13)  Kelvin(1571.73)     Kelvin(399.321)  Kelvin(73.0417)\n",
       " Kelvin(2994.47)  Kelvin(4386.49)     Kelvin(4982.44)  Kelvin(1268.22)\n",
       " Kelvin(4832.01)  Kelvin(2704.18)     Kelvin(94.0981)  Kelvin(2221.28)\n",
       " Kelvin(1247.46)  Kelvin(486.575)  …  Kelvin(2451.07)  Kelvin(43.9024)\n",
       " Kelvin(631.348)  Kelvin(1210.22)     Kelvin(2853.34)  Kelvin(3028.99)\n",
       " Kelvin(4917.03)  Kelvin(4421.37)     Kelvin(219.486)  Kelvin(1431.7) \n",
       " ⋮                                 ⋱                                  \n",
       " Kelvin(4994.12)  Kelvin(3673.53)     Kelvin(37.9654)  Kelvin(2727.58)\n",
       " Kelvin(91.4456)  Kelvin(319.005)     Kelvin(2863.87)  Kelvin(3693.57)\n",
       " Kelvin(1726.65)  Kelvin(1944.37)  …  Kelvin(4588.5)   Kelvin(2217.42)\n",
       " Kelvin(2888.03)  Kelvin(3794.84)     Kelvin(3016.61)  Kelvin(138.453)\n",
       " Kelvin(917.05)   Kelvin(215.084)     Kelvin(203.685)  Kelvin(3402.65)\n",
       " Kelvin(4176.89)  Kelvin(3076.91)     Kelvin(1721.09)  Kelvin(4606.08)\n",
       " Kelvin(2546.83)  Kelvin(1148.78)     Kelvin(203.584)  Kelvin(4564.73)\n",
       " Kelvin(267.238)  Kelvin(3009.1)   …  Kelvin(4884.23)  Kelvin(4261.26)\n",
       " Kelvin(4579.7)   Kelvin(2573.62)     Kelvin(2673.65)  Kelvin(243.118)\n",
       " Kelvin(1470.53)  Kelvin(3452.72)     Kelvin(161.767)  Kelvin(2211.7) \n",
       " Kelvin(2927.86)  Kelvin(1751.46)     Kelvin(2398.53)  Kelvin(3594.54)\n",
       " Kelvin(969.766)  Kelvin(3356.6)      Kelvin(3728.13)  Kelvin(1902.96)\n",
       "\n",
       "[:, :, 299] =\n",
       " Kelvin(3001.99)  Kelvin(3501.82)  …  Kelvin(3376.05)  Kelvin(4933.39)\n",
       " Kelvin(3421.96)  Kelvin(516.186)     Kelvin(1728.94)  Kelvin(2066.08)\n",
       " Kelvin(623.722)  Kelvin(2153.39)     Kelvin(2872.14)  Kelvin(3774.19)\n",
       " Kelvin(2396.71)  Kelvin(4494.12)     Kelvin(2684.65)  Kelvin(550.243)\n",
       " Kelvin(4474.39)  Kelvin(1148.65)     Kelvin(666.142)  Kelvin(4347.19)\n",
       " Kelvin(4549.51)  Kelvin(2193.11)  …  Kelvin(1675.99)  Kelvin(2317.63)\n",
       " Kelvin(3784.78)  Kelvin(2347.94)     Kelvin(3640.22)  Kelvin(3260.5) \n",
       " Kelvin(4072.32)  Kelvin(200.54)      Kelvin(4494.03)  Kelvin(1107.78)\n",
       " Kelvin(708.827)  Kelvin(4673.11)     Kelvin(2859.56)  Kelvin(4103.22)\n",
       " Kelvin(4213.88)  Kelvin(894.934)     Kelvin(2876.4)   Kelvin(207.237)\n",
       " Kelvin(3204.95)  Kelvin(2542.99)  …  Kelvin(1986.33)  Kelvin(2343.34)\n",
       " Kelvin(2829.47)  Kelvin(1339.98)     Kelvin(826.725)  Kelvin(4150.27)\n",
       " Kelvin(4610.52)  Kelvin(641.381)     Kelvin(4393.63)  Kelvin(2565.48)\n",
       " ⋮                                 ⋱                                  \n",
       " Kelvin(3109.45)  Kelvin(3443.27)     Kelvin(933.588)  Kelvin(4259.44)\n",
       " Kelvin(1115.26)  Kelvin(2388.48)     Kelvin(3318.08)  Kelvin(1140.64)\n",
       " Kelvin(2091.37)  Kelvin(383.35)   …  Kelvin(2875.83)  Kelvin(941.576)\n",
       " Kelvin(2102.56)  Kelvin(4119.26)     Kelvin(4481.51)  Kelvin(1108.59)\n",
       " Kelvin(1100.54)  Kelvin(2175.82)     Kelvin(4501.25)  Kelvin(1919.01)\n",
       " Kelvin(1583.08)  Kelvin(4731.91)     Kelvin(227.129)  Kelvin(209.627)\n",
       " Kelvin(4213.54)  Kelvin(4155.93)     Kelvin(1269.19)  Kelvin(709.017)\n",
       " Kelvin(3196.76)  Kelvin(3890.2)   …  Kelvin(1421.37)  Kelvin(2273.56)\n",
       " Kelvin(2216.87)  Kelvin(962.859)     Kelvin(3372.64)  Kelvin(496.179)\n",
       " Kelvin(2916.09)  Kelvin(3360.53)     Kelvin(4682.29)  Kelvin(4728.44)\n",
       " Kelvin(568.226)  Kelvin(2594.09)     Kelvin(1744.72)  Kelvin(3309.55)\n",
       " Kelvin(358.942)  Kelvin(4916.77)     Kelvin(4754.92)  Kelvin(4052.15)\n",
       "\n",
       "[:, :, 300] =\n",
       " Kelvin(977.598)  Kelvin(4320.9)   …  Kelvin(2459.85)  Kelvin(4228.75)\n",
       " Kelvin(1229.8)   Kelvin(1821.58)     Kelvin(346.661)  Kelvin(3786.29)\n",
       " Kelvin(4670.68)  Kelvin(2467.92)     Kelvin(2145.25)  Kelvin(702.27) \n",
       " Kelvin(2649.01)  Kelvin(93.6368)     Kelvin(2712.37)  Kelvin(2633.04)\n",
       " Kelvin(901.513)  Kelvin(2825.34)     Kelvin(3070.94)  Kelvin(1097.81)\n",
       " Kelvin(2559.28)  Kelvin(793.229)  …  Kelvin(2479.12)  Kelvin(1022.61)\n",
       " Kelvin(2255.47)  Kelvin(4587.29)     Kelvin(299.898)  Kelvin(1663.84)\n",
       " Kelvin(2243.33)  Kelvin(2162.23)     Kelvin(655.558)  Kelvin(1853.43)\n",
       " Kelvin(246.245)  Kelvin(482.873)     Kelvin(4642.75)  Kelvin(92.9513)\n",
       " Kelvin(328.077)  Kelvin(3498.48)     Kelvin(1955.69)  Kelvin(3520.31)\n",
       " Kelvin(3463.57)  Kelvin(3114.66)  …  Kelvin(2253.9)   Kelvin(3933.66)\n",
       " Kelvin(1394.57)  Kelvin(3966.33)     Kelvin(4828.67)  Kelvin(2095.9) \n",
       " Kelvin(3770.35)  Kelvin(1384.79)     Kelvin(3816.51)  Kelvin(567.312)\n",
       " ⋮                                 ⋱                                  \n",
       " Kelvin(3520.36)  Kelvin(2092.76)     Kelvin(4361.06)  Kelvin(1628.69)\n",
       " Kelvin(2393.7)   Kelvin(1016.81)     Kelvin(1153.72)  Kelvin(4736.99)\n",
       " Kelvin(123.56)   Kelvin(4394.98)  …  Kelvin(2298.93)  Kelvin(4789.57)\n",
       " Kelvin(2441.18)  Kelvin(4621.25)     Kelvin(1087.74)  Kelvin(2983.98)\n",
       " Kelvin(3360.88)  Kelvin(4022.12)     Kelvin(749.892)  Kelvin(2150.6) \n",
       " Kelvin(4808.2)   Kelvin(2350.15)     Kelvin(4470.02)  Kelvin(151.754)\n",
       " Kelvin(1535.82)  Kelvin(1132.78)     Kelvin(4016.99)  Kelvin(3803.47)\n",
       " Kelvin(4620.5)   Kelvin(3010.94)  …  Kelvin(2710.69)  Kelvin(4315.74)\n",
       " Kelvin(755.758)  Kelvin(1747.3)      Kelvin(835.623)  Kelvin(3640.35)\n",
       " Kelvin(4382.29)  Kelvin(4402.98)     Kelvin(2891.5)   Kelvin(2354.78)\n",
       " Kelvin(1679.24)  Kelvin(2959.95)     Kelvin(242.852)  Kelvin(1815.44)\n",
       " Kelvin(1680.9)   Kelvin(3934.96)     Kelvin(1349.44)  Kelvin(2648.47)"
      ]
     },
     "execution_count": 28,
     "metadata": {},
     "output_type": "execute_result"
    }
   ],
   "source": [
    "rand(Kelvin, 100, 200, 300)"
   ]
  }
 ],
 "metadata": {
  "@webio": {
   "lastCommId": "2bd147ecb5c74f249d6624a64ec9a0c9",
   "lastKernelId": "719a8b8a-4c66-4add-b6a9-125ced4f69d1"
  },
  "celltoolbar": "Slideshow",
  "kernelspec": {
   "display_name": "Julia 1.1.0",
   "language": "julia",
   "name": "julia-1.1"
  },
  "language_info": {
   "file_extension": ".jl",
   "mimetype": "application/julia",
   "name": "julia",
   "version": "1.1.0"
  }
 },
 "nbformat": 4,
 "nbformat_minor": 2
}
